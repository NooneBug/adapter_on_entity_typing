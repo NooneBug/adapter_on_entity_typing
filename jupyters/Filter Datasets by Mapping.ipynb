{
 "cells": [
  {
   "cell_type": "code",
   "execution_count": 1,
   "metadata": {},
   "outputs": [],
   "source": [
    "import json\n",
    "from tqdm import tqdm"
   ]
  },
  {
   "cell_type": "code",
   "execution_count": 2,
   "metadata": {},
   "outputs": [],
   "source": [
    "def filter_label(original_label, mapping_dict):\n",
    "    if mapping_dict[original_label]:\n",
    "        return [original_label]\n",
    "    else:\n",
    "        return []\n",
    "def filter_all_labels(original_labels, mapping_dict):\n",
    "    new_labels = []\n",
    "    for t in original_labels:\n",
    "        new_labels.extend(filter_label(t, mapping_dict))\n",
    "    return new_labels"
   ]
  },
  {
   "cell_type": "code",
   "execution_count": 8,
   "metadata": {},
   "outputs": [],
   "source": [
    "def filter_data(data, mapping):\n",
    "    N = 3\n",
    "    i = 0\n",
    "    new_data = []\n",
    "    for l in tqdm(data):\n",
    "        new_types = [ty for t in l['y_str'] for ty in mapping[t] if t in mapping]\n",
    "        new_line = {k:v for k, v in l.items() if k != 'y_str'}\n",
    "        new_line['y_str'] = new_types\n",
    "        new_line['original_types'] = l['y_str']\n",
    "        new_line['original_types_only_mapped'] = filter_all_labels(l['y_str'], mapping)\n",
    "        if len(new_types) > 0:\n",
    "            new_data.append(new_line)\n",
    "            if i < N:\n",
    "                print('{}, {}'.format(new_types, l['y_str']))\n",
    "                i +=1\n",
    "    return new_data"
   ]
  },
  {
   "cell_type": "markdown",
   "metadata": {},
   "source": [
    "# Filter BBN"
   ]
  },
  {
   "cell_type": "code",
   "execution_count": 5,
   "metadata": {},
   "outputs": [],
   "source": [
    "with open('/datahdd/vmanuel/entity_typing_all_datasets/data/BBN/BBN/train_partitioned.json', 'r') as inp:\n",
    "    train_lines = [json.loads(t) for t in inp.readlines()]\n",
    "with open('/datahdd/vmanuel/entity_typing_all_datasets/data/BBN/BBN/dev_partitioned.json', 'r') as inp:\n",
    "    dev_lines = [json.loads(t) for t in inp.readlines()]\n",
    "with open('/datahdd/vmanuel/entity_typing_all_datasets/data/BBN/BBN/test_tree.json', 'r') as inp:\n",
    "    test_lines = [json.loads(t) for t in inp.readlines()]"
   ]
  },
  {
   "cell_type": "code",
   "execution_count": 6,
   "metadata": {},
   "outputs": [],
   "source": [
    "from collections import defaultdict\n",
    "\n",
    "bbn_mappings = {'FIGER': defaultdict(list), 'choi': defaultdict(list), 'OntoNotes': defaultdict(list)}\n",
    "\n",
    "with open('/datahdd/vmanuel/entity_typing_all_datasets/data/entity_typing_original_datasets/BBN_mappings.csv', 'r') as inp:\n",
    "    lines = [l.replace('\\n', '') for l in inp.readlines()]\n",
    "    for l in lines[1:]:\n",
    "        splitted = l.split(',')\n",
    "        if splitted[1] != '-':\n",
    "            bbn_mappings['OntoNotes'][splitted[0]].append(splitted[1])\n",
    "        if splitted[2] != '-':\n",
    "            bbn_mappings['FIGER'][splitted[0]].append(splitted[2])\n",
    "        if splitted[3] != '-':\n",
    "            bbn_mappings['choi'][splitted[0]].append(splitted[3])"
   ]
  },
  {
   "cell_type": "code",
   "execution_count": 7,
   "metadata": {
    "scrolled": false
   },
   "outputs": [
    {
     "data": {
      "text/plain": [
       "{'FIGER': defaultdict(list,\n",
       "             {'/ANIMAL': ['/livingthing/animal'],\n",
       "              '/DISEASE': ['/disease'],\n",
       "              '/EVENT': ['/event'],\n",
       "              '/EVENT/HURRICANE': ['/event/natural_disaster'],\n",
       "              '/EVENT/WAR': ['/event/military_conflict'],\n",
       "              '/FACILITY': ['/location'],\n",
       "              '/FACILITY/AIRPORT': ['/building/airport'],\n",
       "              '/FACILITY/BRIDGE': ['/location/bridge'],\n",
       "              '/FACILITY/BUILDING': ['/building'],\n",
       "              '/FACILITY/HIGHWAY_STREET': ['/transportation/road'],\n",
       "              '/GAME': ['/game'],\n",
       "              '/GPE/CITY': ['/location/city'],\n",
       "              '/GPE/COUNTRY': ['/location/country'],\n",
       "              '/GPE/STATE_PROVINCE': ['/location/province'],\n",
       "              '/LANGUAGE': ['/language'],\n",
       "              '/LAW': ['/law'],\n",
       "              '/LOCATION': ['/location'],\n",
       "              '/LOCATION/LAKE_SEA_OCEAN': ['/location/body_of_water'],\n",
       "              '/LOCATION/RIVER': ['/location/body_of_water'],\n",
       "              '/ORGANIZATION': ['/organization'],\n",
       "              '/ORGANIZATION/CORPORATION': ['/organization/company'],\n",
       "              '/ORGANIZATION/EDUCATIONAL': ['/organization/educational_institution'],\n",
       "              '/ORGANIZATION/GOVERNMENT': ['/government'],\n",
       "              '/ORGANIZATION/HOSPITAL': ['/building/hospital'],\n",
       "              '/ORGANIZATION/HOTEL': ['/building/hotel'],\n",
       "              '/ORGANIZATION/MUSEUM': ['/organization/educational_institution'],\n",
       "              '/ORGANIZATION/POLITICAL': ['/government/political_party'],\n",
       "              '/ORGANIZATION/RELIGIOUS': ['/religion'],\n",
       "              '/PERSON': ['/person'],\n",
       "              '/PLANT': ['/livingthing', '/living_thing'],\n",
       "              '/PRODUCT': ['/product'],\n",
       "              '/PRODUCT/WEAPON': ['/product/weapon'],\n",
       "              '/SUBSTANCE/FOOD': ['/food'],\n",
       "              '/WORK_OF_ART': ['/art'],\n",
       "              '/WORK_OF_ART/BOOK': ['/written_work'],\n",
       "              '/WORK_OF_ART/PLAY': ['/play'],\n",
       "              '/WORK_OF_ART/SONG': ['/music']}),\n",
       " 'OntoNotes': defaultdict(list,\n",
       "             {'/ANIMAL': ['/other/living_thing/animal'],\n",
       "              '/DISEASE': ['/other/health/malady'],\n",
       "              '/EVENT': ['/other/event'],\n",
       "              '/EVENT/HURRICANE': ['/other/event/natural_disaster'],\n",
       "              '/EVENT/WAR': ['/other/event/violent_conflict'],\n",
       "              '/FACILITY': ['/location'],\n",
       "              '/FACILITY/AIRPORT': ['/location/structure/airport'],\n",
       "              '/FACILITY/BRIDGE': ['/location/transit/bridge'],\n",
       "              '/FACILITY/BUILDING': ['/location/structure'],\n",
       "              '/FACILITY/HIGHWAY_STREET': ['/location/transit/road'],\n",
       "              '/GPE/CITY': ['/location/city'],\n",
       "              '/GPE/COUNTRY': ['/location/country'],\n",
       "              '/LANGUAGE': ['/other/language'],\n",
       "              '/LAW': ['/other/legal'],\n",
       "              '/LOCATION': ['/location'],\n",
       "              '/LOCATION/LAKE_SEA_OCEAN': ['/location/geography/body_of_water'],\n",
       "              '/LOCATION/RIVER': ['/location/geography/body_of_water'],\n",
       "              '/ORGANIZATION': ['/organization'],\n",
       "              '/ORGANIZATION/CORPORATION': ['/organization/company'],\n",
       "              '/ORGANIZATION/EDUCATIONAL': ['/organization/education'],\n",
       "              '/ORGANIZATION/GOVERNMENT': ['/organization/government'],\n",
       "              '/ORGANIZATION/HOSPITAL': ['/location/structure/hospital'],\n",
       "              '/ORGANIZATION/HOTEL': ['/location/structure/hotel'],\n",
       "              '/ORGANIZATION/MUSEUM': ['/organization/education'],\n",
       "              '/ORGANIZATION/POLITICAL': ['/organization/political_party'],\n",
       "              '/ORGANIZATION/RELIGIOUS': ['/other/religion'],\n",
       "              '/PERSON': ['/person'],\n",
       "              '/PLANT': ['/other/living_thing'],\n",
       "              '/PRODUCT': ['/other/product'],\n",
       "              '/PRODUCT/WEAPON': ['/other/product/weapon'],\n",
       "              '/SUBSTANCE/DRUG': ['/other/health/treatment'],\n",
       "              '/SUBSTANCE/FOOD': ['/other/food'],\n",
       "              '/WORK_OF_ART': ['/other/art'],\n",
       "              '/WORK_OF_ART/BOOK': ['/other/art/writing'],\n",
       "              '/WORK_OF_ART/PLAY': ['/other/art/stage'],\n",
       "              '/WORK_OF_ART/SONG': ['/other/art/music']}),\n",
       " 'choi': defaultdict(list,\n",
       "             {'/ANIMAL': ['animal'],\n",
       "              '/CONTACT_INFO/url': ['web_page'],\n",
       "              '/DISEASE': ['disease'],\n",
       "              '/EVENT': ['event'],\n",
       "              '/EVENT/HURRICANE': ['hurricane'],\n",
       "              '/EVENT/WAR': ['war'],\n",
       "              '/FACILITY': ['facility'],\n",
       "              '/FACILITY/AIRPORT': ['airport'],\n",
       "              '/FACILITY/ATTRACTION': ['attraction'],\n",
       "              '/FACILITY/BRIDGE': ['bridge'],\n",
       "              '/FACILITY/BUILDING': ['building'],\n",
       "              '/FACILITY/HIGHWAY_STREET': ['highway'],\n",
       "              '/GAME': ['game'],\n",
       "              '/GPE/CITY': ['city'],\n",
       "              '/GPE/COUNTRY': ['country'],\n",
       "              '/GPE/STATE_PROVINCE': ['province'],\n",
       "              '/LANGUAGE': ['language'],\n",
       "              '/LAW': ['law'],\n",
       "              '/LOCATION': ['location'],\n",
       "              '/LOCATION/CONTINENT': ['continent'],\n",
       "              '/LOCATION/LAKE_SEA_OCEAN': ['body_of_water'],\n",
       "              '/LOCATION/REGION': ['region'],\n",
       "              '/LOCATION/RIVER': ['river'],\n",
       "              '/ORGANIZATION': ['organization'],\n",
       "              '/ORGANIZATION/CORPORATION': ['corporation'],\n",
       "              '/ORGANIZATION/GOVERNMENT': ['government'],\n",
       "              '/ORGANIZATION/HOSPITAL': ['hospital'],\n",
       "              '/ORGANIZATION/HOTEL': ['hotel'],\n",
       "              '/ORGANIZATION/MUSEUM': ['museum'],\n",
       "              '/ORGANIZATION/POLITICAL': ['political_party'],\n",
       "              '/ORGANIZATION/RELIGIOUS': ['religious'],\n",
       "              '/PERSON': ['person'],\n",
       "              '/PLANT': ['plant'],\n",
       "              '/PRODUCT': ['product'],\n",
       "              '/PRODUCT/VEHICLE': ['vehicle'],\n",
       "              '/PRODUCT/WEAPON': ['weapon'],\n",
       "              '/SUBSTANCE': ['substance'],\n",
       "              '/SUBSTANCE/CHEMICAL': ['chemical_substance'],\n",
       "              '/SUBSTANCE/DRUG': ['drug'],\n",
       "              '/SUBSTANCE/FOOD': ['food'],\n",
       "              '/WORK_OF_ART/BOOK': ['book'],\n",
       "              '/WORK_OF_ART/PLAY': ['play'],\n",
       "              '/WORK_OF_ART/SONG': ['song']})}"
      ]
     },
     "execution_count": 7,
     "metadata": {},
     "output_type": "execute_result"
    }
   ],
   "source": [
    "bbn_mappings"
   ]
  },
  {
   "cell_type": "markdown",
   "metadata": {},
   "source": [
    "## BBN into FIGER"
   ]
  },
  {
   "cell_type": "code",
   "execution_count": 8,
   "metadata": {
    "scrolled": true
   },
   "outputs": [
    {
     "name": "stdout",
     "output_type": "stream",
     "text": [
      "['/livingthing', '/living_thing', '/product', '/food'], ['/PLANT', '/PRODUCT', '/SUBSTANCE', '/SUBSTANCE/FOOD']\n",
      "['/organization/company', '/art', '/organization', '/written_work'], ['/ORGANIZATION/CORPORATION', '/WORK_OF_ART', '/ORGANIZATION', '/WORK_OF_ART/BOOK']\n",
      "['/disease'], ['/DISEASE']\n"
     ]
    }
   ],
   "source": [
    "train_bbn_into_figer = filter_data(data=train_lines, mapping=bbn_mappings['FIGER'])"
   ]
  },
  {
   "cell_type": "code",
   "execution_count": 10,
   "metadata": {},
   "outputs": [
    {
     "name": "stderr",
     "output_type": "stream",
     "text": [
      "100%|██████████| 79340/79340 [00:06<00:00, 12038.08it/s]\n"
     ]
    }
   ],
   "source": [
    "with open('/datahdd/vmanuel/entity_typing_all_datasets/data/entity_typing_original_datasets/mapped_datasets/train_BBN_into_FIGER.json', 'w') as out:\n",
    "    for l in tqdm(train_bbn_into_figer):\n",
    "        json.dump(l, out)\n",
    "        out.write('\\n')"
   ]
  },
  {
   "cell_type": "code",
   "execution_count": 11,
   "metadata": {},
   "outputs": [
    {
     "name": "stdout",
     "output_type": "stream",
     "text": [
      "['/person'], ['/PERSON']\n",
      "['/location/country', '/location/city', '/location'], ['/GPE/COUNTRY', '/GPE/CITY', '/GPE', '/LOCATION']\n",
      "['/organization/company', '/organization'], ['/ORGANIZATION/CORPORATION', '/ORGANIZATION']\n"
     ]
    }
   ],
   "source": [
    "dev_bbn_into_figer = filter_data(data=dev_lines, mapping=bbn_mappings['FIGER'])"
   ]
  },
  {
   "cell_type": "code",
   "execution_count": 12,
   "metadata": {},
   "outputs": [
    {
     "name": "stderr",
     "output_type": "stream",
     "text": [
      "100%|██████████| 1615/1615 [00:00<00:00, 13449.50it/s]\n"
     ]
    }
   ],
   "source": [
    "with open('/datahdd/vmanuel/entity_typing_all_datasets/data/entity_typing_original_datasets/mapped_datasets/dev_BBN_into_FIGER.json', 'w') as out:\n",
    "    for l in tqdm(dev_bbn_into_figer):\n",
    "        json.dump(l, out)\n",
    "        out.write('\\n')"
   ]
  },
  {
   "cell_type": "code",
   "execution_count": 13,
   "metadata": {},
   "outputs": [
    {
     "name": "stdout",
     "output_type": "stream",
     "text": [
      "['/person'], ['/PERSON']\n",
      "['/person'], ['/PERSON']\n",
      "['/organization/company', '/organization'], ['/ORGANIZATION/CORPORATION', '/ORGANIZATION']\n"
     ]
    }
   ],
   "source": [
    "test_bbn_into_figer = filter_data(data=test_lines, mapping=bbn_mappings['FIGER'])"
   ]
  },
  {
   "cell_type": "code",
   "execution_count": 14,
   "metadata": {},
   "outputs": [
    {
     "name": "stderr",
     "output_type": "stream",
     "text": [
      "100%|██████████| 11811/11811 [00:00<00:00, 12409.79it/s]\n"
     ]
    }
   ],
   "source": [
    "with open('/datahdd/vmanuel/entity_typing_all_datasets/data/entity_typing_original_datasets/mapped_datasets/test_BBN_into_FIGER.json', 'w') as out:\n",
    "    for l in tqdm(test_bbn_into_figer):\n",
    "        json.dump(l, out)\n",
    "        out.write('\\n')"
   ]
  },
  {
   "cell_type": "code",
   "execution_count": 15,
   "metadata": {},
   "outputs": [
    {
     "name": "stdout",
     "output_type": "stream",
     "text": [
      "BBN into FIGER\n",
      "original_dev: 1721, original_test: 12349, mapped_dev:1615, mapped_test:11811\n"
     ]
    }
   ],
   "source": [
    "print('BBN into FIGER')\n",
    "print(\"original_dev: {}, original_test: {}, mapped_dev:{}, mapped_test:{}\".format(len(dev_lines), \n",
    "                                                                                    len(test_lines),\n",
    "                                                                                    len(dev_bbn_into_figer),\n",
    "                                                                                    len(test_bbn_into_figer)))"
   ]
  },
  {
   "cell_type": "code",
   "execution_count": 23,
   "metadata": {},
   "outputs": [],
   "source": [
    "with open('/datahdd/vmanuel/entity_typing_all_datasets/data/entity_typing_original_datasets/mapped_datasets/test_BBN_into_FIGER.json', 'w') as out:\n",
    "    for l in new_test:\n",
    "        json.dump(l, out)\n",
    "        out.write('\\n')"
   ]
  },
  {
   "cell_type": "markdown",
   "metadata": {},
   "source": [
    "## BBN into OntoNotes"
   ]
  },
  {
   "cell_type": "code",
   "execution_count": 16,
   "metadata": {
    "scrolled": true
   },
   "outputs": [
    {
     "name": "stdout",
     "output_type": "stream",
     "text": [
      "['/other/living_thing', '/other/product', '/other/food'], ['/PLANT', '/PRODUCT', '/SUBSTANCE', '/SUBSTANCE/FOOD']\n",
      "['/organization/company', '/other/art', '/organization', '/other/art/writing'], ['/ORGANIZATION/CORPORATION', '/WORK_OF_ART', '/ORGANIZATION', '/WORK_OF_ART/BOOK']\n",
      "['/other/health/malady'], ['/DISEASE']\n"
     ]
    }
   ],
   "source": [
    "train_bbn_into_onto = filter_data(data=train_lines, mapping=bbn_mappings['OntoNotes'])"
   ]
  },
  {
   "cell_type": "code",
   "execution_count": 17,
   "metadata": {},
   "outputs": [
    {
     "name": "stderr",
     "output_type": "stream",
     "text": [
      "100%|██████████| 80877/80877 [00:06<00:00, 13317.06it/s]\n"
     ]
    }
   ],
   "source": [
    "with open('/datahdd/vmanuel/entity_typing_all_datasets/data/entity_typing_original_datasets/mapped_datasets/train_BBN_into_Ontonotes.json', 'w') as out:\n",
    "    for l in tqdm(train_bbn_into_onto):\n",
    "        json.dump(l, out)\n",
    "        out.write('\\n')"
   ]
  },
  {
   "cell_type": "code",
   "execution_count": 18,
   "metadata": {},
   "outputs": [
    {
     "name": "stdout",
     "output_type": "stream",
     "text": [
      "['/person'], ['/PERSON']\n",
      "['/location/country', '/location/city', '/location'], ['/GPE/COUNTRY', '/GPE/CITY', '/GPE', '/LOCATION']\n",
      "['/organization/company', '/organization'], ['/ORGANIZATION/CORPORATION', '/ORGANIZATION']\n"
     ]
    }
   ],
   "source": [
    "dev_bbn_into_onto = filter_data(data=dev_lines, mapping=bbn_mappings['OntoNotes'])"
   ]
  },
  {
   "cell_type": "code",
   "execution_count": 19,
   "metadata": {},
   "outputs": [
    {
     "name": "stderr",
     "output_type": "stream",
     "text": [
      "100%|██████████| 1645/1645 [00:00<00:00, 12278.95it/s]\n"
     ]
    }
   ],
   "source": [
    "with open('/datahdd/vmanuel/entity_typing_all_datasets/data/entity_typing_original_datasets/mapped_datasets/dev_BBN_into_Ontonotes.json', 'w') as out:\n",
    "    for l in tqdm(dev_bbn_into_onto):\n",
    "        json.dump(l, out)\n",
    "        out.write('\\n')"
   ]
  },
  {
   "cell_type": "code",
   "execution_count": 21,
   "metadata": {},
   "outputs": [
    {
     "name": "stdout",
     "output_type": "stream",
     "text": [
      "['/person'], ['/PERSON']\n",
      "['/person'], ['/PERSON']\n",
      "['/organization/company', '/organization'], ['/ORGANIZATION/CORPORATION', '/ORGANIZATION']\n"
     ]
    }
   ],
   "source": [
    "test_bbn_into_onto = filter_data(data=test_lines, mapping=bbn_mappings['OntoNotes'])"
   ]
  },
  {
   "cell_type": "code",
   "execution_count": 22,
   "metadata": {},
   "outputs": [
    {
     "name": "stderr",
     "output_type": "stream",
     "text": [
      "100%|██████████| 11483/11483 [00:00<00:00, 12314.74it/s]\n"
     ]
    }
   ],
   "source": [
    "with open('/datahdd/vmanuel/entity_typing_all_datasets/data/entity_typing_original_datasets/mapped_datasets/test_BBN_into_Ontonotes.json', 'w') as out:\n",
    "    for l in tqdm(test_bbn_into_onto):\n",
    "        json.dump(l, out)\n",
    "        out.write('\\n')"
   ]
  },
  {
   "cell_type": "code",
   "execution_count": 15,
   "metadata": {},
   "outputs": [
    {
     "name": "stdout",
     "output_type": "stream",
     "text": [
      "BBN into FIGER\n",
      "original_dev: 1721, original_test: 12349, mapped_dev:1615, mapped_test:11811\n"
     ]
    }
   ],
   "source": [
    "print('BBN into FIGER')\n",
    "print(\"original_dev: {}, original_test: {}, mapped_dev:{}, mapped_test:{}\".format(len(dev_lines), \n",
    "                                                                                    len(test_lines),\n",
    "                                                                                    len(dev_bbn_into_figer),\n",
    "                                                                                    len(test_bbn_into_figer)))"
   ]
  },
  {
   "cell_type": "markdown",
   "metadata": {},
   "source": [
    "## BBN into Choi"
   ]
  },
  {
   "cell_type": "code",
   "execution_count": 23,
   "metadata": {
    "scrolled": true
   },
   "outputs": [
    {
     "name": "stdout",
     "output_type": "stream",
     "text": [
      "['plant', 'product', 'substance', 'food'], ['/PLANT', '/PRODUCT', '/SUBSTANCE', '/SUBSTANCE/FOOD']\n",
      "['corporation', 'organization', 'book'], ['/ORGANIZATION/CORPORATION', '/WORK_OF_ART', '/ORGANIZATION', '/WORK_OF_ART/BOOK']\n",
      "['disease'], ['/DISEASE']\n"
     ]
    }
   ],
   "source": [
    "train_bbn_into_choi = filter_data(data=train_lines, mapping=bbn_mappings['choi'])"
   ]
  },
  {
   "cell_type": "code",
   "execution_count": 24,
   "metadata": {},
   "outputs": [
    {
     "name": "stderr",
     "output_type": "stream",
     "text": [
      "100%|██████████| 83198/83198 [00:06<00:00, 13574.45it/s]\n"
     ]
    }
   ],
   "source": [
    "with open('/datahdd/vmanuel/entity_typing_all_datasets/data/entity_typing_original_datasets/mapped_datasets/train_BBN_into_choi.json', 'w') as out:\n",
    "    for l in tqdm(train_bbn_into_choi):\n",
    "        json.dump(l, out)\n",
    "        out.write('\\n')"
   ]
  },
  {
   "cell_type": "code",
   "execution_count": 25,
   "metadata": {},
   "outputs": [
    {
     "name": "stdout",
     "output_type": "stream",
     "text": [
      "['person'], ['/PERSON']\n",
      "['country', 'city', 'location'], ['/GPE/COUNTRY', '/GPE/CITY', '/GPE', '/LOCATION']\n",
      "['corporation', 'organization'], ['/ORGANIZATION/CORPORATION', '/ORGANIZATION']\n"
     ]
    }
   ],
   "source": [
    "dev_bbn_into_choi = filter_data(data=dev_lines, mapping=bbn_mappings['choi'])"
   ]
  },
  {
   "cell_type": "code",
   "execution_count": 26,
   "metadata": {},
   "outputs": [
    {
     "name": "stderr",
     "output_type": "stream",
     "text": [
      "100%|██████████| 1699/1699 [00:00<00:00, 12536.63it/s]\n"
     ]
    }
   ],
   "source": [
    "with open('/datahdd/vmanuel/entity_typing_all_datasets/data/entity_typing_original_datasets/mapped_datasets/dev_BBN_into_choi.json', 'w') as out:\n",
    "    for l in tqdm(dev_bbn_into_choi):\n",
    "        json.dump(l, out)\n",
    "        out.write('\\n')"
   ]
  },
  {
   "cell_type": "code",
   "execution_count": 28,
   "metadata": {},
   "outputs": [
    {
     "name": "stdout",
     "output_type": "stream",
     "text": [
      "['person'], ['/PERSON']\n",
      "['person'], ['/PERSON']\n",
      "['corporation', 'organization'], ['/ORGANIZATION/CORPORATION', '/ORGANIZATION']\n"
     ]
    }
   ],
   "source": [
    "test_bbn_into_choi = filter_data(data=test_lines, mapping=bbn_mappings['choi'])"
   ]
  },
  {
   "cell_type": "code",
   "execution_count": 29,
   "metadata": {},
   "outputs": [
    {
     "name": "stderr",
     "output_type": "stream",
     "text": [
      "100%|██████████| 12156/12156 [00:00<00:00, 12407.37it/s]\n"
     ]
    }
   ],
   "source": [
    "with open('/datahdd/vmanuel/entity_typing_all_datasets/data/entity_typing_original_datasets/mapped_datasets/test_BBN_into_choi.json', 'w') as out:\n",
    "    for l in tqdm(test_bbn_into_choi):\n",
    "        json.dump(l, out)\n",
    "        out.write('\\n')"
   ]
  },
  {
   "cell_type": "code",
   "execution_count": 14,
   "metadata": {},
   "outputs": [
    {
     "name": "stdout",
     "output_type": "stream",
     "text": [
      "BBN into choi\n",
      "original_dev: 1721, original_test: 12349, mapped_dev:1699, mapped_test:12156\n"
     ]
    }
   ],
   "source": [
    "print('BBN into choi')\n",
    "print(\"original_dev: {}, original_test: {}, mapped_dev:{}, mapped_test:{}\".format(len(dev_lines), \n",
    "                                                                                    len(test_lines),\n",
    "                                                                                    len(new_dev),\n",
    "                                                                                    len(new_test)))"
   ]
  },
  {
   "cell_type": "markdown",
   "metadata": {},
   "source": [
    "# Filter OntoNotes"
   ]
  },
  {
   "cell_type": "code",
   "execution_count": 30,
   "metadata": {},
   "outputs": [],
   "source": [
    "with open('/datahdd/vmanuel/entity_typing_all_datasets/data/entity_typing_original_datasets/ontonotes/g_train_tree.json', 'r') as inp:\n",
    "    train_lines = [json.loads(t) for t in inp.readlines()]\n",
    "with open('/datahdd/vmanuel/entity_typing_all_datasets/data/entity_typing_original_datasets/ontonotes/g_dev_tree.json', 'r') as inp:\n",
    "    dev_lines = [json.loads(t) for t in inp.readlines()]\n",
    "with open('/datahdd/vmanuel/entity_typing_all_datasets/data/entity_typing_original_datasets/ontonotes/g_test_tree_lines.json', 'r') as inp:\n",
    "    test_lines = [json.loads(t) for t in inp.readlines()]"
   ]
  },
  {
   "cell_type": "code",
   "execution_count": 31,
   "metadata": {},
   "outputs": [],
   "source": [
    "from collections import defaultdict\n",
    "\n",
    "ontonotes_mappings = {'FIGER': defaultdict(list), 'choi': defaultdict(list), 'BBN': defaultdict(list)}\n",
    "\n",
    "with open('/datahdd/vmanuel/entity_typing_all_datasets/data/entity_typing_original_datasets/OntoNotes_mappings.csv', 'r') as inp:\n",
    "    lines = [l.replace('\\n', '') for l in inp.readlines()]\n",
    "    for l in lines[1:]:\n",
    "        splitted = l.split(',')\n",
    "        if splitted[1] != '-':\n",
    "            ontonotes_mappings['BBN'][splitted[0]].append(splitted[1])\n",
    "        if splitted[2] != '-':\n",
    "            ontonotes_mappings['FIGER'][splitted[0]].append(splitted[2])\n",
    "        if splitted[3] != '-':\n",
    "            ontonotes_mappings['choi'][splitted[0]].append(splitted[3])"
   ]
  },
  {
   "cell_type": "code",
   "execution_count": 32,
   "metadata": {},
   "outputs": [
    {
     "data": {
      "text/plain": [
       "{'BBN': defaultdict(list,\n",
       "             {'/location': ['/LOCATION'],\n",
       "              '/location/city': ['/GPE/CITY'],\n",
       "              '/location/country': ['/GPE/COUNTRY'],\n",
       "              '/location/structure/airport': ['/FACILITY/AIRPORT'],\n",
       "              '/location/structure/government': ['/ORGANIZATION/GOVERNMENT'],\n",
       "              '/location/structure/hospital': ['/ORGANIZATION/HOSPITAL'],\n",
       "              '/location/structure/hotel': ['/ORGANIZATION/HOTEL'],\n",
       "              '/location/transit/bridge': ['/FACILITY/BRIDGE'],\n",
       "              '/organization': ['/ORGANIZATION'],\n",
       "              '/organization/company': ['/ORGANIZATION/CORPORATION'],\n",
       "              '/organization/education': ['/ORGANIZATION/EDUCATIONAL'],\n",
       "              '/organization/government': ['/ORGANIZATION/GOVERNMENT'],\n",
       "              '/organization/political_party': ['/ORGANIZATION/POLITICAL'],\n",
       "              '/other/art': ['/WORK_OF_ART'],\n",
       "              '/other/art/film': ['/WORK_OF_ART/PLAY'],\n",
       "              '/other/art/music': ['/WORK_OF_ART/SONG'],\n",
       "              '/other/art/stage': ['/WORK_OF_ART/PLAY'],\n",
       "              '/other/art/writing': ['/WORK_OF_ART/BOOK'],\n",
       "              '/other/event': ['/EVENT'],\n",
       "              '/other/event/violent_conflict': ['/EVENT/WAR'],\n",
       "              '/other/food': ['/SUBSTANCE/FOOD'],\n",
       "              '/other/health/malady': ['/DISEASE'],\n",
       "              '/other/health/treatment': ['/SUBSTANCE/DRUG'],\n",
       "              '/other/language': ['/LANGUAGE'],\n",
       "              '/other/legal': ['/LAW'],\n",
       "              '/other/living_thing/animal': ['/ANIMAL'],\n",
       "              '/other/product': ['/PRODUCT'],\n",
       "              '/other/product/car': ['/PRODUCT/VEHICLE'],\n",
       "              '/other/product/weapon': ['/PRODUCT/WEAPON'],\n",
       "              '/other/religion': ['/ORGANIZATION/RELIGIOUS'],\n",
       "              '/person': ['/PERSON']}),\n",
       " 'FIGER': defaultdict(list,\n",
       "             {'/location': ['/location'],\n",
       "              '/location/city': ['/location/city'],\n",
       "              '/location/country': ['/location/country'],\n",
       "              '/location/geography': ['/geography'],\n",
       "              '/location/geography/body_of_water': ['/location/body_of_water'],\n",
       "              '/location/geography/island': ['/geography/island'],\n",
       "              '/location/geography/mountain': ['/geography/mountain'],\n",
       "              '/location/geograpy': ['/geography'],\n",
       "              '/location/geograpy/island': ['/geography/island'],\n",
       "              '/location/park': ['/park'],\n",
       "              '/location/structure/airport': ['/building/airport'],\n",
       "              '/location/structure/government': ['/government'],\n",
       "              '/location/structure/hospital': ['/building/hospital'],\n",
       "              '/location/structure/hotel': ['/building/hotel'],\n",
       "              '/location/structure/restaurant': ['/building/restaurant'],\n",
       "              '/location/structure/sports_facility': ['/building/sports_facility'],\n",
       "              '/location/structure/theater': ['/building/theater'],\n",
       "              '/location/transit': ['/transit'],\n",
       "              '/location/transit/bridge': ['/location/bridge'],\n",
       "              '/location/transit/railway': ['/rail/railway'],\n",
       "              '/location/transit/road': ['/transportation/road'],\n",
       "              '/organization': ['/organization'],\n",
       "              '/organization/company': ['/organization/company'],\n",
       "              '/organization/company/news': ['/news_agency'],\n",
       "              '/organization/education': ['/organization/educational_institution'],\n",
       "              '/organization/government': ['/government'],\n",
       "              '/organization/military': ['/military'],\n",
       "              '/organization/political_party': ['/government/political_party'],\n",
       "              '/organization/sports_league': ['/organization/sports_league'],\n",
       "              '/organization/sports_team': ['/organization/sports_team'],\n",
       "              '/organization/stock_exchange': ['/finance/stock_exchange'],\n",
       "              '/other/art': ['/art', '/visual_art'],\n",
       "              '/other/art/broadcast': ['/broadcast'],\n",
       "              '/other/art/film': ['/art/film'],\n",
       "              '/other/art/music': ['/music'],\n",
       "              '/other/art/stage': ['/play'],\n",
       "              '/other/art/writing': ['/written_work'],\n",
       "              '/other/award': ['/award'],\n",
       "              '/other/body_part': ['/body_part'],\n",
       "              '/other/currency': ['/finance/currency'],\n",
       "              '/other/event': ['/event'],\n",
       "              '/other/event/election': ['/event/election'],\n",
       "              '/other/event/natural_disaster': ['/event/natural_disaster'],\n",
       "              '/other/event/protest': ['/event/protest'],\n",
       "              '/other/event/sports_event': ['/event/sports_event'],\n",
       "              '/other/event/violent_conflict': ['/event/military_conflict'],\n",
       "              '/other/food': ['/food'],\n",
       "              '/other/health/malady': ['/disease'],\n",
       "              '/other/health/treatment': ['/medicine/medical_treatment'],\n",
       "              '/other/internet': ['/internet'],\n",
       "              '/other/language': ['/language'],\n",
       "              '/other/language/programming_language': ['/computer/programming_language'],\n",
       "              '/other/legal': ['/law'],\n",
       "              '/other/living_thing': ['/livingthing', '/living_thing'],\n",
       "              '/other/living_thing/animal': ['/livingthing/animal'],\n",
       "              '/other/product': ['/product'],\n",
       "              '/other/product/car': ['/product/car'],\n",
       "              '/other/product/computer': ['/product/computer'],\n",
       "              '/other/product/mobile_phone': ['/product/mobile_phone'],\n",
       "              '/other/product/software': ['/software'],\n",
       "              '/other/product/weapon': ['/product/weapon'],\n",
       "              '/other/religion': ['/religion'],\n",
       "              '/person': ['/person'],\n",
       "              '/person/artist': ['/person/artist'],\n",
       "              '/person/artist/actor': ['/person/actor'],\n",
       "              '/person/artist/author': ['/person/author'],\n",
       "              '/person/artist/director': ['/person/director'],\n",
       "              '/person/artist/music': ['/person/musician'],\n",
       "              '/person/athlete': ['/person/athlete'],\n",
       "              '/person/coach': ['/person/coach'],\n",
       "              '/person/doctor': ['/person/doctor'],\n",
       "              '/person/military': ['/person/soldier'],\n",
       "              '/person/political_figure': ['/person/politician'],\n",
       "              '/person/religious_leader': ['/person/religious_leader'],\n",
       "              '/person/title': ['/title']}),\n",
       " 'choi': defaultdict(list,\n",
       "             {'/location': ['location'],\n",
       "              '/location/celestial': ['celestial_body'],\n",
       "              '/location/city': ['city'],\n",
       "              '/location/country': ['country'],\n",
       "              '/location/geography': ['geography'],\n",
       "              '/location/geography/body_of_water': ['body_of_water'],\n",
       "              '/location/geography/island': ['island'],\n",
       "              '/location/geography/mountain': ['mountain'],\n",
       "              '/location/geograpy': ['geography'],\n",
       "              '/location/geograpy/island': ['island'],\n",
       "              '/location/park': ['park'],\n",
       "              '/location/structure': ['structure'],\n",
       "              '/location/structure/airport': ['airport'],\n",
       "              '/location/structure/government': ['government'],\n",
       "              '/location/structure/hospital': ['hospital'],\n",
       "              '/location/structure/hotel': ['hotel'],\n",
       "              '/location/structure/restaurant': ['restaurant'],\n",
       "              '/location/structure/theater': ['theater', 'theatre'],\n",
       "              '/location/transit': ['transit'],\n",
       "              '/location/transit/bridge': ['bridge'],\n",
       "              '/location/transit/railway': ['railway'],\n",
       "              '/location/transit/road': ['road'],\n",
       "              '/organization': ['organization'],\n",
       "              '/organization/company': ['company'],\n",
       "              '/organization/company/broadcast': ['broadcast'],\n",
       "              '/organization/company/news': ['news'],\n",
       "              '/organization/education': ['education'],\n",
       "              '/organization/government': ['government'],\n",
       "              '/organization/military': ['military'],\n",
       "              '/organization/music': ['music'],\n",
       "              '/organization/political_party': ['political_party'],\n",
       "              '/organization/sports_league': ['league'],\n",
       "              '/organization/stock_exchange': ['stock_exchange'],\n",
       "              '/organization/transit': ['transit'],\n",
       "              '/other/art': ['art'],\n",
       "              '/other/art/broadcast': ['broadcast'],\n",
       "              '/other/art/film': ['film'],\n",
       "              '/other/art/music': ['music'],\n",
       "              '/other/art/stage': ['stage'],\n",
       "              '/other/art/writing': ['writing'],\n",
       "              '/other/award': ['award'],\n",
       "              '/other/body_part': ['body_part'],\n",
       "              '/other/currency': ['currency'],\n",
       "              '/other/event': ['event'],\n",
       "              '/other/event/accident': ['accident'],\n",
       "              '/other/event/holiday': ['holiday'],\n",
       "              '/other/event/natural_disaster': ['natural_disaster'],\n",
       "              '/other/event/protest': ['protest'],\n",
       "              '/other/event/violent_conflict': ['conflict'],\n",
       "              '/other/food': ['food'],\n",
       "              '/other/health': ['health'],\n",
       "              '/other/health/malady': ['disease'],\n",
       "              '/other/health/treatment': ['drug'],\n",
       "              '/other/heritage': ['heritage'],\n",
       "              '/other/internet': ['internet'],\n",
       "              '/other/language': ['language'],\n",
       "              '/other/language/programming_language': ['programming_language'],\n",
       "              '/other/legal': ['legal'],\n",
       "              '/other/living_thing': ['living_thing'],\n",
       "              '/other/living_thing/animal': ['animal'],\n",
       "              '/other/product': ['product'],\n",
       "              '/other/product/car': ['car'],\n",
       "              '/other/product/computer': ['computer'],\n",
       "              '/other/product/mobile_phone': ['cell_phone'],\n",
       "              '/other/product/software': ['software'],\n",
       "              '/other/product/weapon': ['weapon'],\n",
       "              '/other/religion': ['religion'],\n",
       "              '/other/scientific': ['science'],\n",
       "              '/person': ['person'],\n",
       "              '/person/artist': ['artist'],\n",
       "              '/person/artist/actor': ['actor'],\n",
       "              '/person/artist/author': ['author'],\n",
       "              '/person/artist/director': ['director'],\n",
       "              '/person/artist/music': ['music'],\n",
       "              '/person/athlete': ['athlete'],\n",
       "              '/person/coach': ['coach'],\n",
       "              '/person/doctor': ['doctor'],\n",
       "              '/person/legal': ['legal'],\n",
       "              '/person/military': ['military'],\n",
       "              '/person/political_figure': ['politician'],\n",
       "              '/person/religious_leader': ['religious_leader'],\n",
       "              '/person/title': ['title']})}"
      ]
     },
     "execution_count": 32,
     "metadata": {},
     "output_type": "execute_result"
    }
   ],
   "source": [
    "ontonotes_mappings"
   ]
  },
  {
   "cell_type": "markdown",
   "metadata": {},
   "source": [
    "## Ontonotes into BBN"
   ]
  },
  {
   "cell_type": "code",
   "execution_count": 34,
   "metadata": {
    "scrolled": true
   },
   "outputs": [
    {
     "name": "stdout",
     "output_type": "stream",
     "text": [
      "['/PERSON'], ['/person/title', '/person']\n",
      "['/PERSON'], ['/person/athlete', '/person']\n",
      "['/PERSON'], ['/person/athlete', '/person']\n"
     ]
    }
   ],
   "source": [
    "train_onto_into_bbn = filter_data(data=train_lines, mapping=ontonotes_mappings['BBN'])"
   ]
  },
  {
   "cell_type": "code",
   "execution_count": 35,
   "metadata": {},
   "outputs": [
    {
     "name": "stderr",
     "output_type": "stream",
     "text": [
      "100%|██████████| 229362/229362 [00:20<00:00, 11350.70it/s]\n"
     ]
    }
   ],
   "source": [
    "with open('/datahdd/vmanuel/entity_typing_all_datasets/data/entity_typing_original_datasets/mapped_datasets/train_Onto_into_BBN.json', 'w') as out:\n",
    "    for l in tqdm(train_onto_into_bbn):\n",
    "        json.dump(l, out)\n",
    "        out.write('\\n')"
   ]
  },
  {
   "cell_type": "code",
   "execution_count": 36,
   "metadata": {},
   "outputs": [
    {
     "name": "stdout",
     "output_type": "stream",
     "text": [
      "['/LOCATION', '/GPE/COUNTRY'], ['/location', '/location/country']\n",
      "['/LOCATION', '/ORGANIZATION', '/ORGANIZATION/GOVERNMENT'], ['/location', '/location/structure', '/organization', '/organization/government']\n",
      "['/LOCATION', '/ORGANIZATION'], ['/location', '/location/structure', '/organization']\n"
     ]
    }
   ],
   "source": [
    "dev_onto_into_bbn = filter_data(data=dev_lines, mapping=ontonotes_mappings['BBN'])"
   ]
  },
  {
   "cell_type": "code",
   "execution_count": 37,
   "metadata": {},
   "outputs": [
    {
     "name": "stderr",
     "output_type": "stream",
     "text": [
      "100%|██████████| 994/994 [00:00<00:00, 5265.32it/s]\n"
     ]
    }
   ],
   "source": [
    "with open('/datahdd/vmanuel/entity_typing_all_datasets/data/entity_typing_original_datasets/mapped_datasets/dev_Onto_into_BBN.json', 'w') as out:\n",
    "    for l in tqdm(dev_onto_into_bbn):\n",
    "        json.dump(l, out)\n",
    "        out.write('\\n')"
   ]
  },
  {
   "cell_type": "code",
   "execution_count": 38,
   "metadata": {},
   "outputs": [
    {
     "name": "stdout",
     "output_type": "stream",
     "text": [
      "['/ORGANIZATION', '/ORGANIZATION/CORPORATION'], ['/organization', '/organization/company']\n",
      "['/ORGANIZATION', '/ORGANIZATION/CORPORATION'], ['/organization', '/organization/company']\n",
      "['/ORGANIZATION', '/ORGANIZATION/CORPORATION'], ['/organization', '/organization/company']\n"
     ]
    }
   ],
   "source": [
    "test_onto_into_bbn = filter_data(data=test_lines, mapping=ontonotes_mappings['BBN'])"
   ]
  },
  {
   "cell_type": "code",
   "execution_count": 39,
   "metadata": {},
   "outputs": [
    {
     "name": "stderr",
     "output_type": "stream",
     "text": [
      "100%|██████████| 4261/4261 [00:00<00:00, 6626.74it/s]\n"
     ]
    }
   ],
   "source": [
    "with open('/datahdd/vmanuel/entity_typing_all_datasets/data/entity_typing_original_datasets/mapped_datasets/test_Onto_into_BBN.json', 'w') as out:\n",
    "    for l in tqdm(test_onto_into_bbn):\n",
    "        json.dump(l, out)\n",
    "        out.write('\\n')"
   ]
  },
  {
   "cell_type": "markdown",
   "metadata": {},
   "source": [
    "## Ontonotes into FIGER"
   ]
  },
  {
   "cell_type": "code",
   "execution_count": 41,
   "metadata": {
    "scrolled": true
   },
   "outputs": [
    {
     "name": "stdout",
     "output_type": "stream",
     "text": [
      "['/body_part'], ['/other', '/other/body_part']\n",
      "['/title', '/person'], ['/person/title', '/person']\n",
      "['/person/athlete', '/person'], ['/person/athlete', '/person']\n"
     ]
    }
   ],
   "source": [
    "train_onto_into_figer = filter_data(data=train_lines, mapping=ontonotes_mappings['FIGER'])"
   ]
  },
  {
   "cell_type": "code",
   "execution_count": 42,
   "metadata": {},
   "outputs": [
    {
     "name": "stderr",
     "output_type": "stream",
     "text": [
      "100%|██████████| 243909/243909 [00:21<00:00, 11327.95it/s]\n"
     ]
    }
   ],
   "source": [
    "with open('/datahdd/vmanuel/entity_typing_all_datasets/data/entity_typing_original_datasets/mapped_datasets/train_Onto_into_figer.json', 'w') as out:\n",
    "    for l in tqdm(train_onto_into_figer):\n",
    "        json.dump(l, out)\n",
    "        out.write('\\n')"
   ]
  },
  {
   "cell_type": "code",
   "execution_count": 43,
   "metadata": {},
   "outputs": [
    {
     "name": "stdout",
     "output_type": "stream",
     "text": [
      "['/location', '/location/country'], ['/location', '/location/country']\n",
      "['/location', '/organization', '/government'], ['/location', '/location/structure', '/organization', '/organization/government']\n",
      "['/location', '/organization'], ['/location', '/location/structure', '/organization']\n"
     ]
    }
   ],
   "source": [
    "dev_onto_into_figer = filter_data(data=dev_lines, mapping=ontonotes_mappings['FIGER'])"
   ]
  },
  {
   "cell_type": "code",
   "execution_count": 44,
   "metadata": {},
   "outputs": [
    {
     "name": "stderr",
     "output_type": "stream",
     "text": [
      "100%|██████████| 1052/1052 [00:00<00:00, 4783.65it/s]\n"
     ]
    }
   ],
   "source": [
    "with open('/datahdd/vmanuel/entity_typing_all_datasets/data/entity_typing_original_datasets/mapped_datasets/dev_Onto_into_figer.json', 'w') as out:\n",
    "    for l in tqdm(dev_onto_into_figer):\n",
    "        json.dump(l, out)\n",
    "        out.write('\\n')"
   ]
  },
  {
   "cell_type": "code",
   "execution_count": 45,
   "metadata": {},
   "outputs": [
    {
     "name": "stdout",
     "output_type": "stream",
     "text": [
      "['/organization', '/organization/company'], ['/organization', '/organization/company']\n",
      "['/organization', '/organization/company'], ['/organization', '/organization/company']\n",
      "['/organization', '/organization/company'], ['/organization', '/organization/company']\n"
     ]
    }
   ],
   "source": [
    "test_onto_into_figer = filter_data(data=test_lines, mapping=ontonotes_mappings['FIGER'])"
   ]
  },
  {
   "cell_type": "code",
   "execution_count": 46,
   "metadata": {},
   "outputs": [
    {
     "name": "stderr",
     "output_type": "stream",
     "text": [
      "100%|██████████| 4475/4475 [00:00<00:00, 6779.21it/s]\n"
     ]
    }
   ],
   "source": [
    "with open('/datahdd/vmanuel/entity_typing_all_datasets/data/entity_typing_original_datasets/mapped_datasets/test_Onto_into_figer.json', 'w') as out:\n",
    "    for l in tqdm(test_onto_into_figer):\n",
    "        json.dump(l, out)\n",
    "        out.write('\\n')"
   ]
  },
  {
   "cell_type": "markdown",
   "metadata": {},
   "source": [
    "## Onto into Choi"
   ]
  },
  {
   "cell_type": "code",
   "execution_count": 47,
   "metadata": {
    "scrolled": true
   },
   "outputs": [
    {
     "name": "stdout",
     "output_type": "stream",
     "text": [
      "['body_part'], ['/other', '/other/body_part']\n",
      "['title', 'person'], ['/person/title', '/person']\n",
      "['athlete', 'person'], ['/person/athlete', '/person']\n"
     ]
    }
   ],
   "source": [
    "train_onto_into_choi = filter_data(data=train_lines, mapping=ontonotes_mappings['choi'])"
   ]
  },
  {
   "cell_type": "code",
   "execution_count": 48,
   "metadata": {},
   "outputs": [
    {
     "name": "stderr",
     "output_type": "stream",
     "text": [
      "100%|██████████| 249244/249244 [00:21<00:00, 11599.67it/s]\n"
     ]
    }
   ],
   "source": [
    "with open('/datahdd/vmanuel/entity_typing_all_datasets/data/entity_typing_original_datasets/mapped_datasets/train_Onto_into_choi.json', 'w') as out:\n",
    "    for l in tqdm(train_onto_into_choi):\n",
    "        json.dump(l, out)\n",
    "        out.write('\\n')"
   ]
  },
  {
   "cell_type": "code",
   "execution_count": 49,
   "metadata": {},
   "outputs": [
    {
     "name": "stdout",
     "output_type": "stream",
     "text": [
      "['location', 'country'], ['/location', '/location/country']\n",
      "['location', 'structure', 'organization', 'government'], ['/location', '/location/structure', '/organization', '/organization/government']\n",
      "['location', 'structure', 'organization'], ['/location', '/location/structure', '/organization']\n"
     ]
    }
   ],
   "source": [
    "dev_onto_into_choi = filter_data(data=dev_lines, mapping=ontonotes_mappings['choi'])"
   ]
  },
  {
   "cell_type": "code",
   "execution_count": 50,
   "metadata": {},
   "outputs": [
    {
     "name": "stderr",
     "output_type": "stream",
     "text": [
      "100%|██████████| 1054/1054 [00:00<00:00, 5495.68it/s]\n"
     ]
    }
   ],
   "source": [
    "with open('/datahdd/vmanuel/entity_typing_all_datasets/data/entity_typing_original_datasets/mapped_datasets/dev_Onto_into_choi.json', 'w') as out:\n",
    "    for l in tqdm(dev_onto_into_choi):\n",
    "        json.dump(l, out)\n",
    "        out.write('\\n')"
   ]
  },
  {
   "cell_type": "code",
   "execution_count": 51,
   "metadata": {},
   "outputs": [
    {
     "name": "stdout",
     "output_type": "stream",
     "text": [
      "['organization', 'company'], ['/organization', '/organization/company']\n",
      "['organization', 'company'], ['/organization', '/organization/company']\n",
      "['organization', 'company'], ['/organization', '/organization/company']\n"
     ]
    }
   ],
   "source": [
    "test_onto_into_choi = filter_data(data=test_lines, mapping=ontonotes_mappings['choi'])"
   ]
  },
  {
   "cell_type": "code",
   "execution_count": 52,
   "metadata": {},
   "outputs": [
    {
     "name": "stderr",
     "output_type": "stream",
     "text": [
      "100%|██████████| 4480/4480 [00:00<00:00, 6711.63it/s]\n"
     ]
    }
   ],
   "source": [
    "with open('/datahdd/vmanuel/entity_typing_all_datasets/data/entity_typing_original_datasets/mapped_datasets/test_Onto_into_choi.json', 'w') as out:\n",
    "    for l in tqdm(test_onto_into_choi):\n",
    "        json.dump(l, out)\n",
    "        out.write('\\n')"
   ]
  },
  {
   "cell_type": "markdown",
   "metadata": {},
   "source": [
    "# Filter FIGER"
   ]
  },
  {
   "cell_type": "code",
   "execution_count": 4,
   "metadata": {},
   "outputs": [],
   "source": [
    "with open('/datahdd/vmanuel/entity_typing_all_datasets/data/entity_typing_original_datasets/FIGER/train_partitioned.json', 'r') as inp:\n",
    "    train_lines = [json.loads(t) for t in inp.readlines()]\n",
    "with open('/datahdd/vmanuel/entity_typing_all_datasets/data/entity_typing_original_datasets/FIGER/dev_partitioned.json', 'r') as inp:\n",
    "    dev_lines = [json.loads(t) for t in inp.readlines()]\n",
    "with open('/datahdd/vmanuel/entity_typing_all_datasets/data/FIGER/test_tree.json', 'r') as inp:\n",
    "    test_lines = [json.loads(t) for t in inp.readlines()]"
   ]
  },
  {
   "cell_type": "code",
   "execution_count": 5,
   "metadata": {},
   "outputs": [],
   "source": [
    "from collections import defaultdict\n",
    "\n",
    "figer_mappings = {'Ontonotes': defaultdict(list), 'choi': defaultdict(list), 'BBN': defaultdict(list)}\n",
    "\n",
    "with open('/datahdd/vmanuel/entity_typing_all_datasets/data/entity_typing_original_datasets/FIGER_mappings.csv', 'r') as inp:\n",
    "    lines = [l.replace('\\n', '') for l in inp.readlines()]\n",
    "    for l in lines[1:]:\n",
    "        splitted = l.split(',')\n",
    "        if splitted[1] != '-':\n",
    "            figer_mappings['BBN'][splitted[0]].append(splitted[1])\n",
    "        if splitted[2] != '-':\n",
    "            figer_mappings['Ontonotes'][splitted[0]].append(splitted[2])\n",
    "        if splitted[3] != '-':\n",
    "            figer_mappings['choi'][splitted[0]].append(splitted[3])"
   ]
  },
  {
   "cell_type": "code",
   "execution_count": 55,
   "metadata": {},
   "outputs": [
    {
     "data": {
      "text/plain": [
       "{'BBN': defaultdict(list,\n",
       "             {'/art/film': ['/WORK_OF_ART'],\n",
       "              '/broadcast': ['/WORK_OF_ART'],\n",
       "              '/broadcast_program': ['/WORK_OF_ART'],\n",
       "              '/building': ['/FACILITY/BUILDING'],\n",
       "              '/building/airport': ['/FACILITY/AIRPORT'],\n",
       "              '/building/dam': [''],\n",
       "              '/building/hospital': ['/ORGANIZATION/HOSPITAL'],\n",
       "              '/disease': ['/DISEASE'],\n",
       "              '/education': ['/ORGANIZATION/EDUCATIONAL'],\n",
       "              '/education/department': ['/ORGANIZATION/EDUCATIONAL'],\n",
       "              '/education/educational_degree': [''],\n",
       "              '/event': ['/EVENT'],\n",
       "              '/event/military_conflict': ['/EVENT/WAR'],\n",
       "              '/food': ['/SUBSTANCE/FOOD'],\n",
       "              '/game': ['/GAME'],\n",
       "              '/government': ['/ORGANIZATION/GOVERNMENT'],\n",
       "              '/language': ['/LANGUAGE'],\n",
       "              '/law': ['/LAW'],\n",
       "              '/livingthing/animal': ['/ANIMAL'],\n",
       "              '/location': ['/LOCATION'],\n",
       "              '/location/body_of_water': ['/LOCATION/LAKE_SEA_OCEAN'],\n",
       "              '/location/bridge': ['/FACILITY/BRIDGE'],\n",
       "              '/location/city': ['/GPE/CITY'],\n",
       "              '/location/country': ['/GPE/COUNTRY'],\n",
       "              '/location/province': ['/GPE/STATE_PROVINCE'],\n",
       "              '/medicine/drug': ['/SUBSTANCE/DRUG'],\n",
       "              '/music': ['/WORK_OF_ART/SONG'],\n",
       "              '/news_agency': ['/ORGANIZATION'],\n",
       "              '/organization': ['/ORGANIZATION'],\n",
       "              '/organization/company': ['/ORGANIZATION/CORPORATION'],\n",
       "              '/organization/educational_institution': ['/ORGANIZATION/EDUCATIONAL'],\n",
       "              '/person': ['/PERSON'],\n",
       "              '/play': ['/WORK_OF_ART/PLAY'],\n",
       "              '/product': ['/PRODUCT'],\n",
       "              '/product/weapon': ['/PRODUCT/WEAPON'],\n",
       "              '/visual_art': ['/WORK_OF_ART'],\n",
       "              '/written_work': ['/WORK_OF_ART/BOOK']}),\n",
       " 'Ontonotes': defaultdict(list,\n",
       "             {'/art/film': ['/other/art/film'],\n",
       "              '/astral_body': ['/location/celestial'],\n",
       "              '/award': ['/other/award'],\n",
       "              '/biology': ['/other/scientific'],\n",
       "              '/body_part': ['/other/body_part'],\n",
       "              '/broadcast': ['/other/art/broadcast'],\n",
       "              '/broadcast_network': ['/organization/company/broadcast'],\n",
       "              '/building': ['/location/structure'],\n",
       "              '/building/airport': ['/location/structure/airport'],\n",
       "              '/building/hospital': ['/location/structure/hospital'],\n",
       "              '/building/hotel': ['/location/structure/hotel'],\n",
       "              '/building/restaurant': ['/location/structure/restaurant'],\n",
       "              '/building/sports_facility': ['/location/structure/sports_facility'],\n",
       "              '/building/theater': ['/location/structure/theater'],\n",
       "              '/chemistry': ['/other/scientific'],\n",
       "              '/computer': ['/other/product/computer'],\n",
       "              '/disease': ['/other/health/malady'],\n",
       "              '/education': ['/organization/education'],\n",
       "              '/event': ['/other/event'],\n",
       "              '/event/election': ['/other/event/election'],\n",
       "              '/event/military_conflict': ['/other/event/violent_conflict'],\n",
       "              '/event/natural_disaster': ['/other/event/natural_disaster'],\n",
       "              '/event/protest': ['/other/event/protest'],\n",
       "              '/event/sports_event': ['/other/event/sports_event'],\n",
       "              '/finance/currency': ['/other/currency'],\n",
       "              '/finance/stock_exchange': ['/organization/stock_exchange'],\n",
       "              '/food': ['/other/food'],\n",
       "              '/geography': ['/location/geography', '/location/geograpy'],\n",
       "              '/geography/island': ['/location/geography/island',\n",
       "               '/location/geograpy/island'],\n",
       "              '/geography/mountain': ['/location/geography/mountain'],\n",
       "              '/government': ['/location/structure/government',\n",
       "               '/organization/government'],\n",
       "              '/government/political_party': ['/organization/political_party'],\n",
       "              '/internet': ['/other/internet'],\n",
       "              '/language': ['/other/language'],\n",
       "              '/law': ['/person/legal'],\n",
       "              '/living_thing': ['/other/living_thing'],\n",
       "              '/livingthing': ['/other/living_thing'],\n",
       "              '/livingthing/animal': ['/other/living_thing/animal'],\n",
       "              '/location': ['/location'],\n",
       "              '/location/body_of_water': ['/location/geography/body_of_water'],\n",
       "              '/location/bridge': ['/location/transit/bridge'],\n",
       "              '/location/city': ['/location/city'],\n",
       "              '/location/country': ['/location/country'],\n",
       "              '/medicine': ['/other/scientific'],\n",
       "              '/medicine/drug': ['/other/health/treatment'],\n",
       "              '/medicine/medical_treatment': ['/other/health/treatment'],\n",
       "              '/metropolitan_transit': ['/location/transit'],\n",
       "              '/military': ['/organization/military'],\n",
       "              '/music': ['/organization/music'],\n",
       "              '/news_agency': ['/organization/company/news'],\n",
       "              '/organization': ['/organization'],\n",
       "              '/organization/airline': ['/organization/transit'],\n",
       "              '/organization/company': ['/organization/company'],\n",
       "              '/organization/educational_institution': ['/organization/education'],\n",
       "              '/organization/sports_league': ['/organization/sports_league'],\n",
       "              '/organization/sports_team': ['/organization/sports_team'],\n",
       "              '/organization/terrorist_organization': ['/organization/military'],\n",
       "              '/park': ['/location/park'],\n",
       "              '/person': ['/person'],\n",
       "              '/person/actor': ['/person/artist/actor'],\n",
       "              '/person/artist': ['/person/artist'],\n",
       "              '/person/athlete': ['/person/athlete'],\n",
       "              '/person/author': ['/person/artist/author'],\n",
       "              '/person/coach': ['/person/coach'],\n",
       "              '/person/director': ['/person/artist/director'],\n",
       "              '/person/doctor': ['/person/doctor'],\n",
       "              '/person/monarch': ['/person/political_figure'],\n",
       "              '/person/musician': ['/person/artist/music'],\n",
       "              '/person/politician': ['/person/political_figure'],\n",
       "              '/person/religious_leader': ['/person/religious_leader'],\n",
       "              '/person/soldier': ['/person/military'],\n",
       "              '/person/terrorist': ['/person/military'],\n",
       "              '/play': ['/other/art/stage'],\n",
       "              '/product': ['/other/product'],\n",
       "              '/product/car': ['/other/product/car'],\n",
       "              '/product/computer': ['/other/product/computer'],\n",
       "              '/product/mobile_phone': ['/other/product/mobile_phone'],\n",
       "              '/product/weapon': ['/other/product/weapon'],\n",
       "              '/rail/railway': ['/location/transit/railway'],\n",
       "              '/religion': ['/other/religion'],\n",
       "              '/religion/religion': ['/other/religion'],\n",
       "              '/software': ['/other/product/software'],\n",
       "              '/title': ['/person/title'],\n",
       "              '/transit': ['/location/transit'],\n",
       "              '/transportation/road': ['/location/transit/road'],\n",
       "              '/written_work': ['/other/art/writing']}),\n",
       " 'choi': defaultdict(list,\n",
       "             {'/art/film': ['film'],\n",
       "              '/astral_body': ['celestial_body'],\n",
       "              '/award': ['award'],\n",
       "              '/biology': ['biology'],\n",
       "              '/body_part': ['body_part'],\n",
       "              '/broadcast': ['broadcast'],\n",
       "              '/broadcast_program': ['broadcast'],\n",
       "              '/building': ['building'],\n",
       "              '/building/airport': ['airport'],\n",
       "              '/building/dam': ['dam'],\n",
       "              '/building/hospital': ['hospital'],\n",
       "              '/building/hotel': ['hotel'],\n",
       "              '/building/library': ['library'],\n",
       "              '/building/power_station': ['power_station'],\n",
       "              '/building/restaurant': ['restaurant'],\n",
       "              '/building/theater': ['theater', 'theatre'],\n",
       "              '/chemistry': ['chemistry'],\n",
       "              '/computer': ['computer'],\n",
       "              '/computer/algorithm': ['algorithm'],\n",
       "              '/computer/programming_language': ['programming_language'],\n",
       "              '/disease': ['disease'],\n",
       "              '/education': ['education'],\n",
       "              '/event': ['event'],\n",
       "              '/event/attack': ['attack'],\n",
       "              '/event/election': ['election'],\n",
       "              '/event/military_conflict': ['war'],\n",
       "              '/event/natural_disaster': ['natural_disaster'],\n",
       "              '/event/protest': ['protest'],\n",
       "              '/finance': ['finance'],\n",
       "              '/finance/currency': ['currency'],\n",
       "              '/finance/stock_exchange': ['stock_exchange'],\n",
       "              '/food': ['food'],\n",
       "              '/game': ['game'],\n",
       "              '/geography': ['geography'],\n",
       "              '/geography/glacier': ['glacier'],\n",
       "              '/geography/island': ['island'],\n",
       "              '/geography/mountain': ['mountain'],\n",
       "              '/god': ['god'],\n",
       "              '/government': ['government'],\n",
       "              '/government/government': ['government'],\n",
       "              '/government/political_party': ['political_party'],\n",
       "              '/internet': ['internet'],\n",
       "              '/internet/website': ['website', 'web_site'],\n",
       "              '/language': ['language'],\n",
       "              '/law': ['law'],\n",
       "              '/living_thing': ['living_thing'],\n",
       "              '/livingthing': ['living_thing'],\n",
       "              '/livingthing/animal': ['animal'],\n",
       "              '/location': ['location'],\n",
       "              '/location/body_of_water': ['body_of_water'],\n",
       "              '/location/bridge': ['bridge'],\n",
       "              '/location/cemetery': ['cemetery'],\n",
       "              '/location/city': ['city'],\n",
       "              '/location/country': ['country'],\n",
       "              '/location/county': ['county'],\n",
       "              '/location/province': ['province'],\n",
       "              '/medicine': ['medicine'],\n",
       "              '/medicine/drug': ['drug'],\n",
       "              '/medicine/medical_treatment': ['treatment'],\n",
       "              '/military': ['military'],\n",
       "              '/music': ['music'],\n",
       "              '/news_agency': ['news_agency'],\n",
       "              '/newspaper': ['newspaper'],\n",
       "              '/organization': ['organization'],\n",
       "              '/organization/airline': ['airline'],\n",
       "              '/organization/company': ['company'],\n",
       "              '/organization/sports_league': ['league'],\n",
       "              '/organization/terrorist_organization': ['terrorists'],\n",
       "              '/park': ['park'],\n",
       "              '/people': ['peoples'],\n",
       "              '/people/ethnicity': ['ethnic_group'],\n",
       "              '/person': ['person'],\n",
       "              '/person/actor': ['actor'],\n",
       "              '/person/architect': ['architect'],\n",
       "              '/person/artist': ['artist'],\n",
       "              '/person/athlete': ['athlete'],\n",
       "              '/person/author': ['author'],\n",
       "              '/person/coach': ['coach'],\n",
       "              '/person/director': ['director'],\n",
       "              '/person/doctor': ['doctor'],\n",
       "              '/person/engineer': ['engineer'],\n",
       "              '/person/monarch': ['monarch'],\n",
       "              '/person/musician': ['musician'],\n",
       "              '/person/politician': ['politician'],\n",
       "              '/person/religious_leader': ['religious_leader'],\n",
       "              '/person/soldier': ['military'],\n",
       "              '/person/terrorist': ['terrorist'],\n",
       "              '/play': ['play'],\n",
       "              '/product': ['product'],\n",
       "              '/product/airplane': ['plane'],\n",
       "              '/product/camera': ['camera'],\n",
       "              '/product/car': ['car'],\n",
       "              '/product/computer': ['computer'],\n",
       "              '/product/engine_device': ['engine'],\n",
       "              '/product/instrument': ['instrument'],\n",
       "              '/product/mobile_phone': ['telephone'],\n",
       "              '/product/ship': ['ship'],\n",
       "              '/product/spacecraft': ['spacecraft'],\n",
       "              '/product/weapon': ['weapon'],\n",
       "              '/rail': ['rail'],\n",
       "              '/rail/railway': ['railway'],\n",
       "              '/religion': ['religion'],\n",
       "              '/religion/religion': ['religion'],\n",
       "              '/software': ['software'],\n",
       "              '/time': ['time'],\n",
       "              '/title': ['title'],\n",
       "              '/train': ['train'],\n",
       "              '/transit': ['transit'],\n",
       "              '/transportation': ['transportation'],\n",
       "              '/transportation/road': ['road'],\n",
       "              '/visual_art': ['visual_art'],\n",
       "              '/visual_art/color': ['color'],\n",
       "              '/written_work': ['writing']})}"
      ]
     },
     "execution_count": 55,
     "metadata": {},
     "output_type": "execute_result"
    }
   ],
   "source": [
    "figer_mappings"
   ]
  },
  {
   "cell_type": "markdown",
   "metadata": {},
   "source": [
    "## Figer into BBN"
   ]
  },
  {
   "cell_type": "code",
   "execution_count": 56,
   "metadata": {
    "scrolled": true
   },
   "outputs": [
    {
     "name": "stdout",
     "output_type": "stream",
     "text": [
      "['/PERSON'], ['/person/musician', '/person/artist', '/person']\n",
      "['/PERSON'], ['/person/musician', '/person/artist', '/person']\n",
      "['/PERSON'], ['/person/musician', '/person/artist', '/person']\n"
     ]
    }
   ],
   "source": [
    "train_figer_into_bbn = filter_data(data=train_lines, mapping=figer_mappings['BBN'])"
   ]
  },
  {
   "cell_type": "code",
   "execution_count": 57,
   "metadata": {},
   "outputs": [
    {
     "name": "stderr",
     "output_type": "stream",
     "text": [
      "100%|██████████| 2495272/2495272 [04:21<00:00, 9533.76it/s] \n"
     ]
    }
   ],
   "source": [
    "with open('/datahdd/vmanuel/entity_typing_all_datasets/data/entity_typing_original_datasets/mapped_datasets/train_figer_into_BBN.json', 'w') as out:\n",
    "    for l in tqdm(train_figer_into_bbn):\n",
    "        json.dump(l, out)\n",
    "        out.write('\\n')"
   ]
  },
  {
   "cell_type": "code",
   "execution_count": 58,
   "metadata": {},
   "outputs": [
    {
     "name": "stdout",
     "output_type": "stream",
     "text": [
      "['/PERSON'], ['/person/athlete', '/person']\n",
      "['/PERSON'], ['/person/artist', '/person/author', '/person/musician', '/person']\n",
      "['/LANGUAGE', '/GPE/COUNTRY', '/LOCATION', '/PERSON'], ['/person/artist', '/location/cemetery', '/language', '/title', '/location/country', '/location', '/government_agency', '/person']\n"
     ]
    }
   ],
   "source": [
    "dev_figer_into_bbn = filter_data(data=dev_lines, mapping=figer_mappings['BBN'])"
   ]
  },
  {
   "cell_type": "code",
   "execution_count": 59,
   "metadata": {},
   "outputs": [
    {
     "name": "stderr",
     "output_type": "stream",
     "text": [
      "100%|██████████| 5005/5005 [00:00<00:00, 6281.02it/s]\n"
     ]
    }
   ],
   "source": [
    "with open('/datahdd/vmanuel/entity_typing_all_datasets/data/entity_typing_original_datasets/mapped_datasets/dev_figer_into_BBN.json', 'w') as out:\n",
    "    for l in tqdm(dev_figer_into_bbn):\n",
    "        json.dump(l, out)\n",
    "        out.write('\\n')"
   ]
  },
  {
   "cell_type": "code",
   "execution_count": 60,
   "metadata": {},
   "outputs": [
    {
     "name": "stdout",
     "output_type": "stream",
     "text": [
      "['/ORGANIZATION', '/ORGANIZATION/EDUCATIONAL'], ['/organization', '/organization/educational_institution']\n",
      "['/ORGANIZATION/EDUCATIONAL', '/ORGANIZATION', '/ORGANIZATION/EDUCATIONAL'], ['/education/department', '/organization', '/education']\n",
      "['/ORGANIZATION'], ['/organization']\n"
     ]
    }
   ],
   "source": [
    "test_figer_into_bbn = filter_data(data=test_lines, mapping=figer_mappings['BBN'])"
   ]
  },
  {
   "cell_type": "code",
   "execution_count": 61,
   "metadata": {},
   "outputs": [
    {
     "name": "stderr",
     "output_type": "stream",
     "text": [
      "100%|██████████| 522/522 [00:00<00:00, 7260.05it/s]\n"
     ]
    }
   ],
   "source": [
    "with open('/datahdd/vmanuel/entity_typing_all_datasets/data/entity_typing_original_datasets/mapped_datasets/test_figer_into_BBN.json', 'w') as out:\n",
    "    for l in tqdm(test_figer_into_bbn):\n",
    "        json.dump(l, out)\n",
    "        out.write('\\n')"
   ]
  },
  {
   "cell_type": "markdown",
   "metadata": {},
   "source": [
    "## Figer into onto"
   ]
  },
  {
   "cell_type": "code",
   "execution_count": 7,
   "metadata": {
    "scrolled": true
   },
   "outputs": [
    {
     "name": "stdout",
     "output_type": "stream",
     "text": [
      "['/person/artist/music', '/person/artist', '/person'], ['/person/musician', '/person/artist', '/person']\n",
      "['/person/artist/music', '/person/artist', '/person'], ['/person/musician', '/person/artist', '/person']\n",
      "['/person/artist/music', '/person/artist', '/person'], ['/person/musician', '/person/artist', '/person']\n"
     ]
    }
   ],
   "source": [
    "train_figer_into_onto = filter_data(data=train_lines, mapping=figer_mappings['Ontonotes'])"
   ]
  },
  {
   "cell_type": "code",
   "execution_count": 9,
   "metadata": {},
   "outputs": [
    {
     "name": "stderr",
     "output_type": "stream",
     "text": [
      "100%|██████████| 2606770/2606770 [04:03<00:00, 10697.66it/s]\n"
     ]
    }
   ],
   "source": [
    "with open('/datahdd/vmanuel/entity_typing_all_datasets/data/entity_typing_original_datasets/mapped_datasets/train_figer_into_onto.json', 'w') as out:\n",
    "    for l in tqdm(train_figer_into_onto):\n",
    "        json.dump(l, out)\n",
    "        out.write('\\n')"
   ]
  },
  {
   "cell_type": "code",
   "execution_count": 63,
   "metadata": {},
   "outputs": [
    {
     "name": "stdout",
     "output_type": "stream",
     "text": [
      "['/person/athlete', '/person'], ['/person/athlete', '/person']\n",
      "['/person/artist', '/person/artist/author', '/person/artist/music', '/person'], ['/person/artist', '/person/author', '/person/musician', '/person']\n",
      "['/person/artist', '/other/language', '/person/title', '/location/country', '/location', '/person'], ['/person/artist', '/location/cemetery', '/language', '/title', '/location/country', '/location', '/government_agency', '/person']\n"
     ]
    }
   ],
   "source": [
    "dev_figer_into_onto = filter_data(data=dev_lines, mapping=figer_mappings['Ontonotes'])"
   ]
  },
  {
   "cell_type": "code",
   "execution_count": 64,
   "metadata": {},
   "outputs": [
    {
     "name": "stderr",
     "output_type": "stream",
     "text": [
      "100%|██████████| 5214/5214 [00:00<00:00, 8487.29it/s]\n"
     ]
    }
   ],
   "source": [
    "with open('/datahdd/vmanuel/entity_typing_all_datasets/data/entity_typing_original_datasets/mapped_datasets/dev_figer_into_Ontonotes.json', 'w') as out:\n",
    "    for l in tqdm(dev_figer_into_onto):\n",
    "        json.dump(l, out)\n",
    "        out.write('\\n')"
   ]
  },
  {
   "cell_type": "code",
   "execution_count": 65,
   "metadata": {},
   "outputs": [
    {
     "name": "stdout",
     "output_type": "stream",
     "text": [
      "['/organization', '/organization/education'], ['/organization', '/organization/educational_institution']\n",
      "['/organization', '/organization/education'], ['/education/department', '/organization', '/education']\n",
      "['/organization'], ['/organization']\n"
     ]
    }
   ],
   "source": [
    "test_figer_into_onto = filter_data(data=test_lines, mapping=figer_mappings['Ontonotes'])"
   ]
  },
  {
   "cell_type": "code",
   "execution_count": 66,
   "metadata": {},
   "outputs": [
    {
     "name": "stderr",
     "output_type": "stream",
     "text": [
      "100%|██████████| 528/528 [00:00<00:00, 8351.41it/s]\n"
     ]
    }
   ],
   "source": [
    "with open('/datahdd/vmanuel/entity_typing_all_datasets/data/entity_typing_original_datasets/mapped_datasets/test_figer_into_Ontonotes.json', 'w') as out:\n",
    "    for l in tqdm(test_figer_into_onto):\n",
    "        json.dump(l, out)\n",
    "        out.write('\\n')"
   ]
  },
  {
   "cell_type": "markdown",
   "metadata": {},
   "source": [
    "## Figer into Choi"
   ]
  },
  {
   "cell_type": "code",
   "execution_count": 10,
   "metadata": {
    "scrolled": true
   },
   "outputs": [
    {
     "name": "stderr",
     "output_type": "stream",
     "text": [
      "  1%|          | 24380/2684906 [00:00<00:24, 109728.61it/s]"
     ]
    },
    {
     "name": "stdout",
     "output_type": "stream",
     "text": [
      "['musician', 'artist', 'person'], ['/person/musician', '/person/artist', '/person']\n",
      "['musician', 'artist', 'person'], ['/person/musician', '/person/artist', '/person']\n",
      "['musician', 'artist', 'person'], ['/person/musician', '/person/artist', '/person']\n"
     ]
    },
    {
     "name": "stderr",
     "output_type": "stream",
     "text": [
      "100%|██████████| 2684906/2684906 [00:31<00:00, 85302.99it/s] \n"
     ]
    }
   ],
   "source": [
    "train_figer_into_choi = filter_data(data=train_lines, mapping=figer_mappings['choi'])"
   ]
  },
  {
   "cell_type": "code",
   "execution_count": 11,
   "metadata": {},
   "outputs": [
    {
     "name": "stderr",
     "output_type": "stream",
     "text": [
      "100%|██████████| 2677947/2677947 [04:07<00:00, 10836.33it/s]\n"
     ]
    }
   ],
   "source": [
    "with open('/datahdd/vmanuel/entity_typing_all_datasets/data/entity_typing_original_datasets/mapped_datasets/train_figer_into_choi.json', 'w') as out:\n",
    "    for l in tqdm(train_figer_into_choi):\n",
    "        json.dump(l, out)\n",
    "        out.write('\\n')"
   ]
  },
  {
   "cell_type": "code",
   "execution_count": 67,
   "metadata": {},
   "outputs": [
    {
     "name": "stdout",
     "output_type": "stream",
     "text": [
      "['athlete', 'person'], ['/person/athlete', '/person']\n",
      "['artist', 'author', 'musician', 'person'], ['/person/artist', '/person/author', '/person/musician', '/person']\n",
      "['artist', 'cemetery', 'language', 'title', 'country', 'location', 'person'], ['/person/artist', '/location/cemetery', '/language', '/title', '/location/country', '/location', '/government_agency', '/person']\n"
     ]
    }
   ],
   "source": [
    "dev_figer_into_choi = filter_data(data=dev_lines, mapping=figer_mappings['choi'])"
   ]
  },
  {
   "cell_type": "code",
   "execution_count": 68,
   "metadata": {},
   "outputs": [
    {
     "name": "stderr",
     "output_type": "stream",
     "text": [
      "100%|██████████| 5364/5364 [00:00<00:00, 7382.24it/s]\n"
     ]
    }
   ],
   "source": [
    "with open('/datahdd/vmanuel/entity_typing_all_datasets/data/entity_typing_original_datasets/mapped_datasets/dev_figer_into_choi.json', 'w') as out:\n",
    "    for l in tqdm(dev_figer_into_choi):\n",
    "        json.dump(l, out)\n",
    "        out.write('\\n')"
   ]
  },
  {
   "cell_type": "code",
   "execution_count": 69,
   "metadata": {},
   "outputs": [
    {
     "name": "stdout",
     "output_type": "stream",
     "text": [
      "['organization'], ['/organization', '/organization/educational_institution']\n",
      "['organization', 'education'], ['/education/department', '/organization', '/education']\n",
      "['organization'], ['/organization']\n"
     ]
    }
   ],
   "source": [
    "test_figer_into_choi = filter_data(data=test_lines, mapping=figer_mappings['choi'])"
   ]
  },
  {
   "cell_type": "code",
   "execution_count": 70,
   "metadata": {},
   "outputs": [
    {
     "name": "stderr",
     "output_type": "stream",
     "text": [
      "100%|██████████| 556/556 [00:00<00:00, 9724.67it/s]\n"
     ]
    }
   ],
   "source": [
    "with open('/datahdd/vmanuel/entity_typing_all_datasets/data/entity_typing_original_datasets/mapped_datasets/test_figer_into_choi.json', 'w') as out:\n",
    "    for l in tqdm(test_figer_into_choi):\n",
    "        json.dump(l, out)\n",
    "        out.write('\\n')"
   ]
  },
  {
   "cell_type": "markdown",
   "metadata": {},
   "source": [
    "# Filter Choi"
   ]
  },
  {
   "cell_type": "code",
   "execution_count": 12,
   "metadata": {},
   "outputs": [],
   "source": [
    "with open('/datahdd/vmanuel/entity_typing_all_datasets/data/entity_typing_original_datasets/choi/train.json', 'r') as inp:\n",
    "    train_lines = [json.loads(t) for t in inp.readlines()]\n",
    "with open('/datahdd/vmanuel/entity_typing_all_datasets/data/entity_typing_original_datasets/choi/dev_tree.json', 'r') as inp:\n",
    "    dev_lines = [json.loads(t) for t in inp.readlines()]\n",
    "with open('/datahdd/vmanuel/entity_typing_all_datasets/data/entity_typing_original_datasets/choi/test_tree_lines.json', 'r') as inp:\n",
    "    test_lines = [json.loads(t) for t in inp.readlines()]"
   ]
  },
  {
   "cell_type": "code",
   "execution_count": 13,
   "metadata": {},
   "outputs": [],
   "source": [
    "from collections import defaultdict\n",
    "\n",
    "choi_mappings = {'Ontonotes': defaultdict(list), 'figer': defaultdict(list), 'BBN': defaultdict(list)}\n",
    "\n",
    "with open('/datahdd/vmanuel/entity_typing_all_datasets/data/entity_typing_original_datasets/BBN_mappings.csv', 'r') as inp:\n",
    "    lines = [l.replace('\\n', '') for l in inp.readlines()]\n",
    "    for l in lines[1:]:\n",
    "        splitted = l.split(',')\n",
    "        if splitted[3] != '-':\n",
    "            choi_mappings['BBN'][splitted[3]].append(splitted[0])\n",
    "\n",
    "with open('/datahdd/vmanuel/entity_typing_all_datasets/data/entity_typing_original_datasets/FIGER_mappings.csv', 'r') as inp:\n",
    "    lines = [l.replace('\\n', '') for l in inp.readlines()]\n",
    "    for l in lines[1:]:\n",
    "        splitted = l.split(',')            \n",
    "        if splitted[3] != '-':\n",
    "            choi_mappings['figer'][splitted[3]].append(splitted[0])\n",
    "\n",
    "with open('/datahdd/vmanuel/entity_typing_all_datasets/data/entity_typing_original_datasets/OntoNotes_mappings.csv', 'r') as inp:\n",
    "    lines = [l.replace('\\n', '') for l in inp.readlines()]\n",
    "    for l in lines[1:]:\n",
    "        splitted = l.split(',')\n",
    "        if splitted[3] != '-':\n",
    "            choi_mappings['Ontonotes'][splitted[3]].append(splitted[0])"
   ]
  },
  {
   "cell_type": "code",
   "execution_count": 22,
   "metadata": {},
   "outputs": [
    {
     "data": {
      "text/plain": [
       "{'Ontonotes': defaultdict(list,\n",
       "             {'location': ['/location'],\n",
       "              'celestial_body': ['/location/celestial'],\n",
       "              'city': ['/location/city'],\n",
       "              'country': ['/location/country'],\n",
       "              'geography': ['/location/geography', '/location/geograpy'],\n",
       "              'park': ['/location/park'],\n",
       "              'structure': ['/location/structure'],\n",
       "              'transit': ['/location/transit', '/organization/transit'],\n",
       "              'body_of_water': ['/location/geography/body_of_water'],\n",
       "              'island': ['/location/geography/island',\n",
       "               '/location/geograpy/island'],\n",
       "              'mountain': ['/location/geography/mountain'],\n",
       "              'airport': ['/location/structure/airport'],\n",
       "              'government': ['/location/structure/government',\n",
       "               '/organization/government'],\n",
       "              'hospital': ['/location/structure/hospital'],\n",
       "              'hotel': ['/location/structure/hotel'],\n",
       "              'restaurant': ['/location/structure/restaurant'],\n",
       "              'theater': ['/location/structure/theater'],\n",
       "              'theatre': ['/location/structure/theater'],\n",
       "              'bridge': ['/location/transit/bridge'],\n",
       "              'railway': ['/location/transit/railway'],\n",
       "              'road': ['/location/transit/road'],\n",
       "              'organization': ['/organization'],\n",
       "              'company': ['/organization/company'],\n",
       "              'education': ['/organization/education'],\n",
       "              'military': ['/organization/military', '/person/military'],\n",
       "              'music': ['/organization/music',\n",
       "               '/person/artist/music',\n",
       "               '/other/art/music'],\n",
       "              'political_party': ['/organization/political_party'],\n",
       "              'league': ['/organization/sports_league'],\n",
       "              'stock_exchange': ['/organization/stock_exchange'],\n",
       "              'broadcast': ['/organization/company/broadcast',\n",
       "               '/other/art/broadcast'],\n",
       "              'news': ['/organization/company/news'],\n",
       "              'person': ['/person'],\n",
       "              'artist': ['/person/artist'],\n",
       "              'athlete': ['/person/athlete'],\n",
       "              'coach': ['/person/coach'],\n",
       "              'doctor': ['/person/doctor'],\n",
       "              'legal': ['/person/legal', '/other/legal'],\n",
       "              'politician': ['/person/political_figure'],\n",
       "              'religious_leader': ['/person/religious_leader'],\n",
       "              'title': ['/person/title'],\n",
       "              'actor': ['/person/artist/actor'],\n",
       "              'author': ['/person/artist/author'],\n",
       "              'director': ['/person/artist/director'],\n",
       "              'art': ['/other/art'],\n",
       "              'award': ['/other/award'],\n",
       "              'body_part': ['/other/body_part'],\n",
       "              'currency': ['/other/currency'],\n",
       "              'event': ['/other/event'],\n",
       "              'food': ['/other/food'],\n",
       "              'health': ['/other/health'],\n",
       "              'heritage': ['/other/heritage'],\n",
       "              'internet': ['/other/internet'],\n",
       "              'language': ['/other/language'],\n",
       "              'living_thing': ['/other/living_thing'],\n",
       "              'product': ['/other/product'],\n",
       "              'religion': ['/other/religion'],\n",
       "              'science': ['/other/scientific'],\n",
       "              'sport': ['/other/sports_and_leisure'],\n",
       "              'leisure': ['/other/sports_and_leisure'],\n",
       "              'film': ['/other/art/film'],\n",
       "              'stage': ['/other/art/stage'],\n",
       "              'writing': ['/other/art/writing'],\n",
       "              'accident': ['/other/event/accident'],\n",
       "              'holiday': ['/other/event/holiday'],\n",
       "              'natural_disaster': ['/other/event/natural_disaster'],\n",
       "              'protest': ['/other/event/protest'],\n",
       "              'conflict': ['/other/event/violent_conflict'],\n",
       "              'disease': ['/other/health/malady'],\n",
       "              'drug': ['/other/health/treatment'],\n",
       "              'programming_language': ['/other/language/programming_language'],\n",
       "              'animal': ['/other/living_thing/animal'],\n",
       "              'car': ['/other/product/car'],\n",
       "              'computer': ['/other/product/computer'],\n",
       "              'cell_phone': ['/other/product/mobile_phone'],\n",
       "              'software': ['/other/product/software'],\n",
       "              'weapon': ['/other/product/weapon']}),\n",
       " 'figer': defaultdict(list,\n",
       "             {'film': ['/art/film'],\n",
       "              'celestial_body': ['/astral_body'],\n",
       "              'award': ['/award'],\n",
       "              'biology': ['/biology'],\n",
       "              'body_part': ['/body_part'],\n",
       "              'broadcast': ['/broadcast', '/broadcast_program'],\n",
       "              'building': ['/building'],\n",
       "              'airport': ['/building/airport'],\n",
       "              'dam': ['/building/dam'],\n",
       "              'hospital': ['/building/hospital'],\n",
       "              'hotel': ['/building/hotel'],\n",
       "              'library': ['/building/library'],\n",
       "              'power_station': ['/building/power_station'],\n",
       "              'restaurant': ['/building/restaurant'],\n",
       "              'theater': ['/building/theater'],\n",
       "              'theatre': ['/building/theater'],\n",
       "              'chemistry': ['/chemistry'],\n",
       "              'computer': ['/computer', '/product/computer'],\n",
       "              'algorithm': ['/computer/algorithm'],\n",
       "              'programming_language': ['/computer/programming_language'],\n",
       "              'disease': ['/disease'],\n",
       "              'education': ['/education'],\n",
       "              'event': ['/event'],\n",
       "              'attack': ['/event/attack'],\n",
       "              'election': ['/event/election'],\n",
       "              'war': ['/event/military_conflict'],\n",
       "              'natural_disaster': ['/event/natural_disaster'],\n",
       "              'protest': ['/event/protest'],\n",
       "              'finance': ['/finance'],\n",
       "              'currency': ['/finance/currency'],\n",
       "              'stock_exchange': ['/finance/stock_exchange'],\n",
       "              'food': ['/food'],\n",
       "              'game': ['/game'],\n",
       "              'geography': ['/geography'],\n",
       "              'glacier': ['/geography/glacier'],\n",
       "              'island': ['/geography/island'],\n",
       "              'mountain': ['/geography/mountain'],\n",
       "              'god': ['/god'],\n",
       "              'government': ['/government', '/government/government'],\n",
       "              'political_party': ['/government/political_party'],\n",
       "              'internet': ['/internet'],\n",
       "              'website': ['/internet/website'],\n",
       "              'web_site': ['/internet/website'],\n",
       "              'language': ['/language'],\n",
       "              'law': ['/law'],\n",
       "              'living_thing': ['/living_thing', '/livingthing'],\n",
       "              'animal': ['/livingthing/animal'],\n",
       "              'location': ['/location'],\n",
       "              'body_of_water': ['/location/body_of_water'],\n",
       "              'bridge': ['/location/bridge'],\n",
       "              'cemetery': ['/location/cemetery'],\n",
       "              'city': ['/location/city'],\n",
       "              'country': ['/location/country'],\n",
       "              'county': ['/location/county'],\n",
       "              'province': ['/location/province'],\n",
       "              'medicine': ['/medicine'],\n",
       "              'drug': ['/medicine/drug'],\n",
       "              'treatment': ['/medicine/medical_treatment'],\n",
       "              'military': ['/military', '/person/soldier'],\n",
       "              'music': ['/music'],\n",
       "              'news_agency': ['/news_agency'],\n",
       "              'newspaper': ['/newspaper'],\n",
       "              'organization': ['/organization'],\n",
       "              'airline': ['/organization/airline'],\n",
       "              'company': ['/organization/company'],\n",
       "              'league': ['/organization/sports_league'],\n",
       "              'terrorists': ['/organization/terrorist_organization'],\n",
       "              'park': ['/park'],\n",
       "              'peoples': ['/people'],\n",
       "              'ethnic_group': ['/people/ethnicity'],\n",
       "              'person': ['/person'],\n",
       "              'actor': ['/person/actor'],\n",
       "              'architect': ['/person/architect'],\n",
       "              'artist': ['/person/artist'],\n",
       "              'athlete': ['/person/athlete'],\n",
       "              'author': ['/person/author'],\n",
       "              'coach': ['/person/coach'],\n",
       "              'director': ['/person/director'],\n",
       "              'doctor': ['/person/doctor'],\n",
       "              'engineer': ['/person/engineer'],\n",
       "              'monarch': ['/person/monarch'],\n",
       "              'musician': ['/person/musician'],\n",
       "              'politician': ['/person/politician'],\n",
       "              'religious_leader': ['/person/religious_leader'],\n",
       "              'terrorist': ['/person/terrorist'],\n",
       "              'play': ['/play'],\n",
       "              'product': ['/product'],\n",
       "              'plane': ['/product/airplane'],\n",
       "              'camera': ['/product/camera'],\n",
       "              'car': ['/product/car'],\n",
       "              'engine': ['/product/engine_device'],\n",
       "              'instrument': ['/product/instrument'],\n",
       "              'telephone': ['/product/mobile_phone'],\n",
       "              'ship': ['/product/ship'],\n",
       "              'spacecraft': ['/product/spacecraft'],\n",
       "              'weapon': ['/product/weapon'],\n",
       "              'rail': ['/rail'],\n",
       "              'railway': ['/rail/railway'],\n",
       "              'religion': ['/religion', '/religion/religion'],\n",
       "              'software': ['/software'],\n",
       "              'time': ['/time'],\n",
       "              'title': ['/title'],\n",
       "              'train': ['/train'],\n",
       "              'transit': ['/transit'],\n",
       "              'transportation': ['/transportation'],\n",
       "              'road': ['/transportation/road'],\n",
       "              'visual_art': ['/visual_art'],\n",
       "              'color': ['/visual_art/color'],\n",
       "              'writing': ['/written_work']}),\n",
       " 'BBN': defaultdict(list,\n",
       "             {'animal': ['/ANIMAL'],\n",
       "              'web_page': ['/CONTACT_INFO/url'],\n",
       "              'disease': ['/DISEASE'],\n",
       "              'event': ['/EVENT'],\n",
       "              'hurricane': ['/EVENT/HURRICANE'],\n",
       "              'war': ['/EVENT/WAR'],\n",
       "              'facility': ['/FACILITY'],\n",
       "              'airport': ['/FACILITY/AIRPORT'],\n",
       "              'attraction': ['/FACILITY/ATTRACTION'],\n",
       "              'bridge': ['/FACILITY/BRIDGE'],\n",
       "              'building': ['/FACILITY/BUILDING'],\n",
       "              'highway': ['/FACILITY/HIGHWAY_STREET'],\n",
       "              'game': ['/GAME'],\n",
       "              'city': ['/GPE/CITY'],\n",
       "              'country': ['/GPE/COUNTRY'],\n",
       "              'province': ['/GPE/STATE_PROVINCE'],\n",
       "              'language': ['/LANGUAGE'],\n",
       "              'law': ['/LAW'],\n",
       "              'location': ['/LOCATION'],\n",
       "              'continent': ['/LOCATION/CONTINENT'],\n",
       "              'body_of_water': ['/LOCATION/LAKE_SEA_OCEAN'],\n",
       "              'region': ['/LOCATION/REGION'],\n",
       "              'river': ['/LOCATION/RIVER'],\n",
       "              'organization': ['/ORGANIZATION'],\n",
       "              'corporation': ['/ORGANIZATION/CORPORATION'],\n",
       "              'government': ['/ORGANIZATION/GOVERNMENT'],\n",
       "              'hospital': ['/ORGANIZATION/HOSPITAL'],\n",
       "              'hotel': ['/ORGANIZATION/HOTEL'],\n",
       "              'museum': ['/ORGANIZATION/MUSEUM'],\n",
       "              'political_party': ['/ORGANIZATION/POLITICAL'],\n",
       "              'religious': ['/ORGANIZATION/RELIGIOUS'],\n",
       "              'person': ['/PERSON'],\n",
       "              'plant': ['/PLANT'],\n",
       "              'product': ['/PRODUCT'],\n",
       "              'vehicle': ['/PRODUCT/VEHICLE'],\n",
       "              'weapon': ['/PRODUCT/WEAPON'],\n",
       "              'substance': ['/SUBSTANCE'],\n",
       "              'chemical_substance': ['/SUBSTANCE/CHEMICAL'],\n",
       "              'drug': ['/SUBSTANCE/DRUG'],\n",
       "              'food': ['/SUBSTANCE/FOOD'],\n",
       "              'book': ['/WORK_OF_ART/BOOK'],\n",
       "              'play': ['/WORK_OF_ART/PLAY'],\n",
       "              'song': ['/WORK_OF_ART/SONG']})}"
      ]
     },
     "execution_count": 22,
     "metadata": {},
     "output_type": "execute_result"
    }
   ],
   "source": [
    "choi_mappings"
   ]
  },
  {
   "cell_type": "markdown",
   "metadata": {},
   "source": [
    "## Choi into BBN"
   ]
  },
  {
   "cell_type": "code",
   "execution_count": 14,
   "metadata": {},
   "outputs": [
    {
     "name": "stderr",
     "output_type": "stream",
     "text": [
      "  1%|          | 26991/3549962 [00:00<00:25, 137722.93it/s]"
     ]
    },
    {
     "name": "stdout",
     "output_type": "stream",
     "text": [
      "['/PERSON'], ['actor', 'artist', 'person']\n",
      "['/ORGANIZATION'], ['organization', 'league']\n",
      "['/GPE/COUNTRY', '/ORGANIZATION/GOVERNMENT', '/LOCATION', '/ORGANIZATION/GOVERNMENT'], ['country', 'government', 'location', 'park', 'government', 'agency']\n"
     ]
    },
    {
     "name": "stderr",
     "output_type": "stream",
     "text": [
      "100%|██████████| 3549962/3549962 [00:19<00:00, 179231.95it/s]\n"
     ]
    }
   ],
   "source": [
    "train_choi_into_BBN = filter_data(data=train_lines, mapping=choi_mappings['BBN'])"
   ]
  },
  {
   "cell_type": "code",
   "execution_count": 16,
   "metadata": {},
   "outputs": [
    {
     "name": "stderr",
     "output_type": "stream",
     "text": [
      "100%|██████████| 475182/475182 [00:58<00:00, 8119.70it/s]\n"
     ]
    }
   ],
   "source": [
    "with open('/datahdd/vmanuel/entity_typing_all_datasets/data/entity_typing_original_datasets/mapped_datasets/train_choi_into_BBN.json', 'w') as out:\n",
    "    for l in tqdm(train_choi_into_BBN):\n",
    "        json.dump(l, out)\n",
    "        out.write('\\n')"
   ]
  },
  {
   "cell_type": "code",
   "execution_count": 73,
   "metadata": {},
   "outputs": [
    {
     "name": "stdout",
     "output_type": "stream",
     "text": [
      "['/GPE/COUNTRY', '/LOCATION'], ['country', 'location']\n",
      "['/PERSON'], ['artist', 'author', 'musician', 'person']\n",
      "['/ORGANIZATION'], ['organization', 'company']\n"
     ]
    }
   ],
   "source": [
    "dev_choi_into_BBN = filter_data(data=dev_lines, mapping=choi_mappings['BBN'])"
   ]
  },
  {
   "cell_type": "code",
   "execution_count": 74,
   "metadata": {},
   "outputs": [
    {
     "name": "stderr",
     "output_type": "stream",
     "text": [
      "100%|██████████| 19831/19831 [00:02<00:00, 8137.87it/s]\n"
     ]
    }
   ],
   "source": [
    "with open('/datahdd/vmanuel/entity_typing_all_datasets/data/entity_typing_original_datasets/mapped_datasets/dev_choi_into_BBN.json', 'w') as out:\n",
    "    for l in tqdm(dev_choi_into_BBN):\n",
    "        json.dump(l, out)\n",
    "        out.write('\\n')"
   ]
  },
  {
   "cell_type": "code",
   "execution_count": 75,
   "metadata": {},
   "outputs": [
    {
     "name": "stdout",
     "output_type": "stream",
     "text": [
      "['/EVENT'], ['gathering', 'confluence', 'ceremony', 'conference', 'meeting', 'event']\n",
      "['/PERSON'], ['serviceman', 'politician', 'statesman', 'policeman', 'official', 'spokesman', 'spokesperson', 'person']\n",
      "['/ORGANIZATION', '/ORGANIZATION/GOVERNMENT'], ['committee', 'legislature', 'organization', 'administration', 'assembly', 'place', 'government']\n"
     ]
    }
   ],
   "source": [
    "test_choi_into_BBN = filter_data(data=test_lines, mapping=choi_mappings['BBN'])"
   ]
  },
  {
   "cell_type": "code",
   "execution_count": 76,
   "metadata": {},
   "outputs": [
    {
     "name": "stderr",
     "output_type": "stream",
     "text": [
      "100%|██████████| 1475/1475 [00:00<00:00, 9318.39it/s]\n"
     ]
    }
   ],
   "source": [
    "with open('/datahdd/vmanuel/entity_typing_all_datasets/data/entity_typing_original_datasets/mapped_datasets/test_choi_into_BBN.json', 'w') as out:\n",
    "    for l in tqdm(test_choi_into_BBN):\n",
    "        json.dump(l, out)\n",
    "        out.write('\\n')"
   ]
  },
  {
   "cell_type": "markdown",
   "metadata": {},
   "source": [
    "## Choi into Onto"
   ]
  },
  {
   "cell_type": "code",
   "execution_count": 17,
   "metadata": {},
   "outputs": [
    {
     "name": "stderr",
     "output_type": "stream",
     "text": [
      "  1%|          | 19960/3549962 [00:00<00:36, 97969.99it/s]"
     ]
    },
    {
     "name": "stdout",
     "output_type": "stream",
     "text": [
      "['/person/artist/actor', '/person/artist', '/person'], ['actor', 'artist', 'person']\n",
      "['/organization', '/organization/sports_league'], ['organization', 'league']\n",
      "['/location/country', '/location/structure/government', '/organization/government', '/location', '/location/park', '/location/structure/government', '/organization/government'], ['country', 'government', 'location', 'park', 'government', 'agency']\n"
     ]
    },
    {
     "name": "stderr",
     "output_type": "stream",
     "text": [
      "100%|██████████| 3549962/3549962 [00:27<00:00, 127552.95it/s]\n"
     ]
    }
   ],
   "source": [
    "train_choi_into_Onto = filter_data(data=train_lines, mapping=choi_mappings['Ontonotes'])"
   ]
  },
  {
   "cell_type": "code",
   "execution_count": 18,
   "metadata": {},
   "outputs": [
    {
     "name": "stderr",
     "output_type": "stream",
     "text": [
      "100%|██████████| 561162/561162 [01:08<00:00, 8248.49it/s] \n"
     ]
    }
   ],
   "source": [
    "with open('/datahdd/vmanuel/entity_typing_all_datasets/data/entity_typing_original_datasets/mapped_datasets/train_choi_into_Onto.json', 'w') as out:\n",
    "    for l in tqdm(train_choi_into_Onto):\n",
    "        json.dump(l, out)\n",
    "        out.write('\\n')"
   ]
  },
  {
   "cell_type": "code",
   "execution_count": 77,
   "metadata": {},
   "outputs": [
    {
     "name": "stdout",
     "output_type": "stream",
     "text": [
      "['/location/country', '/location'], ['country', 'location']\n",
      "['/person/artist', '/person/artist/author', '/person'], ['artist', 'author', 'musician', 'person']\n",
      "['/organization', '/organization/company'], ['organization', 'company']\n"
     ]
    }
   ],
   "source": [
    "dev_choi_into_onto = filter_data(data=dev_lines, mapping=choi_mappings['Ontonotes'])"
   ]
  },
  {
   "cell_type": "code",
   "execution_count": 78,
   "metadata": {},
   "outputs": [
    {
     "name": "stderr",
     "output_type": "stream",
     "text": [
      "100%|██████████| 24221/24221 [00:03<00:00, 7983.17it/s]\n"
     ]
    }
   ],
   "source": [
    "with open('/datahdd/vmanuel/entity_typing_all_datasets/data/entity_typing_original_datasets/mapped_datasets/dev_choi_into_onto.json', 'w') as out:\n",
    "    for l in tqdm(dev_choi_into_onto):\n",
    "        json.dump(l, out)\n",
    "        out.write('\\n')"
   ]
  },
  {
   "cell_type": "code",
   "execution_count": 79,
   "metadata": {},
   "outputs": [
    {
     "name": "stdout",
     "output_type": "stream",
     "text": [
      "['/other/event'], ['gathering', 'confluence', 'ceremony', 'conference', 'meeting', 'event']\n",
      "['/person/political_figure', '/person'], ['serviceman', 'politician', 'statesman', 'policeman', 'official', 'spokesman', 'spokesperson', 'person']\n",
      "['/organization', '/location/structure/government', '/organization/government'], ['committee', 'legislature', 'organization', 'administration', 'assembly', 'place', 'government']\n"
     ]
    }
   ],
   "source": [
    "test_choi_into_onto = filter_data(data=test_lines, mapping=choi_mappings['Ontonotes'])"
   ]
  },
  {
   "cell_type": "code",
   "execution_count": 80,
   "metadata": {},
   "outputs": [
    {
     "name": "stderr",
     "output_type": "stream",
     "text": [
      "100%|██████████| 1532/1532 [00:00<00:00, 8740.26it/s]\n"
     ]
    }
   ],
   "source": [
    "with open('/datahdd/vmanuel/entity_typing_all_datasets/data/entity_typing_original_datasets/mapped_datasets/test_choi_into_onto.json', 'w') as out:\n",
    "    for l in tqdm(test_choi_into_onto):\n",
    "        json.dump(l, out)\n",
    "        out.write('\\n')"
   ]
  },
  {
   "cell_type": "markdown",
   "metadata": {},
   "source": [
    "## Choi into FIGER"
   ]
  },
  {
   "cell_type": "code",
   "execution_count": 19,
   "metadata": {},
   "outputs": [
    {
     "name": "stderr",
     "output_type": "stream",
     "text": [
      "  1%|          | 22791/3549962 [00:00<00:30, 115232.18it/s]"
     ]
    },
    {
     "name": "stdout",
     "output_type": "stream",
     "text": [
      "['/person/actor', '/person/artist', '/person'], ['actor', 'artist', 'person']\n",
      "['/organization', '/organization/sports_league'], ['organization', 'league']\n",
      "['/location/country', '/government', '/government/government', '/location', '/park', '/government', '/government/government'], ['country', 'government', 'location', 'park', 'government', 'agency']\n"
     ]
    },
    {
     "name": "stderr",
     "output_type": "stream",
     "text": [
      "100%|██████████| 3549962/3549962 [00:57<00:00, 61482.90it/s] \n"
     ]
    }
   ],
   "source": [
    "train_choi_into_figer = filter_data(data=train_lines, mapping=choi_mappings['figer'])"
   ]
  },
  {
   "cell_type": "code",
   "execution_count": 20,
   "metadata": {},
   "outputs": [
    {
     "name": "stderr",
     "output_type": "stream",
     "text": [
      "100%|██████████| 667679/667679 [01:21<00:00, 8199.27it/s] \n"
     ]
    }
   ],
   "source": [
    "with open('/datahdd/vmanuel/entity_typing_all_datasets/data/entity_typing_original_datasets/mapped_datasets/train_choi_into_figer.json', 'w') as out:\n",
    "    for l in tqdm(train_choi_into_figer):\n",
    "        json.dump(l, out)\n",
    "        out.write('\\n')"
   ]
  },
  {
   "cell_type": "code",
   "execution_count": 81,
   "metadata": {},
   "outputs": [
    {
     "name": "stdout",
     "output_type": "stream",
     "text": [
      "['/location/country', '/location'], ['country', 'location']\n",
      "['/person/artist', '/person/author', '/person/musician', '/person'], ['artist', 'author', 'musician', 'person']\n",
      "['/organization', '/organization/company'], ['organization', 'company']\n"
     ]
    }
   ],
   "source": [
    "dev_choi_into_figer = filter_data(data=dev_lines, mapping=choi_mappings['figer'])"
   ]
  },
  {
   "cell_type": "code",
   "execution_count": 82,
   "metadata": {},
   "outputs": [
    {
     "name": "stderr",
     "output_type": "stream",
     "text": [
      "100%|██████████| 28386/28386 [00:03<00:00, 7445.05it/s]\n"
     ]
    }
   ],
   "source": [
    "with open('/datahdd/vmanuel/entity_typing_all_datasets/data/entity_typing_original_datasets/mapped_datasets/dev_choi_into_figer.json', 'w') as out:\n",
    "    for l in tqdm(dev_choi_into_figer):\n",
    "        json.dump(l, out)\n",
    "        out.write('\\n')"
   ]
  },
  {
   "cell_type": "code",
   "execution_count": 83,
   "metadata": {},
   "outputs": [
    {
     "name": "stdout",
     "output_type": "stream",
     "text": [
      "['/time'], ['date', 'weekday', 'time', 'day']\n",
      "['/event'], ['gathering', 'confluence', 'ceremony', 'conference', 'meeting', 'event']\n",
      "['/person/politician', '/person'], ['serviceman', 'politician', 'statesman', 'policeman', 'official', 'spokesman', 'spokesperson', 'person']\n"
     ]
    }
   ],
   "source": [
    "test_choi_into_figer = filter_data(data=test_lines, mapping=choi_mappings['figer'])"
   ]
  },
  {
   "cell_type": "code",
   "execution_count": 84,
   "metadata": {},
   "outputs": [
    {
     "name": "stderr",
     "output_type": "stream",
     "text": [
      "100%|██████████| 1618/1618 [00:00<00:00, 8991.49it/s]\n"
     ]
    }
   ],
   "source": [
    "with open('/datahdd/vmanuel/entity_typing_all_datasets/data/entity_typing_original_datasets/mapped_datasets/test_choi_into_figer.json', 'w') as out:\n",
    "    for l in tqdm(test_choi_into_figer):\n",
    "        json.dump(l, out)\n",
    "        out.write('\\n')"
   ]
  },
  {
   "cell_type": "code",
   "execution_count": null,
   "metadata": {},
   "outputs": [],
   "source": []
  }
 ],
 "metadata": {
  "kernelspec": {
   "display_name": "Python 3",
   "language": "python",
   "name": "python3"
  },
  "language_info": {
   "codemirror_mode": {
    "name": "ipython",
    "version": 3
   },
   "file_extension": ".py",
   "mimetype": "text/x-python",
   "name": "python",
   "nbconvert_exporter": "python",
   "pygments_lexer": "ipython3",
   "version": "3.6.9"
  }
 },
 "nbformat": 4,
 "nbformat_minor": 2
}
