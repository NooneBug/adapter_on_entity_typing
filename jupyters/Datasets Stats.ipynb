{
 "cells": [
  {
   "cell_type": "code",
   "execution_count": 1,
   "metadata": {},
   "outputs": [],
   "source": [
    "import json\n",
    "def load_dataset(path):\n",
    "    with open(path, 'r') as inp:\n",
    "        return [json.loads(l) for l in inp.readlines()]"
   ]
  },
  {
   "cell_type": "markdown",
   "metadata": {},
   "source": [
    "# BBN"
   ]
  },
  {
   "cell_type": "code",
   "execution_count": 2,
   "metadata": {},
   "outputs": [],
   "source": [
    "train = '/datahdd/vmanuel/entity_typing_all_datasets/data/BBN/BBN/train_partitioned.json'\n",
    "dev = '/datahdd/vmanuel/entity_typing_all_datasets/data/BBN/BBN/dev_partitioned.json'\n",
    "test = '/datahdd/vmanuel/entity_typing_all_datasets/data/BBN/BBN/test_tree.json'"
   ]
  },
  {
   "cell_type": "code",
   "execution_count": 3,
   "metadata": {},
   "outputs": [],
   "source": [
    "mapping_on_onto_dev = '/datahdd/vmanuel/entity_typing_all_datasets/data/entity_typing_original_datasets/mapped_datasets/dev_BBN_into_Ontonotes.json'\n",
    "mapping_on_figer_dev = '/datahdd/vmanuel/entity_typing_all_datasets/data/entity_typing_original_datasets/mapped_datasets/dev_BBN_into_FIGER.json'\n",
    "mapping_on_choi_dev = '/datahdd/vmanuel/entity_typing_all_datasets/data/entity_typing_original_datasets/mapped_datasets/dev_BBN_into_choi.json'\n",
    "\n",
    "mapping_on_onto_test = '/datahdd/vmanuel/entity_typing_all_datasets/data/entity_typing_original_datasets/mapped_datasets/test_BBN_into_Ontonotes.json'\n",
    "mapping_on_figer_test = '/datahdd/vmanuel/entity_typing_all_datasets/data/entity_typing_original_datasets/mapped_datasets/test_BBN_into_FIGER.json'\n",
    "mapping_on_choi_test = '/datahdd/vmanuel/entity_typing_all_datasets/data/entity_typing_original_datasets/mapped_datasets/test_BBN_into_choi.json'\n"
   ]
  },
  {
   "cell_type": "code",
   "execution_count": 4,
   "metadata": {},
   "outputs": [],
   "source": [
    "train = load_dataset(train)\n",
    "dev = load_dataset(dev)\n",
    "test = load_dataset(test)\n",
    "\n",
    "mapping_on_onto_dev = load_dataset(mapping_on_onto_dev)\n",
    "mapping_on_figer_dev = load_dataset(mapping_on_figer_dev)\n",
    "mapping_on_choi_dev = load_dataset(mapping_on_choi_dev)\n",
    "\n",
    "mapping_on_onto_test = load_dataset(mapping_on_onto_test)\n",
    "mapping_on_figer_test = load_dataset(mapping_on_figer_test)\n",
    "mapping_on_choi_test = load_dataset(mapping_on_choi_test)"
   ]
  },
  {
   "cell_type": "code",
   "execution_count": 5,
   "metadata": {},
   "outputs": [],
   "source": [
    "def print_stats(dataset):\n",
    "    all_types = set()\n",
    "    all_types_w_rep = []\n",
    "    for d in dataset:\n",
    "        all_types = all_types.union(set(d['y_str']))\n",
    "        all_types_w_rep.extend(d['y_str'])\n",
    "    print('# examples: {:<7}, # types: {:<4}, avg_types_x_examples: {:.2f}'.format(len(dataset),\n",
    "                                                                                   len(all_types), \n",
    "                                                                                   len(all_types_w_rep) / len(dataset)))"
   ]
  },
  {
   "cell_type": "code",
   "execution_count": 6,
   "metadata": {},
   "outputs": [
    {
     "name": "stdout",
     "output_type": "stream",
     "text": [
      "# examples: 84357  , # types: 47  , avg_types_x_examples: 1.86\n"
     ]
    }
   ],
   "source": [
    "print_stats(train)"
   ]
  },
  {
   "cell_type": "code",
   "execution_count": 7,
   "metadata": {},
   "outputs": [
    {
     "name": "stdout",
     "output_type": "stream",
     "text": [
      "# examples: 1721   , # types: 42  , avg_types_x_examples: 1.83\n"
     ]
    }
   ],
   "source": [
    "print_stats(dev)"
   ]
  },
  {
   "cell_type": "code",
   "execution_count": 8,
   "metadata": {},
   "outputs": [
    {
     "name": "stdout",
     "output_type": "stream",
     "text": [
      "# examples: 1645   , # types: 28  , avg_types_x_examples: 1.56\n"
     ]
    }
   ],
   "source": [
    "print_stats(mapping_on_onto_dev)"
   ]
  },
  {
   "cell_type": "code",
   "execution_count": 9,
   "metadata": {},
   "outputs": [
    {
     "name": "stdout",
     "output_type": "stream",
     "text": [
      "# examples: 1615   , # types: 30  , avg_types_x_examples: 1.62\n"
     ]
    }
   ],
   "source": [
    "print_stats(mapping_on_figer_dev)"
   ]
  },
  {
   "cell_type": "code",
   "execution_count": 10,
   "metadata": {},
   "outputs": [
    {
     "name": "stdout",
     "output_type": "stream",
     "text": [
      "# examples: 1699   , # types: 38  , avg_types_x_examples: 1.60\n"
     ]
    }
   ],
   "source": [
    "print_stats(mapping_on_choi_dev)"
   ]
  },
  {
   "cell_type": "code",
   "execution_count": 11,
   "metadata": {},
   "outputs": [
    {
     "name": "stdout",
     "output_type": "stream",
     "text": [
      "# examples: 12349  , # types: 39  , avg_types_x_examples: 1.67\n"
     ]
    }
   ],
   "source": [
    "print_stats(test)"
   ]
  },
  {
   "cell_type": "code",
   "execution_count": 12,
   "metadata": {},
   "outputs": [
    {
     "name": "stdout",
     "output_type": "stream",
     "text": [
      "# examples: 11483  , # types: 29  , avg_types_x_examples: 1.47\n"
     ]
    }
   ],
   "source": [
    "print_stats(mapping_on_onto_test)"
   ]
  },
  {
   "cell_type": "code",
   "execution_count": 13,
   "metadata": {},
   "outputs": [
    {
     "name": "stdout",
     "output_type": "stream",
     "text": [
      "# examples: 11811  , # types: 31  , avg_types_x_examples: 1.46\n"
     ]
    }
   ],
   "source": [
    "print_stats(mapping_on_figer_test)"
   ]
  },
  {
   "cell_type": "code",
   "execution_count": 14,
   "metadata": {
    "scrolled": true
   },
   "outputs": [
    {
     "name": "stdout",
     "output_type": "stream",
     "text": [
      "# examples: 12156  , # types: 35  , avg_types_x_examples: 1.49\n"
     ]
    }
   ],
   "source": [
    "print_stats(mapping_on_choi_test)"
   ]
  },
  {
   "cell_type": "markdown",
   "metadata": {},
   "source": [
    "# Ontonotes"
   ]
  },
  {
   "cell_type": "code",
   "execution_count": 23,
   "metadata": {},
   "outputs": [],
   "source": [
    "train = '/datahdd/vmanuel/entity_typing_all_datasets/data/entity_typing_original_datasets/ontonotes/g_train_tree.json'\n",
    "dev = '/datahdd/vmanuel/entity_typing_all_datasets/data/entity_typing_original_datasets/ontonotes/g_dev_tree.json'\n",
    "test = '/datahdd/vmanuel/entity_typing_all_datasets/data/entity_typing_original_datasets/ontonotes/g_test_tree.json'"
   ]
  },
  {
   "cell_type": "code",
   "execution_count": 24,
   "metadata": {},
   "outputs": [],
   "source": [
    "mapping_on_bbn_dev = '/datahdd/vmanuel/entity_typing_all_datasets/data/entity_typing_original_datasets/mapped_datasets/dev_Onto_into_BBN.json'\n",
    "mapping_on_figer_dev = '/datahdd/vmanuel/entity_typing_all_datasets/data/entity_typing_original_datasets/mapped_datasets/dev_Onto_into_figer.json'\n",
    "mapping_on_choi_dev = '/datahdd/vmanuel/entity_typing_all_datasets/data/entity_typing_original_datasets/mapped_datasets/dev_Onto_into_choi.json'\n",
    "\n",
    "mapping_on_bbn_test = '/datahdd/vmanuel/entity_typing_all_datasets/data/entity_typing_original_datasets/mapped_datasets/test_Onto_into_BBN.json'\n",
    "mapping_on_figer_test = '/datahdd/vmanuel/entity_typing_all_datasets/data/entity_typing_original_datasets/mapped_datasets/test_Onto_into_figer.json'\n",
    "mapping_on_choi_test = '/datahdd/vmanuel/entity_typing_all_datasets/data/entity_typing_original_datasets/mapped_datasets/test_Onto_into_choi.json'"
   ]
  },
  {
   "cell_type": "code",
   "execution_count": 25,
   "metadata": {},
   "outputs": [],
   "source": [
    "train = load_dataset(train)\n",
    "dev = load_dataset(dev)\n",
    "test = load_dataset(test)\n",
    "\n",
    "mapping_on_bbn_dev = load_dataset(mapping_on_bbn_dev)\n",
    "mapping_on_figer_dev = load_dataset(mapping_on_figer_dev)\n",
    "mapping_on_choi_dev = load_dataset(mapping_on_choi_dev)\n",
    "\n",
    "mapping_on_bbn_test = load_dataset(mapping_on_bbn_test)\n",
    "mapping_on_figer_test = load_dataset(mapping_on_figer_test)\n",
    "mapping_on_choi_test = load_dataset(mapping_on_choi_test)"
   ]
  },
  {
   "cell_type": "code",
   "execution_count": 26,
   "metadata": {},
   "outputs": [],
   "source": [
    "def print_stats(dataset):\n",
    "    all_types = set()\n",
    "    all_types_w_rep = []\n",
    "    for d in dataset:\n",
    "        all_types = all_types.union(set(d['y_str']))\n",
    "        all_types_w_rep.extend(d['y_str'])\n",
    "    print('# examples: {:<7}, # types: {:<4}, avg_types_x_examples: {:.2f}'.format(len(dataset),\n",
    "                                                                                   len(all_types), \n",
    "                                                                                   len(all_types_w_rep) / len(dataset)))"
   ]
  },
  {
   "cell_type": "code",
   "execution_count": 27,
   "metadata": {},
   "outputs": [
    {
     "name": "stdout",
     "output_type": "stream",
     "text": [
      "# examples: 251039 , # types: 89  , avg_types_x_examples: 2.79\n"
     ]
    }
   ],
   "source": [
    "print_stats(train)"
   ]
  },
  {
   "cell_type": "code",
   "execution_count": 28,
   "metadata": {},
   "outputs": [
    {
     "name": "stdout",
     "output_type": "stream",
     "text": [
      "# examples: 2202   , # types: 45  , avg_types_x_examples: 1.49\n"
     ]
    }
   ],
   "source": [
    "print_stats(dev)"
   ]
  },
  {
   "cell_type": "code",
   "execution_count": 29,
   "metadata": {},
   "outputs": [
    {
     "name": "stdout",
     "output_type": "stream",
     "text": [
      "# examples: 994    , # types: 19  , avg_types_x_examples: 1.56\n"
     ]
    }
   ],
   "source": [
    "print_stats(mapping_on_bbn_dev)"
   ]
  },
  {
   "cell_type": "code",
   "execution_count": 30,
   "metadata": {},
   "outputs": [
    {
     "name": "stdout",
     "output_type": "stream",
     "text": [
      "# examples: 1052   , # types: 38  , avg_types_x_examples: 1.67\n"
     ]
    }
   ],
   "source": [
    "print_stats(mapping_on_figer_dev)"
   ]
  },
  {
   "cell_type": "code",
   "execution_count": 31,
   "metadata": {},
   "outputs": [
    {
     "name": "stdout",
     "output_type": "stream",
     "text": [
      "# examples: 1054   , # types: 38  , avg_types_x_examples: 1.68\n"
     ]
    }
   ],
   "source": [
    "print_stats(mapping_on_choi_dev)"
   ]
  },
  {
   "cell_type": "code",
   "execution_count": 32,
   "metadata": {},
   "outputs": [
    {
     "name": "stdout",
     "output_type": "stream",
     "text": [
      "# examples: 8963   , # types: 67  , avg_types_x_examples: 1.49\n"
     ]
    }
   ],
   "source": [
    "print_stats(test)"
   ]
  },
  {
   "cell_type": "code",
   "execution_count": 33,
   "metadata": {},
   "outputs": [
    {
     "name": "stdout",
     "output_type": "stream",
     "text": [
      "# examples: 4261   , # types: 25  , avg_types_x_examples: 1.49\n"
     ]
    }
   ],
   "source": [
    "print_stats(mapping_on_bbn_test)"
   ]
  },
  {
   "cell_type": "code",
   "execution_count": 34,
   "metadata": {},
   "outputs": [
    {
     "name": "stdout",
     "output_type": "stream",
     "text": [
      "# examples: 4475   , # types: 56  , avg_types_x_examples: 1.65\n"
     ]
    }
   ],
   "source": [
    "print_stats(mapping_on_figer_test)"
   ]
  },
  {
   "cell_type": "code",
   "execution_count": 35,
   "metadata": {
    "scrolled": true
   },
   "outputs": [
    {
     "name": "stdout",
     "output_type": "stream",
     "text": [
      "# examples: 4480   , # types: 56  , avg_types_x_examples: 1.67\n"
     ]
    }
   ],
   "source": [
    "print_stats(mapping_on_choi_test)"
   ]
  },
  {
   "cell_type": "markdown",
   "metadata": {},
   "source": [
    "# FIGER"
   ]
  },
  {
   "cell_type": "code",
   "execution_count": 42,
   "metadata": {},
   "outputs": [],
   "source": [
    "train = '/datahdd/vmanuel/entity_typing_all_datasets/data/entity_typing_original_datasets/FIGER/train_partitioned.json'\n",
    "dev = '/datahdd/vmanuel/entity_typing_all_datasets/data/entity_typing_original_datasets/FIGER/dev_partitioned.json'\n",
    "test = '/datahdd/vmanuel/entity_typing_all_datasets/data/FIGER/test_tree.json'"
   ]
  },
  {
   "cell_type": "code",
   "execution_count": 39,
   "metadata": {},
   "outputs": [],
   "source": [
    "mapping_on_bbn_dev = '/datahdd/vmanuel/entity_typing_all_datasets/data/entity_typing_original_datasets/mapped_datasets/dev_figer_into_BBN.json'\n",
    "mapping_on_onto_dev = '/datahdd/vmanuel/entity_typing_all_datasets/data/entity_typing_original_datasets/mapped_datasets/dev_figer_into_Ontonotes.json'\n",
    "mapping_on_choi_dev = '/datahdd/vmanuel/entity_typing_all_datasets/data/entity_typing_original_datasets/mapped_datasets/dev_figer_into_choi.json'\n",
    "\n",
    "mapping_on_bbn_test = '/datahdd/vmanuel/entity_typing_all_datasets/data/entity_typing_original_datasets/mapped_datasets/test_figer_into_BBN.json'\n",
    "mapping_on_onto_test = '/datahdd/vmanuel/entity_typing_all_datasets/data/entity_typing_original_datasets/mapped_datasets/test_figer_into_Ontonotes.json'\n",
    "mapping_on_choi_test = '/datahdd/vmanuel/entity_typing_all_datasets/data/entity_typing_original_datasets/mapped_datasets/test_figer_into_choi.json'"
   ]
  },
  {
   "cell_type": "code",
   "execution_count": 43,
   "metadata": {},
   "outputs": [],
   "source": [
    "# train = load_dataset(train)\n",
    "# dev = load_dataset(dev)\n",
    "test = load_dataset(test)\n",
    "\n",
    "mapping_on_bbn_dev = load_dataset(mapping_on_bbn_dev)\n",
    "mapping_on_onto_dev = load_dataset(mapping_on_onto_dev)\n",
    "mapping_on_choi_dev = load_dataset(mapping_on_choi_dev)\n",
    "\n",
    "mapping_on_bbn_test = load_dataset(mapping_on_bbn_test)\n",
    "mapping_on_onto_test = load_dataset(mapping_on_onto_test)\n",
    "mapping_on_choi_test = load_dataset(mapping_on_choi_test)"
   ]
  },
  {
   "cell_type": "code",
   "execution_count": 44,
   "metadata": {},
   "outputs": [],
   "source": [
    "def print_stats(dataset):\n",
    "    all_types = set()\n",
    "    all_types_w_rep = []\n",
    "    for d in dataset:\n",
    "        all_types = all_types.union(set(d['y_str']))\n",
    "        all_types_w_rep.extend(d['y_str'])\n",
    "    print('# examples: {:<7}, # types: {:<4}, avg_types_x_examples: {:.2f}'.format(len(dataset),\n",
    "                                                                                   len(all_types), \n",
    "                                                                                   len(all_types_w_rep) / len(dataset)))"
   ]
  },
  {
   "cell_type": "code",
   "execution_count": 61,
   "metadata": {},
   "outputs": [
    {
     "name": "stdout",
     "output_type": "stream",
     "text": [
      "# examples: 2684906, # types: 128 , avg_types_x_examples: 2.39\n"
     ]
    }
   ],
   "source": [
    "print_stats(train)"
   ]
  },
  {
   "cell_type": "code",
   "execution_count": 45,
   "metadata": {},
   "outputs": [
    {
     "ename": "TypeError",
     "evalue": "string indices must be integers",
     "output_type": "error",
     "traceback": [
      "\u001b[0;31m---------------------------------------------------------------------------\u001b[0m",
      "\u001b[0;31mTypeError\u001b[0m                                 Traceback (most recent call last)",
      "\u001b[0;32m<ipython-input-45-2438af6dd874>\u001b[0m in \u001b[0;36m<module>\u001b[0;34m\u001b[0m\n\u001b[0;32m----> 1\u001b[0;31m \u001b[0mprint_stats\u001b[0m\u001b[0;34m(\u001b[0m\u001b[0mdev\u001b[0m\u001b[0;34m)\u001b[0m\u001b[0;34m\u001b[0m\u001b[0;34m\u001b[0m\u001b[0m\n\u001b[0m",
      "\u001b[0;32m<ipython-input-44-f191ee1a03e8>\u001b[0m in \u001b[0;36mprint_stats\u001b[0;34m(dataset)\u001b[0m\n\u001b[1;32m      3\u001b[0m     \u001b[0mall_types_w_rep\u001b[0m \u001b[0;34m=\u001b[0m \u001b[0;34m[\u001b[0m\u001b[0;34m]\u001b[0m\u001b[0;34m\u001b[0m\u001b[0;34m\u001b[0m\u001b[0m\n\u001b[1;32m      4\u001b[0m     \u001b[0;32mfor\u001b[0m \u001b[0md\u001b[0m \u001b[0;32min\u001b[0m \u001b[0mdataset\u001b[0m\u001b[0;34m:\u001b[0m\u001b[0;34m\u001b[0m\u001b[0;34m\u001b[0m\u001b[0m\n\u001b[0;32m----> 5\u001b[0;31m         \u001b[0mall_types\u001b[0m \u001b[0;34m=\u001b[0m \u001b[0mall_types\u001b[0m\u001b[0;34m.\u001b[0m\u001b[0munion\u001b[0m\u001b[0;34m(\u001b[0m\u001b[0mset\u001b[0m\u001b[0;34m(\u001b[0m\u001b[0md\u001b[0m\u001b[0;34m[\u001b[0m\u001b[0;34m'y_str'\u001b[0m\u001b[0;34m]\u001b[0m\u001b[0;34m)\u001b[0m\u001b[0;34m)\u001b[0m\u001b[0;34m\u001b[0m\u001b[0;34m\u001b[0m\u001b[0m\n\u001b[0m\u001b[1;32m      6\u001b[0m         \u001b[0mall_types_w_rep\u001b[0m\u001b[0;34m.\u001b[0m\u001b[0mextend\u001b[0m\u001b[0;34m(\u001b[0m\u001b[0md\u001b[0m\u001b[0;34m[\u001b[0m\u001b[0;34m'y_str'\u001b[0m\u001b[0;34m]\u001b[0m\u001b[0;34m)\u001b[0m\u001b[0;34m\u001b[0m\u001b[0;34m\u001b[0m\u001b[0m\n\u001b[1;32m      7\u001b[0m     print('# examples: {:<7}, # types: {:<4}, avg_types_x_examples: {:.2f}'.format(len(dataset),\n",
      "\u001b[0;31mTypeError\u001b[0m: string indices must be integers"
     ]
    }
   ],
   "source": [
    "print_stats(dev)"
   ]
  },
  {
   "cell_type": "code",
   "execution_count": 46,
   "metadata": {},
   "outputs": [
    {
     "name": "stdout",
     "output_type": "stream",
     "text": [
      "# examples: 5005   , # types: 30  , avg_types_x_examples: 1.65\n"
     ]
    }
   ],
   "source": [
    "print_stats(mapping_on_bbn_dev)"
   ]
  },
  {
   "cell_type": "code",
   "execution_count": 47,
   "metadata": {},
   "outputs": [
    {
     "name": "stdout",
     "output_type": "stream",
     "text": [
      "# examples: 5214   , # types: 77  , avg_types_x_examples: 2.27\n"
     ]
    }
   ],
   "source": [
    "print_stats(mapping_on_onto_dev)"
   ]
  },
  {
   "cell_type": "code",
   "execution_count": 48,
   "metadata": {},
   "outputs": [
    {
     "name": "stdout",
     "output_type": "stream",
     "text": [
      "# examples: 5364   , # types: 102 , avg_types_x_examples: 2.28\n"
     ]
    }
   ],
   "source": [
    "print_stats(mapping_on_choi_dev)"
   ]
  },
  {
   "cell_type": "code",
   "execution_count": 49,
   "metadata": {},
   "outputs": [
    {
     "name": "stdout",
     "output_type": "stream",
     "text": [
      "# examples: 563    , # types: 50  , avg_types_x_examples: 1.49\n"
     ]
    }
   ],
   "source": [
    "print_stats(test)"
   ]
  },
  {
   "cell_type": "code",
   "execution_count": 50,
   "metadata": {},
   "outputs": [
    {
     "name": "stdout",
     "output_type": "stream",
     "text": [
      "# examples: 522    , # types: 17  , avg_types_x_examples: 1.30\n"
     ]
    }
   ],
   "source": [
    "print_stats(mapping_on_bbn_test)"
   ]
  },
  {
   "cell_type": "code",
   "execution_count": 51,
   "metadata": {},
   "outputs": [
    {
     "name": "stdout",
     "output_type": "stream",
     "text": [
      "# examples: 528    , # types: 35  , avg_types_x_examples: 1.44\n"
     ]
    }
   ],
   "source": [
    "print_stats(mapping_on_onto_test)"
   ]
  },
  {
   "cell_type": "code",
   "execution_count": 52,
   "metadata": {
    "scrolled": true
   },
   "outputs": [
    {
     "name": "stdout",
     "output_type": "stream",
     "text": [
      "# examples: 556    , # types: 40  , avg_types_x_examples: 1.36\n"
     ]
    }
   ],
   "source": [
    "print_stats(mapping_on_choi_test)"
   ]
  },
  {
   "cell_type": "markdown",
   "metadata": {},
   "source": [
    "## Choi"
   ]
  },
  {
   "cell_type": "code",
   "execution_count": 56,
   "metadata": {},
   "outputs": [],
   "source": [
    "train = '/datahdd/vmanuel/entity_typing_all_datasets/data/entity_typing_original_datasets/choi/train.json'\n",
    "dev = '/datahdd/vmanuel/entity_typing_all_datasets/data/entity_typing_original_datasets/choi/dev.json'\n",
    "test = '/datahdd/vmanuel/entity_typing_all_datasets/data/entity_typing_original_datasets/choi/test_tree.json'"
   ]
  },
  {
   "cell_type": "code",
   "execution_count": 57,
   "metadata": {},
   "outputs": [],
   "source": [
    "mapping_on_bbn_dev = '/datahdd/vmanuel/entity_typing_all_datasets/data/entity_typing_original_datasets/mapped_datasets/dev_choi_into_BBN.json'\n",
    "mapping_on_onto_dev = '/datahdd/vmanuel/entity_typing_all_datasets/data/entity_typing_original_datasets/mapped_datasets/dev_choi_into_onto.json'\n",
    "mapping_on_figer_dev = '/datahdd/vmanuel/entity_typing_all_datasets/data/entity_typing_original_datasets/mapped_datasets/dev_choi_into_figer.json'\n",
    "\n",
    "mapping_on_bbn_test = '/datahdd/vmanuel/entity_typing_all_datasets/data/entity_typing_original_datasets/mapped_datasets/test_choi_into_BBN.json'\n",
    "mapping_on_onto_test = '/datahdd/vmanuel/entity_typing_all_datasets/data/entity_typing_original_datasets/mapped_datasets/test_choi_into_onto.json'\n",
    "mapping_on_figer_test = '/datahdd/vmanuel/entity_typing_all_datasets/data/entity_typing_original_datasets/mapped_datasets/test_choi_into_figer.json'"
   ]
  },
  {
   "cell_type": "code",
   "execution_count": 58,
   "metadata": {},
   "outputs": [],
   "source": [
    "# train = load_dataset(train)\n",
    "dev = load_dataset(dev)\n",
    "test = load_dataset(test)\n",
    "\n",
    "mapping_on_bbn_dev = load_dataset(mapping_on_bbn_dev)\n",
    "mapping_on_onto_dev = load_dataset(mapping_on_onto_dev)\n",
    "mapping_on_figer_dev = load_dataset(mapping_on_figer_dev)\n",
    "\n",
    "mapping_on_bbn_test = load_dataset(mapping_on_bbn_test)\n",
    "mapping_on_onto_test = load_dataset(mapping_on_onto_test)\n",
    "mapping_on_figer_test = load_dataset(mapping_on_figer_test)"
   ]
  },
  {
   "cell_type": "code",
   "execution_count": 59,
   "metadata": {},
   "outputs": [],
   "source": [
    "def print_stats(dataset):\n",
    "    all_types = set()\n",
    "    all_types_w_rep = []\n",
    "    for d in dataset:\n",
    "        all_types = all_types.union(set(d['y_str']))\n",
    "        all_types_w_rep.extend(d['y_str'])\n",
    "    print('# examples: {:<7}, # types: {:<4}, avg_types_x_examples: {:.2f}'.format(len(dataset),\n",
    "                                                                                   len(all_types), \n",
    "                                                                                   len(all_types_w_rep) / len(dataset)))"
   ]
  },
  {
   "cell_type": "code",
   "execution_count": 76,
   "metadata": {},
   "outputs": [
    {
     "name": "stdout",
     "output_type": "stream",
     "text": [
      "# examples: 3549962, # types: 8617, avg_types_x_examples: 1.29\n"
     ]
    }
   ],
   "source": [
    "print_stats(train)"
   ]
  },
  {
   "cell_type": "code",
   "execution_count": 60,
   "metadata": {},
   "outputs": [
    {
     "name": "stdout",
     "output_type": "stream",
     "text": [
      "# examples: 126792 , # types: 5761, avg_types_x_examples: 1.39\n"
     ]
    }
   ],
   "source": [
    "print_stats(dev)"
   ]
  },
  {
   "cell_type": "code",
   "execution_count": 61,
   "metadata": {},
   "outputs": [
    {
     "name": "stdout",
     "output_type": "stream",
     "text": [
      "# examples: 19831  , # types: 43  , avg_types_x_examples: 1.30\n"
     ]
    }
   ],
   "source": [
    "print_stats(mapping_on_bbn_dev)"
   ]
  },
  {
   "cell_type": "code",
   "execution_count": 62,
   "metadata": {},
   "outputs": [
    {
     "name": "stdout",
     "output_type": "stream",
     "text": [
      "# examples: 24221  , # types: 82  , avg_types_x_examples: 1.62\n"
     ]
    }
   ],
   "source": [
    "print_stats(mapping_on_onto_dev)"
   ]
  },
  {
   "cell_type": "code",
   "execution_count": 63,
   "metadata": {},
   "outputs": [
    {
     "name": "stdout",
     "output_type": "stream",
     "text": [
      "# examples: 28386  , # types: 113 , avg_types_x_examples: 1.57\n"
     ]
    }
   ],
   "source": [
    "print_stats(mapping_on_figer_dev)"
   ]
  },
  {
   "cell_type": "code",
   "execution_count": 64,
   "metadata": {},
   "outputs": [
    {
     "name": "stdout",
     "output_type": "stream",
     "text": [
      "# examples: 1998   , # types: 1682, avg_types_x_examples: 5.37\n"
     ]
    }
   ],
   "source": [
    "print_stats(test)"
   ]
  },
  {
   "cell_type": "code",
   "execution_count": 65,
   "metadata": {},
   "outputs": [
    {
     "name": "stdout",
     "output_type": "stream",
     "text": [
      "# examples: 1475   , # types: 40  , avg_types_x_examples: 1.31\n"
     ]
    }
   ],
   "source": [
    "print_stats(mapping_on_bbn_test)"
   ]
  },
  {
   "cell_type": "code",
   "execution_count": 66,
   "metadata": {},
   "outputs": [
    {
     "name": "stdout",
     "output_type": "stream",
     "text": [
      "# examples: 1532   , # types: 69  , avg_types_x_examples: 1.57\n"
     ]
    }
   ],
   "source": [
    "print_stats(mapping_on_onto_test)"
   ]
  },
  {
   "cell_type": "code",
   "execution_count": 67,
   "metadata": {
    "scrolled": true
   },
   "outputs": [
    {
     "name": "stdout",
     "output_type": "stream",
     "text": [
      "# examples: 1618   , # types: 90  , avg_types_x_examples: 1.61\n"
     ]
    }
   ],
   "source": [
    "print_stats(mapping_on_figer_test)"
   ]
  },
  {
   "cell_type": "code",
   "execution_count": null,
   "metadata": {},
   "outputs": [],
   "source": []
  }
 ],
 "metadata": {
  "kernelspec": {
   "display_name": "Python 3",
   "language": "python",
   "name": "python3"
  },
  "language_info": {
   "codemirror_mode": {
    "name": "ipython",
    "version": 3
   },
   "file_extension": ".py",
   "mimetype": "text/x-python",
   "name": "python",
   "nbconvert_exporter": "python",
   "pygments_lexer": "ipython3",
   "version": "3.6.9"
  }
 },
 "nbformat": 4,
 "nbformat_minor": 2
}
