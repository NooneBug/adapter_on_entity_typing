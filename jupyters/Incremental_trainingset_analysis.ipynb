{
 "cells": [
  {
   "cell_type": "code",
   "execution_count": 1,
   "id": "forty-machinery",
   "metadata": {},
   "outputs": [],
   "source": [
    "import json\n",
    "from tqdm import tqdm"
   ]
  },
  {
   "cell_type": "code",
   "execution_count": 2,
   "id": "architectural-orlando",
   "metadata": {},
   "outputs": [],
   "source": [
    "def load_dataset_and_extract_types(path):\n",
    "    with open(path, 'r') as inp:\n",
    "        lines = [json.loads(l) for l in tqdm(inp.readlines())]\n",
    "    return lines"
   ]
  },
  {
   "cell_type": "code",
   "execution_count": 3,
   "id": "opposite-radar",
   "metadata": {},
   "outputs": [],
   "source": [
    "import nltk\n",
    "from collections import defaultdict\n",
    "def count_types(list_of_types):\n",
    "    all_types = [t for l in tqdm(list_of_types) for t in l['y_str']]\n",
    "    type_counter = defaultdict(int)\n",
    "    for t in tqdm(all_types):\n",
    "        type_counter[t] += 1\n",
    "    c = [(word, round(type_counter[word], 2)) for word in tqdm(set(all_types))]     \n",
    "    return sorted(c, key = lambda x : x[1], reverse = False)"
   ]
  },
  {
   "cell_type": "code",
   "execution_count": 4,
   "id": "built-editor",
   "metadata": {},
   "outputs": [
    {
     "ename": "NameError",
     "evalue": "name 'train_dataset' is not defined",
     "output_type": "error",
     "traceback": [
      "\u001b[0;31m---------------------------------------------------------------------------\u001b[0m",
      "\u001b[0;31mNameError\u001b[0m                                 Traceback (most recent call last)",
      "\u001b[0;32m<ipython-input-4-a0be1c17c5b0>\u001b[0m in \u001b[0;36m<module>\u001b[0;34m\u001b[0m\n\u001b[0;32m----> 1\u001b[0;31m \u001b[0mtrain_dataset\u001b[0m\u001b[0;34m[\u001b[0m\u001b[0;36m0\u001b[0m\u001b[0;34m]\u001b[0m\u001b[0;34m\u001b[0m\u001b[0;34m\u001b[0m\u001b[0m\n\u001b[0m",
      "\u001b[0;31mNameError\u001b[0m: name 'train_dataset' is not defined"
     ]
    }
   ],
   "source": [
    "train_dataset[0]"
   ]
  },
  {
   "cell_type": "markdown",
   "id": "interesting-shepherd",
   "metadata": {},
   "source": [
    "# BBN"
   ]
  },
  {
   "cell_type": "code",
   "execution_count": 5,
   "id": "freelance-snapshot",
   "metadata": {},
   "outputs": [],
   "source": [
    "train = '/datahdd/vmanuel/entity_typing_all_datasets/data/BBN/BBN/train_partitioned.json'"
   ]
  },
  {
   "cell_type": "code",
   "execution_count": 6,
   "id": "favorite-encoding",
   "metadata": {},
   "outputs": [
    {
     "name": "stderr",
     "output_type": "stream",
     "text": [
      "100%|██████████| 84357/84357 [00:01<00:00, 43690.22it/s]\n",
      "100%|██████████| 84357/84357 [00:00<00:00, 1160895.54it/s]\n",
      "100%|██████████| 157070/157070 [00:00<00:00, 1426062.09it/s]\n",
      "100%|██████████| 47/47 [00:00<00:00, 6557.96it/s]\n"
     ]
    }
   ],
   "source": [
    "train_dataset = load_dataset_and_extract_types(train)\n",
    "types_number = dict(count_types(train_dataset))"
   ]
  },
  {
   "cell_type": "code",
   "execution_count": 7,
   "id": "detailed-exception",
   "metadata": {},
   "outputs": [],
   "source": [
    "def extract_k(list_of_examples, k, types_number, extracted=defaultdict(int), extracted_dataset=[], extracted_lines = []):\n",
    "    max_not_reached = {t:False for t in types_number.keys()}\n",
    "    i = 0\n",
    "    while not all(list(max_not_reached.values())):\n",
    "        example = list_of_examples[i]\n",
    "        types = example['y_str']\n",
    "        line_index = example['line']\n",
    "        extracted_types = [extracted[t] for t in types]\n",
    "        if line_index not in extracted_lines:\n",
    "            if any([e < k for e in extracted_types]):\n",
    "                extracted_dataset.append(example)\n",
    "                extracted_lines.append(line_index)\n",
    "                for t in types:\n",
    "                    extracted[t] += 1\n",
    "\n",
    "                max_not_reached = {t:extracted[t] >= types_number[t] or extracted[t] >= k for t in types_number.keys()} \n",
    "        i += 1\n",
    "    return extracted_dataset, extracted, extracted_lines"
   ]
  },
  {
   "cell_type": "code",
   "execution_count": 8,
   "id": "joint-offer",
   "metadata": {},
   "outputs": [],
   "source": [
    "dataset_10, extracted_10, lines_10 = extract_k(train_dataset, 10, types_number)"
   ]
  },
  {
   "cell_type": "code",
   "execution_count": 9,
   "id": "convenient-terrorism",
   "metadata": {},
   "outputs": [
    {
     "data": {
      "text/plain": [
       "defaultdict(int,\n",
       "            {'/PLANT': 18,\n",
       "             '/PRODUCT': 30,\n",
       "             '/SUBSTANCE': 29,\n",
       "             '/SUBSTANCE/FOOD': 11,\n",
       "             '/LOCATION/LAKE_SEA_OCEAN': 5,\n",
       "             '/ORGANIZATION/HOTEL': 10,\n",
       "             '/FACILITY/BRIDGE': 10,\n",
       "             '/ORGANIZATION/HOSPITAL': 10,\n",
       "             '/WORK_OF_ART/PLAY': 10,\n",
       "             '/FACILITY/AIRPORT': 10,\n",
       "             '/ORGANIZATION/RELIGIOUS': 10,\n",
       "             '/LOCATION/RIVER': 10,\n",
       "             '/FACILITY/HIGHWAY_STREET': 10,\n",
       "             '/EVENT/HURRICANE': 10,\n",
       "             '/PRODUCT/WEAPON': 10,\n",
       "             '/ORGANIZATION/MUSEUM': 10,\n",
       "             '/LOCATION/CONTINENT': 10,\n",
       "             '/LAW': 10,\n",
       "             '/FACILITY/BUILDING': 24,\n",
       "             '/FACILITY/ATTRACTION': 23,\n",
       "             '/GAME': 10,\n",
       "             '/PRODUCT/VEHICLE': 10,\n",
       "             '/ANIMAL': 10,\n",
       "             '/LANGUAGE': 10,\n",
       "             '/ORGANIZATION/POLITICAL': 10,\n",
       "             '/FACILITY': 61,\n",
       "             '/WORK_OF_ART/SONG': 19,\n",
       "             '/ORGANIZATION/EDUCATIONAL': 11,\n",
       "             '/LOCATION/REGION': 13,\n",
       "             '/GPE/STATE_PROVINCE': 10,\n",
       "             '/CONTACT_INFO': 10,\n",
       "             '/CONTACT_INFO/url': 10,\n",
       "             '/EVENT/WAR': 10,\n",
       "             '/SUBSTANCE/DRUG': 10,\n",
       "             '/DISEASE': 10,\n",
       "             '/SUBSTANCE/CHEMICAL': 10,\n",
       "             '/ORGANIZATION/GOVERNMENT': 10,\n",
       "             '/WORK_OF_ART/BOOK': 14,\n",
       "             '/EVENT': 35,\n",
       "             '/GPE/COUNTRY': 12,\n",
       "             '/GPE/CITY': 13,\n",
       "             '/WORK_OF_ART': 33,\n",
       "             '/LOCATION': 51,\n",
       "             '/GPE': 36,\n",
       "             '/ORGANIZATION/CORPORATION': 33,\n",
       "             '/ORGANIZATION': 84,\n",
       "             '/PERSON': 19})"
      ]
     },
     "execution_count": 9,
     "metadata": {},
     "output_type": "execute_result"
    }
   ],
   "source": [
    "extracted_10"
   ]
  },
  {
   "cell_type": "code",
   "execution_count": 76,
   "id": "respiratory-olive",
   "metadata": {},
   "outputs": [
    {
     "ename": "IndexError",
     "evalue": "list index out of range",
     "output_type": "error",
     "traceback": [
      "\u001b[0;31m---------------------------------------------------------------------------\u001b[0m",
      "\u001b[0;31mIndexError\u001b[0m                                Traceback (most recent call last)",
      "\u001b[0;32m<ipython-input-76-f98444c2cb45>\u001b[0m in \u001b[0;36m<module>\u001b[0;34m\u001b[0m\n\u001b[0;32m----> 1\u001b[0;31m \u001b[0mdataset_20\u001b[0m\u001b[0;34m,\u001b[0m \u001b[0mextracted_20\u001b[0m\u001b[0;34m,\u001b[0m \u001b[0mlines_20\u001b[0m \u001b[0;34m=\u001b[0m \u001b[0mextract_k\u001b[0m\u001b[0;34m(\u001b[0m\u001b[0mtrain_dataset\u001b[0m\u001b[0;34m,\u001b[0m \u001b[0;36m20\u001b[0m\u001b[0;34m,\u001b[0m \u001b[0mtypes_number\u001b[0m\u001b[0;34m,\u001b[0m \u001b[0mextracted_10\u001b[0m\u001b[0;34m,\u001b[0m \u001b[0mdataset_10\u001b[0m\u001b[0;34m,\u001b[0m \u001b[0mlines_10\u001b[0m\u001b[0;34m)\u001b[0m\u001b[0;34m\u001b[0m\u001b[0;34m\u001b[0m\u001b[0m\n\u001b[0m",
      "\u001b[0;32m<ipython-input-70-8575a41f8358>\u001b[0m in \u001b[0;36mextract_k\u001b[0;34m(list_of_examples, k, types_number, extracted, extracted_dataset, extracted_lines)\u001b[0m\n\u001b[1;32m      3\u001b[0m     \u001b[0mi\u001b[0m \u001b[0;34m=\u001b[0m \u001b[0;36m0\u001b[0m\u001b[0;34m\u001b[0m\u001b[0;34m\u001b[0m\u001b[0m\n\u001b[1;32m      4\u001b[0m     \u001b[0;32mwhile\u001b[0m \u001b[0;32mnot\u001b[0m \u001b[0mall\u001b[0m\u001b[0;34m(\u001b[0m\u001b[0mlist\u001b[0m\u001b[0;34m(\u001b[0m\u001b[0mmax_not_reached\u001b[0m\u001b[0;34m.\u001b[0m\u001b[0mvalues\u001b[0m\u001b[0;34m(\u001b[0m\u001b[0;34m)\u001b[0m\u001b[0;34m)\u001b[0m\u001b[0;34m)\u001b[0m\u001b[0;34m:\u001b[0m\u001b[0;34m\u001b[0m\u001b[0;34m\u001b[0m\u001b[0m\n\u001b[0;32m----> 5\u001b[0;31m         \u001b[0mexample\u001b[0m \u001b[0;34m=\u001b[0m \u001b[0mlist_of_examples\u001b[0m\u001b[0;34m[\u001b[0m\u001b[0mi\u001b[0m\u001b[0;34m]\u001b[0m\u001b[0;34m\u001b[0m\u001b[0;34m\u001b[0m\u001b[0m\n\u001b[0m\u001b[1;32m      6\u001b[0m         \u001b[0mtypes\u001b[0m \u001b[0;34m=\u001b[0m \u001b[0mexample\u001b[0m\u001b[0;34m[\u001b[0m\u001b[0;34m'y_str'\u001b[0m\u001b[0;34m]\u001b[0m\u001b[0;34m\u001b[0m\u001b[0;34m\u001b[0m\u001b[0m\n\u001b[1;32m      7\u001b[0m         \u001b[0mline_index\u001b[0m \u001b[0;34m=\u001b[0m \u001b[0mexample\u001b[0m\u001b[0;34m[\u001b[0m\u001b[0;34m'line'\u001b[0m\u001b[0;34m]\u001b[0m\u001b[0;34m\u001b[0m\u001b[0;34m\u001b[0m\u001b[0m\n",
      "\u001b[0;31mIndexError\u001b[0m: list index out of range"
     ]
    }
   ],
   "source": [
    "dataset_20, extracted_20, lines_20 = extract_k(train_dataset, 20, types_number, extracted_10, dataset_10, lines_10)"
   ]
  },
  {
   "cell_type": "code",
   "execution_count": 56,
   "id": "thick-freeze",
   "metadata": {},
   "outputs": [
    {
     "data": {
      "text/plain": [
       "639"
      ]
     },
     "execution_count": 56,
     "metadata": {},
     "output_type": "execute_result"
    }
   ],
   "source": [
    "len(dataset_20)"
   ]
  },
  {
   "cell_type": "code",
   "execution_count": null,
   "id": "defensive-semester",
   "metadata": {},
   "outputs": [],
   "source": []
  }
 ],
 "metadata": {
  "kernelspec": {
   "display_name": "Python 3",
   "language": "python",
   "name": "python3"
  },
  "language_info": {
   "codemirror_mode": {
    "name": "ipython",
    "version": 3
   },
   "file_extension": ".py",
   "mimetype": "text/x-python",
   "name": "python",
   "nbconvert_exporter": "python",
   "pygments_lexer": "ipython3",
   "version": "3.6.9"
  }
 },
 "nbformat": 4,
 "nbformat_minor": 5
}
