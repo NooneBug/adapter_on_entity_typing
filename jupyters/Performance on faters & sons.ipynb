{
 "cells": [
  {
   "cell_type": "code",
   "execution_count": 1,
   "id": "impressive-extension",
   "metadata": {},
   "outputs": [],
   "source": [
    "import json\n",
    "from tqdm import tqdm\n",
    "import os\n",
    "import numpy as np\n",
    "import re\n",
    "from collections import defaultdict"
   ]
  },
  {
   "cell_type": "code",
   "execution_count": 2,
   "id": "variable-management",
   "metadata": {},
   "outputs": [],
   "source": [
    "def load_dataset_and_extract_types(path):\n",
    "    with open(path, 'r') as inp:\n",
    "        types = [json.loads(l)['y_str'] for l in tqdm(inp.readlines())]\n",
    "    return types"
   ]
  },
  {
   "cell_type": "code",
   "execution_count": 3,
   "id": "short-learning",
   "metadata": {},
   "outputs": [],
   "source": [
    "base_results_path = '../official_results/predictions/'"
   ]
  },
  {
   "cell_type": "code",
   "execution_count": 4,
   "id": "accomplished-brazil",
   "metadata": {},
   "outputs": [],
   "source": [
    "def trimmed_stats(x, sampled = True):\n",
    "    x_sorted = np.sort(x)[1:-1]\n",
    "    return x_sorted.mean(), x_sorted.std(ddof = 1 if sampled else 0)"
   ]
  },
  {
   "cell_type": "code",
   "execution_count": 5,
   "id": "postal-picking",
   "metadata": {},
   "outputs": [],
   "source": [
    "base_results_path = '../official_results/predictions/'\n",
    "onoe_base_results_path = '../results/avgs_stds/'\n",
    "\n",
    "def compute_f1(p, r):\n",
    "    return 2*p*r/(p + r) if p + r else 0\n",
    "\n",
    "def extract_files(suffix):\n",
    "\n",
    "    files = []\n",
    "    for file in os.listdir(base_results_path):\n",
    "        if file.endswith(suffix):\n",
    "            files.append(base_results_path + file)\n",
    "    return files\n",
    "\n",
    "def extract_type(onoe, elems):\n",
    "    regex = r'_[0-9]+'\n",
    "    \n",
    "    if not onoe:\n",
    "        return re.sub(regex, '', elems[0])\n",
    "    else:\n",
    "        return elems[0].strip()\n",
    "\n",
    "def extract_stats(types, suffix, files, onoe=False):\n",
    "    \n",
    "    \n",
    "    stats = {}    \n",
    "    for f in files:\n",
    "        print(f)\n",
    "        \n",
    "        ps = defaultdict(list)\n",
    "        rs = defaultdict(list)\n",
    "        update_i = defaultdict(int)\n",
    "        with open(f, 'r') as inp:\n",
    "            f_lines = inp.readlines()\n",
    "            delimiter = f_lines[0]\n",
    "            model_i = 1\n",
    "            for l in f_lines[1:]:\n",
    "                if l != delimiter:\n",
    "                    elems = l.split('\\t')\n",
    "                    typ = extract_type(onoe, elems)\n",
    "                    if typ in types:\n",
    "                        if update_i[typ] != model_i:\n",
    "                            p = float(elems[1])\n",
    "                            r = float(elems[2])\n",
    "                            \n",
    "                            ps[typ].append(p)\n",
    "                            rs[typ].append(r)\n",
    "                            update_i[typ] = model_i\n",
    "                else:\n",
    "                    model_i += 1\n",
    "            if not onoe:\n",
    "                ps = {k:trimmed_stats(v)[0] for k, v in ps.items()}\n",
    "                rs = {k:trimmed_stats(v)[0] for k, v in rs.items()}\n",
    "            \n",
    "            average_p = round(np.mean(list(ps.values())), 2)\n",
    "            p_std = round(np.std(list(ps.values())) , 2)\n",
    "            average_r = round(np.mean(list(rs.values())), 2)\n",
    "            r_std = round(np.std(list(rs.values())) , 2)\n",
    "            stats[f] = {'precision': {'mean': average_p, \n",
    "                                      'std':  p_std},\n",
    "                       'recall': {'mean': average_r, \n",
    "                                  'std':  r_std},\n",
    "                        'f1': {'mean': round(compute_f1(average_p, average_r), 2)} \n",
    "                       }\n",
    "    return stats\n",
    "\n",
    "def compute_average_f1_for_types(types, suffix, onoe = False):\n",
    "    files = extract_files(suffix)\n",
    "    stats = extract_stats(types, suffix, files, onoe)\n",
    "    return print_stats(stats)    "
   ]
  },
  {
   "cell_type": "code",
   "execution_count": 6,
   "id": "returning-investigation",
   "metadata": {},
   "outputs": [],
   "source": [
    "def print_stats(stats):\n",
    "    print()\n",
    "    print()\n",
    "    out_str = '{:>50} |{:^13}|{:^13}|{:^6}'.format('model', 'precision', 'recall', 'f1')\n",
    "    print(out_str)\n",
    "    print('{:-<85}'.format('{: ^44}'.format('')))\n",
    "    out_str = '{:>50} |{:^6}|{:^6}|{:^6}|{:^6}|{:^6}'.format('', \n",
    "                                                         'mean', 'std', \n",
    "                                                         'mean', 'std', \n",
    "                                                         'mean')\n",
    "    print(out_str)\n",
    "    print('{:-<85}'.format('{: ^10}'.format('')))\n",
    "    \n",
    "    for k, stat_dict in stats.items():\n",
    "        out_str = '{:>50} |{:^6}|{:^6}|{:^6}|{:^6}|{:^6}'.format(k.split('/')[-1].replace('_test.txt', ''),\n",
    "                                                             stat_dict['precision']['mean'], \n",
    "                                                             stat_dict['precision']['std'],\n",
    "                                                             stat_dict['recall']['mean'], \n",
    "                                                             stat_dict['recall']['std'],\n",
    "                                                             stat_dict['f1']['mean'])\n",
    "        print(out_str)\n"
   ]
  },
  {
   "cell_type": "markdown",
   "id": "working-armor",
   "metadata": {},
   "source": [
    "# FIGER"
   ]
  },
  {
   "cell_type": "code",
   "execution_count": 7,
   "id": "experimental-toyota",
   "metadata": {},
   "outputs": [],
   "source": [
    "types_path = '/datahdd/vmanuel/entity_typing_all_datasets/data/FIGER/ontology.txt'"
   ]
  },
  {
   "cell_type": "code",
   "execution_count": 8,
   "id": "clear-march",
   "metadata": {},
   "outputs": [],
   "source": [
    "with open(types_path, 'r') as inp:\n",
    "    types = [l.replace('\\n', '') for l in inp.readlines()]\n",
    "\n",
    "fathers = []\n",
    "sons = []\n",
    "\n",
    "for t in types:\n",
    "    for t2 in types:\n",
    "        if t != t2 and t + '/' in t2:\n",
    "            if t not in fathers:\n",
    "                fathers.append(t)\n",
    "            if t2 not in sons:\n",
    "                sons.append(t2)"
   ]
  },
  {
   "cell_type": "code",
   "execution_count": 11,
   "id": "bizarre-institute",
   "metadata": {},
   "outputs": [
    {
     "data": {
      "text/plain": [
       "22"
      ]
     },
     "execution_count": 11,
     "metadata": {},
     "output_type": "execute_result"
    }
   ],
   "source": [
    "len(fathers)"
   ]
  },
  {
   "cell_type": "code",
   "execution_count": 12,
   "id": "fixed-consciousness",
   "metadata": {},
   "outputs": [
    {
     "data": {
      "text/plain": [
       "79"
      ]
     },
     "execution_count": 12,
     "metadata": {},
     "output_type": "execute_result"
    }
   ],
   "source": [
    "len(sons)"
   ]
  },
  {
   "cell_type": "code",
   "execution_count": 157,
   "id": "welsh-christopher",
   "metadata": {},
   "outputs": [
    {
     "name": "stdout",
     "output_type": "stream",
     "text": [
      "../official_results/predictions/bert_ft_0_trained_on_figer_tested_on_figer_test.txt\n",
      "../official_results/predictions/adapter_2_trained_on_figer_tested_on_figer_test.txt\n",
      "../official_results/predictions/bert_ft_2_trained_on_figer_tested_on_figer_test.txt\n",
      "../official_results/predictions/adapter_16_trained_on_figer_tested_on_figer_test.txt\n",
      "\n",
      "\n",
      "                                             model |  precision  |   recall    |  f1  \n",
      "                                            -----------------------------------------\n",
      "                                                   | mean | std  | mean | std  | mean \n",
      "          ---------------------------------------------------------------------------\n",
      "        bert_ft_0_trained_on_figer_tested_on_figer | 0.43 | 0.38 | 0.25 | 0.28 | 0.32 \n",
      "        adapter_2_trained_on_figer_tested_on_figer | 0.69 | 0.33 | 0.71 | 0.31 | 0.7  \n",
      "        bert_ft_2_trained_on_figer_tested_on_figer | 0.65 | 0.31 | 0.67 | 0.33 | 0.66 \n",
      "       adapter_16_trained_on_figer_tested_on_figer | 0.7  | 0.32 | 0.71 | 0.34 | 0.7  \n"
     ]
    }
   ],
   "source": [
    "suffix = 'trained_on_figer_tested_on_figer_test.txt'\n",
    "\n",
    "compute_average_f1_for_types(fathers, suffix)"
   ]
  },
  {
   "cell_type": "code",
   "execution_count": 158,
   "id": "dated-float",
   "metadata": {},
   "outputs": [
    {
     "name": "stdout",
     "output_type": "stream",
     "text": [
      "../official_results/predictions/bert_ft_0_trained_on_figer_tested_on_figer_test.txt\n",
      "../official_results/predictions/adapter_2_trained_on_figer_tested_on_figer_test.txt\n",
      "../official_results/predictions/bert_ft_2_trained_on_figer_tested_on_figer_test.txt\n",
      "../official_results/predictions/adapter_16_trained_on_figer_tested_on_figer_test.txt\n",
      "\n",
      "\n",
      "                                             model |  precision  |   recall    |  f1  \n",
      "                                            -----------------------------------------\n",
      "                                                   | mean | std  | mean | std  | mean \n",
      "          ---------------------------------------------------------------------------\n",
      "        bert_ft_0_trained_on_figer_tested_on_figer | 0.24 | 0.34 | 0.16 | 0.25 | 0.19 \n",
      "        adapter_2_trained_on_figer_tested_on_figer | 0.52 | 0.4  | 0.6  | 0.39 | 0.56 \n",
      "        bert_ft_2_trained_on_figer_tested_on_figer | 0.48 | 0.4  | 0.58 | 0.4  | 0.53 \n",
      "       adapter_16_trained_on_figer_tested_on_figer | 0.52 | 0.4  | 0.64 | 0.41 | 0.57 \n"
     ]
    }
   ],
   "source": [
    "suffix = 'trained_on_figer_tested_on_figer_test.txt'\n",
    "\n",
    "compute_average_f1_for_types(sons, suffix)"
   ]
  },
  {
   "cell_type": "code",
   "execution_count": 161,
   "id": "successful-church",
   "metadata": {},
   "outputs": [
    {
     "name": "stdout",
     "output_type": "stream",
     "text": [
      "../official_results/predictions/onoe_figer_preds.txt\n",
      "\n",
      "\n",
      "                                             model |  precision  |   recall    |  f1  \n",
      "                                            -----------------------------------------\n",
      "                                                   | mean | std  | mean | std  | mean \n",
      "          ---------------------------------------------------------------------------\n",
      "                              onoe_figer_preds.txt | 0.64 | 0.3  | 0.62 | 0.32 | 0.63 \n"
     ]
    }
   ],
   "source": [
    "suffix = 'figer_preds.txt'\n",
    "\n",
    "compute_average_f1_for_types(fathers, suffix, onoe=True)"
   ]
  },
  {
   "cell_type": "code",
   "execution_count": 162,
   "id": "ranging-dylan",
   "metadata": {},
   "outputs": [
    {
     "name": "stdout",
     "output_type": "stream",
     "text": [
      "../official_results/predictions/onoe_figer_preds.txt\n",
      "\n",
      "\n",
      "                                             model |  precision  |   recall    |  f1  \n",
      "                                            -----------------------------------------\n",
      "                                                   | mean | std  | mean | std  | mean \n",
      "          ---------------------------------------------------------------------------\n",
      "                              onoe_figer_preds.txt | 0.58 | 0.37 | 0.66 | 0.37 | 0.62 \n"
     ]
    }
   ],
   "source": [
    "suffix = 'figer_preds.txt'\n",
    "\n",
    "compute_average_f1_for_types(sons, suffix, onoe=True)"
   ]
  },
  {
   "cell_type": "markdown",
   "id": "cathedral-politics",
   "metadata": {},
   "source": [
    "# BBN"
   ]
  },
  {
   "cell_type": "code",
   "execution_count": 8,
   "id": "specific-potter",
   "metadata": {},
   "outputs": [],
   "source": [
    "types_path = '/datahdd/vmanuel/entity_typing_all_datasets/data/BBN/BBN/ontology.txt'"
   ]
  },
  {
   "cell_type": "code",
   "execution_count": 11,
   "id": "talented-crisis",
   "metadata": {},
   "outputs": [],
   "source": [
    "with open(types_path, 'r') as inp:\n",
    "    types = [l.replace('\\n', '') for l in inp.readlines()]\n",
    "\n",
    "fathers = []\n",
    "sons = []\n",
    "\n",
    "for t in types:\n",
    "    for t2 in types:\n",
    "        if t != t2 and t in t2:\n",
    "            if t not in fathers:\n",
    "                fathers.append(t)\n",
    "            if t2 not in sons:\n",
    "                sons.append(t2)"
   ]
  },
  {
   "cell_type": "code",
   "execution_count": 12,
   "id": "silver-motion",
   "metadata": {},
   "outputs": [
    {
     "data": {
      "text/plain": [
       "['/CONTACT_INFO',\n",
       " '/EVENT',\n",
       " '/FACILITY',\n",
       " '/GPE',\n",
       " '/LOCATION',\n",
       " '/ORGANIZATION',\n",
       " '/PRODUCT',\n",
       " '/SUBSTANCE',\n",
       " '/WORK_OF_ART']"
      ]
     },
     "execution_count": 12,
     "metadata": {},
     "output_type": "execute_result"
    }
   ],
   "source": [
    "fathers"
   ]
  },
  {
   "cell_type": "code",
   "execution_count": 13,
   "id": "exceptional-hydrogen",
   "metadata": {},
   "outputs": [
    {
     "data": {
      "text/plain": [
       "['/CONTACT_INFO/url',\n",
       " '/EVENT/HURRICANE',\n",
       " '/EVENT/WAR',\n",
       " '/FACILITY/AIRPORT',\n",
       " '/FACILITY/ATTRACTION',\n",
       " '/FACILITY/BRIDGE',\n",
       " '/FACILITY/BUILDING',\n",
       " '/FACILITY/HIGHWAY_STREET',\n",
       " '/GPE/CITY',\n",
       " '/GPE/COUNTRY',\n",
       " '/GPE/STATE_PROVINCE',\n",
       " '/LOCATION/CONTINENT',\n",
       " '/LOCATION/LAKE_SEA_OCEAN',\n",
       " '/LOCATION/REGION',\n",
       " '/LOCATION/RIVER',\n",
       " '/ORGANIZATION/CORPORATION',\n",
       " '/ORGANIZATION/EDUCATIONAL',\n",
       " '/ORGANIZATION/GOVERNMENT',\n",
       " '/ORGANIZATION/HOSPITAL',\n",
       " '/ORGANIZATION/HOTEL',\n",
       " '/ORGANIZATION/MUSEUM',\n",
       " '/ORGANIZATION/POLITICAL',\n",
       " '/ORGANIZATION/RELIGIOUS',\n",
       " '/PRODUCT/VEHICLE',\n",
       " '/PRODUCT/WEAPON',\n",
       " '/SUBSTANCE/CHEMICAL',\n",
       " '/SUBSTANCE/DRUG',\n",
       " '/SUBSTANCE/FOOD',\n",
       " '/WORK_OF_ART/BOOK',\n",
       " '/WORK_OF_ART/PLAY',\n",
       " '/WORK_OF_ART/SONG']"
      ]
     },
     "execution_count": 13,
     "metadata": {},
     "output_type": "execute_result"
    }
   ],
   "source": [
    "sons"
   ]
  },
  {
   "cell_type": "code",
   "execution_count": 62,
   "id": "refined-publisher",
   "metadata": {},
   "outputs": [
    {
     "name": "stdout",
     "output_type": "stream",
     "text": [
      "../official_results/predictions/adapter_2_trained_on_bbn_tested_on_bbn_test.txt\n",
      "../official_results/predictions/adapter_16_trained_on_bbn_tested_on_bbn_test.txt\n",
      "../official_results/predictions/bert_ft_2_trained_on_bbn_tested_on_bbn_test.txt\n",
      "../official_results/predictions/bert_ft_0_trained_on_bbn_tested_on_bbn_test.txt\n"
     ]
    },
    {
     "data": {
      "text/plain": [
       "{'../official_results/predictions/adapter_2_trained_on_bbn_tested_on_bbn_test.txt': {'precision': {'mean': 0.45,\n",
       "   'std': 0.33},\n",
       "  'recall': {'mean': 0.65, 'std': 0.33},\n",
       "  'f1': {'mean': 0.53}},\n",
       " '../official_results/predictions/adapter_16_trained_on_bbn_tested_on_bbn_test.txt': {'precision': {'mean': 0.46,\n",
       "   'std': 0.33},\n",
       "  'recall': {'mean': 0.66, 'std': 0.33},\n",
       "  'f1': {'mean': 0.54}},\n",
       " '../official_results/predictions/bert_ft_2_trained_on_bbn_tested_on_bbn_test.txt': {'precision': {'mean': 0.44,\n",
       "   'std': 0.33},\n",
       "  'recall': {'mean': 0.64, 'std': 0.33},\n",
       "  'f1': {'mean': 0.52}},\n",
       " '../official_results/predictions/bert_ft_0_trained_on_bbn_tested_on_bbn_test.txt': {'precision': {'mean': 0.43,\n",
       "   'std': 0.32},\n",
       "  'recall': {'mean': 0.31, 'std': 0.24},\n",
       "  'f1': {'mean': 0.36}}}"
      ]
     },
     "execution_count": 62,
     "metadata": {},
     "output_type": "execute_result"
    }
   ],
   "source": [
    "suffix = 'trained_on_bbn_tested_on_bbn_test.txt'\n",
    "\n",
    "compute_average_f1_for_types(fathers, suffix)"
   ]
  },
  {
   "cell_type": "code",
   "execution_count": 63,
   "id": "floating-hampshire",
   "metadata": {},
   "outputs": [
    {
     "name": "stdout",
     "output_type": "stream",
     "text": [
      "../official_results/predictions/adapter_2_trained_on_bbn_tested_on_bbn_test.txt\n",
      "../official_results/predictions/adapter_16_trained_on_bbn_tested_on_bbn_test.txt\n",
      "../official_results/predictions/bert_ft_2_trained_on_bbn_tested_on_bbn_test.txt\n",
      "../official_results/predictions/bert_ft_0_trained_on_bbn_tested_on_bbn_test.txt\n"
     ]
    },
    {
     "data": {
      "text/plain": [
       "{'../official_results/predictions/adapter_2_trained_on_bbn_tested_on_bbn_test.txt': {'precision': {'mean': 0.43,\n",
       "   'std': 0.35},\n",
       "  'recall': {'mean': 0.48, 'std': 0.35},\n",
       "  'f1': {'mean': 0.45}},\n",
       " '../official_results/predictions/adapter_16_trained_on_bbn_tested_on_bbn_test.txt': {'precision': {'mean': 0.45,\n",
       "   'std': 0.31},\n",
       "  'recall': {'mean': 0.52, 'std': 0.33},\n",
       "  'f1': {'mean': 0.48}},\n",
       " '../official_results/predictions/bert_ft_2_trained_on_bbn_tested_on_bbn_test.txt': {'precision': {'mean': 0.45,\n",
       "   'std': 0.33},\n",
       "  'recall': {'mean': 0.53, 'std': 0.34},\n",
       "  'f1': {'mean': 0.49}},\n",
       " '../official_results/predictions/bert_ft_0_trained_on_bbn_tested_on_bbn_test.txt': {'precision': {'mean': 0.3,\n",
       "   'std': 0.31},\n",
       "  'recall': {'mean': 0.11, 'std': 0.16},\n",
       "  'f1': {'mean': 0.16}}}"
      ]
     },
     "execution_count": 63,
     "metadata": {},
     "output_type": "execute_result"
    }
   ],
   "source": [
    "compute_average_f1_for_types(sons, suffix)"
   ]
  },
  {
   "cell_type": "code",
   "execution_count": 64,
   "id": "three-philadelphia",
   "metadata": {},
   "outputs": [
    {
     "name": "stdout",
     "output_type": "stream",
     "text": [
      "../official_results/predictions/onoe_BBN_preds.txt\n"
     ]
    },
    {
     "data": {
      "text/plain": [
       "{'../official_results/predictions/onoe_BBN_preds.txt': {'precision': {'mean': 0.46,\n",
       "   'std': 0.33},\n",
       "  'recall': {'mean': 0.63, 'std': 0.34},\n",
       "  'f1': {'mean': 0.53}}}"
      ]
     },
     "execution_count": 64,
     "metadata": {},
     "output_type": "execute_result"
    }
   ],
   "source": [
    "suffix = 'BBN_preds.txt'\n",
    "compute_average_f1_for_types(fathers, suffix, onoe = True)"
   ]
  },
  {
   "cell_type": "code",
   "execution_count": 65,
   "id": "seventh-brighton",
   "metadata": {},
   "outputs": [
    {
     "name": "stdout",
     "output_type": "stream",
     "text": [
      "../official_results/predictions/onoe_BBN_preds.txt\n"
     ]
    },
    {
     "data": {
      "text/plain": [
       "{'../official_results/predictions/onoe_BBN_preds.txt': {'precision': {'mean': 0.5,\n",
       "   'std': 0.37},\n",
       "  'recall': {'mean': 0.5, 'std': 0.35},\n",
       "  'f1': {'mean': 0.5}}}"
      ]
     },
     "execution_count": 65,
     "metadata": {},
     "output_type": "execute_result"
    }
   ],
   "source": [
    "suffix = 'BBN_preds.txt'\n",
    "compute_average_f1_for_types(sons, suffix, onoe = True)"
   ]
  },
  {
   "cell_type": "markdown",
   "id": "alert-trinidad",
   "metadata": {},
   "source": [
    "# Onto"
   ]
  },
  {
   "cell_type": "code",
   "execution_count": 66,
   "id": "handmade-laptop",
   "metadata": {},
   "outputs": [],
   "source": [
    "types_path = '/datahdd/vmanuel/entity_typing_all_datasets/data/ontology/onto_ontology.txt'"
   ]
  },
  {
   "cell_type": "code",
   "execution_count": 79,
   "id": "animal-vintage",
   "metadata": {},
   "outputs": [],
   "source": [
    "with open(types_path, 'r') as inp:\n",
    "    types = [l.replace('\\n', '') for l in inp.readlines()]\n",
    "types\n",
    "\n",
    "fathers = []\n",
    "sons = []\n",
    "nephews = []\n",
    "\n",
    "for t in types:\n",
    "    for t2 in types:\n",
    "        if t != t2 and t in t2:\n",
    "            if t not in fathers:\n",
    "                fathers.append(t)\n",
    "            if t2 not in sons:\n",
    "                sons.append(t2)\n",
    "\n",
    "for t in sons:\n",
    "    for t2 in sons:\n",
    "        if t != t2 and t in t2:\n",
    "            nephews.append(t2)\n",
    "\n",
    "for t in sons:\n",
    "    if t in fathers:\n",
    "        del fathers[fathers.index(t)]   \n",
    "\n",
    "for t in nephews:\n",
    "    if t in sons:\n",
    "        del sons[sons.index(t)]"
   ]
  },
  {
   "cell_type": "code",
   "execution_count": 80,
   "id": "streaming-coupon",
   "metadata": {},
   "outputs": [
    {
     "data": {
      "text/plain": [
       "['/location', '/organization', '/other', '/person']"
      ]
     },
     "execution_count": 80,
     "metadata": {},
     "output_type": "execute_result"
    }
   ],
   "source": [
    "fathers"
   ]
  },
  {
   "cell_type": "code",
   "execution_count": 81,
   "id": "separated-essay",
   "metadata": {},
   "outputs": [
    {
     "data": {
      "text/plain": [
       "['/location/celestial',\n",
       " '/location/city',\n",
       " '/location/country',\n",
       " '/location/geography',\n",
       " '/location/geograpy',\n",
       " '/location/park',\n",
       " '/location/structure',\n",
       " '/location/transit',\n",
       " '/organization/company',\n",
       " '/organization/education',\n",
       " '/organization/government',\n",
       " '/organization/military',\n",
       " '/organization/music',\n",
       " '/organization/political_party',\n",
       " '/organization/sports_league',\n",
       " '/organization/sports_team',\n",
       " '/organization/stock_exchange',\n",
       " '/organization/transit',\n",
       " '/other/art',\n",
       " '/other/award',\n",
       " '/other/body_part',\n",
       " '/other/currency',\n",
       " '/other/event',\n",
       " '/other/food',\n",
       " '/other/health',\n",
       " '/other/heritage',\n",
       " '/other/internet',\n",
       " '/other/language',\n",
       " '/other/legal',\n",
       " '/other/living_thing',\n",
       " '/other/product',\n",
       " '/other/religion',\n",
       " '/other/scientific',\n",
       " '/other/sports_and_leisure',\n",
       " '/other/supernatural',\n",
       " '/person/artist',\n",
       " '/person/athlete',\n",
       " '/person/coach',\n",
       " '/person/doctor',\n",
       " '/person/legal',\n",
       " '/person/military',\n",
       " '/person/political_figure',\n",
       " '/person/religious_leader',\n",
       " '/person/title']"
      ]
     },
     "execution_count": 81,
     "metadata": {},
     "output_type": "execute_result"
    }
   ],
   "source": [
    "sons"
   ]
  },
  {
   "cell_type": "code",
   "execution_count": 82,
   "id": "precious-country",
   "metadata": {},
   "outputs": [
    {
     "data": {
      "text/plain": [
       "['/location/geography/body_of_water',\n",
       " '/location/geography/island',\n",
       " '/location/geography/mountain',\n",
       " '/location/geograpy/island',\n",
       " '/location/structure/airport',\n",
       " '/location/structure/government',\n",
       " '/location/structure/hospital',\n",
       " '/location/structure/hotel',\n",
       " '/location/structure/restaurant',\n",
       " '/location/structure/sports_facility',\n",
       " '/location/structure/theater',\n",
       " '/location/transit/bridge',\n",
       " '/location/transit/railway',\n",
       " '/location/transit/road',\n",
       " '/organization/company/broadcast',\n",
       " '/organization/company/news',\n",
       " '/other/art/broadcast',\n",
       " '/other/art/film',\n",
       " '/other/art/music',\n",
       " '/other/art/stage',\n",
       " '/other/art/writing',\n",
       " '/other/event/accident',\n",
       " '/other/event/election',\n",
       " '/other/event/holiday',\n",
       " '/other/event/natural_disaster',\n",
       " '/other/event/protest',\n",
       " '/other/event/sports_event',\n",
       " '/other/event/violent_conflict',\n",
       " '/other/health/malady',\n",
       " '/other/health/treatment',\n",
       " '/other/language/programming_language',\n",
       " '/other/living_thing/animal',\n",
       " '/other/product/car',\n",
       " '/other/product/computer',\n",
       " '/other/product/mobile_phone',\n",
       " '/other/product/software',\n",
       " '/other/product/weapon',\n",
       " '/person/artist/actor',\n",
       " '/person/artist/author',\n",
       " '/person/artist/director',\n",
       " '/person/artist/music']"
      ]
     },
     "execution_count": 82,
     "metadata": {},
     "output_type": "execute_result"
    }
   ],
   "source": [
    "nephews"
   ]
  },
  {
   "cell_type": "code",
   "execution_count": 111,
   "id": "available-trailer",
   "metadata": {},
   "outputs": [
    {
     "name": "stdout",
     "output_type": "stream",
     "text": [
      "../official_results/predictions/adapter_2_trained_on_onto_tested_on_onto_test.txt\n",
      "../official_results/predictions/bert_ft_0_trained_on_onto_tested_on_onto_test.txt\n",
      "../official_results/predictions/adapter_16_trained_on_onto_tested_on_onto_test.txt\n",
      "../official_results/predictions/bert_ft_2_trained_on_onto_tested_on_onto_test.txt\n",
      "\n",
      "\n",
      "                                             model |  precision  |   recall    |  f1  \n",
      "                                            -----------------------------------------\n",
      "                                                   | mean | std  | mean | std  | mean \n",
      "          ---------------------------------------------------------------------------\n",
      "          adapter_2_trained_on_onto_tested_on_onto | 0.71 | 0.12 | 0.72 | 0.08 | 0.71 \n",
      "          bert_ft_0_trained_on_onto_tested_on_onto | 0.51 | 0.18 | 0.53 | 0.17 | 0.52 \n",
      "         adapter_16_trained_on_onto_tested_on_onto | 0.75 | 0.13 | 0.76 | 0.08 | 0.75 \n",
      "          bert_ft_2_trained_on_onto_tested_on_onto | 0.63 | 0.18 | 0.69 | 0.03 | 0.66 \n"
     ]
    }
   ],
   "source": [
    "suffix = 'trained_on_onto_tested_on_onto_test.txt'\n",
    "\n",
    "compute_average_f1_for_types(fathers, suffix)"
   ]
  },
  {
   "cell_type": "code",
   "execution_count": 112,
   "id": "institutional-architect",
   "metadata": {},
   "outputs": [
    {
     "name": "stdout",
     "output_type": "stream",
     "text": [
      "../official_results/predictions/adapter_2_trained_on_onto_tested_on_onto_test.txt\n",
      "../official_results/predictions/bert_ft_0_trained_on_onto_tested_on_onto_test.txt\n",
      "../official_results/predictions/adapter_16_trained_on_onto_tested_on_onto_test.txt\n",
      "../official_results/predictions/bert_ft_2_trained_on_onto_tested_on_onto_test.txt\n",
      "\n",
      "\n",
      "                                             model |  precision  |   recall    |  f1  \n",
      "                                            -----------------------------------------\n",
      "                                                   | mean | std  | mean | std  | mean \n",
      "          ---------------------------------------------------------------------------\n",
      "          adapter_2_trained_on_onto_tested_on_onto | 0.08 | 0.19 | 0.07 | 0.19 | 0.07 \n",
      "          bert_ft_0_trained_on_onto_tested_on_onto | 0.09 | 0.17 | 0.05 | 0.1  | 0.06 \n",
      "         adapter_16_trained_on_onto_tested_on_onto | 0.1  | 0.21 | 0.06 | 0.17 | 0.08 \n",
      "          bert_ft_2_trained_on_onto_tested_on_onto | 0.1  | 0.24 | 0.1  | 0.22 | 0.1  \n"
     ]
    }
   ],
   "source": [
    "suffix = 'trained_on_onto_tested_on_onto_test.txt'\n",
    "\n",
    "compute_average_f1_for_types(sons, suffix)"
   ]
  },
  {
   "cell_type": "code",
   "execution_count": 113,
   "id": "urban-christian",
   "metadata": {},
   "outputs": [
    {
     "name": "stdout",
     "output_type": "stream",
     "text": [
      "../official_results/predictions/adapter_2_trained_on_onto_tested_on_onto_test.txt\n",
      "../official_results/predictions/bert_ft_0_trained_on_onto_tested_on_onto_test.txt\n",
      "../official_results/predictions/adapter_16_trained_on_onto_tested_on_onto_test.txt\n",
      "../official_results/predictions/bert_ft_2_trained_on_onto_tested_on_onto_test.txt\n",
      "\n",
      "\n",
      "                                             model |  precision  |   recall    |  f1  \n",
      "                                            -----------------------------------------\n",
      "                                                   | mean | std  | mean | std  | mean \n",
      "          ---------------------------------------------------------------------------\n",
      "          adapter_2_trained_on_onto_tested_on_onto | 0.0  | 0.01 | 0.01 | 0.04 | 0.0  \n",
      "          bert_ft_0_trained_on_onto_tested_on_onto | 0.03 | 0.1  | 0.01 | 0.04 | 0.01 \n",
      "         adapter_16_trained_on_onto_tested_on_onto | 0.01 | 0.03 | 0.02 | 0.07 | 0.01 \n",
      "          bert_ft_2_trained_on_onto_tested_on_onto | 0.02 | 0.08 | 0.02 | 0.05 | 0.02 \n"
     ]
    }
   ],
   "source": [
    "suffix = 'trained_on_onto_tested_on_onto_test.txt'\n",
    "\n",
    "compute_average_f1_for_types(nephews, suffix)"
   ]
  },
  {
   "cell_type": "code",
   "execution_count": 114,
   "id": "three-syndrome",
   "metadata": {},
   "outputs": [
    {
     "name": "stdout",
     "output_type": "stream",
     "text": [
      "../official_results/predictions/onoe_onto_preds.txt\n",
      "\n",
      "\n",
      "                                             model |  precision  |   recall    |  f1  \n",
      "                                            -----------------------------------------\n",
      "                                                   | mean | std  | mean | std  | mean \n",
      "          ---------------------------------------------------------------------------\n",
      "                               onoe_onto_preds.txt | 0.64 | 0.16 | 0.7  | 0.07 | 0.67 \n"
     ]
    }
   ],
   "source": [
    "suffix = 'onto_preds.txt'\n",
    "compute_average_f1_for_types(fathers, suffix, onoe = True)"
   ]
  },
  {
   "cell_type": "code",
   "execution_count": 115,
   "id": "inappropriate-necessity",
   "metadata": {},
   "outputs": [
    {
     "name": "stdout",
     "output_type": "stream",
     "text": [
      "../official_results/predictions/onoe_onto_preds.txt\n",
      "\n",
      "\n",
      "                                             model |  precision  |   recall    |  f1  \n",
      "                                            -----------------------------------------\n",
      "                                                   | mean | std  | mean | std  | mean \n",
      "          ---------------------------------------------------------------------------\n",
      "                               onoe_onto_preds.txt | 0.29 | 0.32 | 0.26 | 0.3  | 0.27 \n"
     ]
    }
   ],
   "source": [
    "suffix = 'onto_preds.txt'\n",
    "compute_average_f1_for_types(sons, suffix, onoe = True)"
   ]
  },
  {
   "cell_type": "code",
   "execution_count": 116,
   "id": "simple-frederick",
   "metadata": {},
   "outputs": [
    {
     "name": "stdout",
     "output_type": "stream",
     "text": [
      "../official_results/predictions/onoe_onto_preds.txt\n",
      "\n",
      "\n",
      "                                             model |  precision  |   recall    |  f1  \n",
      "                                            -----------------------------------------\n",
      "                                                   | mean | std  | mean | std  | mean \n",
      "          ---------------------------------------------------------------------------\n",
      "                               onoe_onto_preds.txt | 0.18 | 0.32 | 0.18 | 0.3  | 0.18 \n"
     ]
    }
   ],
   "source": [
    "suffix = 'onto_preds.txt'\n",
    "compute_average_f1_for_types(nephews, suffix, onoe = True)"
   ]
  },
  {
   "cell_type": "markdown",
   "id": "statutory-outdoors",
   "metadata": {},
   "source": [
    "# Choi"
   ]
  },
  {
   "cell_type": "code",
   "execution_count": 137,
   "id": "absolute-venture",
   "metadata": {},
   "outputs": [],
   "source": [
    "COARSE = {'person', 'group', 'organization', 'location', 'entity', 'time', 'object', 'event', 'place'}\n",
    "FINE = {'accident', 'actor', 'agency', 'airline', 'airplane', 'airport', 'animal', 'architect', 'army', 'art',\n",
    "        'artist', 'athlete', 'attack', 'author', 'award', 'biology', 'body_part', 'bridge', 'broadcast',\n",
    "        'broadcast_station', 'building', 'car', 'cemetery', 'chemistry', 'city', 'coach', 'company', 'computer',\n",
    "        'conflict', 'country', 'county', 'currency', 'degree', 'department', 'director', 'disease', 'doctor', 'drug',\n",
    "        'education', 'election', 'engineer', 'ethnic_group', 'facility', 'film', 'finance', 'food', 'game', 'geography',\n",
    "        'god', 'government', 'health', 'heritage', 'holiday', 'hospital', 'hotel', 'institution', 'instrument',\n",
    "        'internet', 'island', 'language', 'law', 'lawyer', 'league', 'leisure', 'library', 'living_thing',\n",
    "        'mass_transit', 'medicine', 'military', 'mobile_phone', 'monarch', 'mountain', 'music', 'musician',\n",
    "        'music_school', 'natural_disaster', 'news', 'news_agency', 'park', 'planet', 'play', 'political_party',\n",
    "        'politician', 'product', 'programming_language', 'protest', 'province', 'rail', 'railway', 'religion',\n",
    "        'religious_leader', 'restaurant', 'road', 'scientific_method', 'ship', 'sign', 'society', 'software', 'soldier',\n",
    "        'spacecraft', 'sport', 'stage', 'stock_exchange', 'structure', 'subway', 'team', 'television_channel',\n",
    "        'television_network', 'television_program', 'theater', 'title', 'train', 'transit', 'transportation',\n",
    "        'treatment', 'water', 'weapon', 'website', 'writing'}"
   ]
  },
  {
   "cell_type": "code",
   "execution_count": 140,
   "id": "conditional-serbia",
   "metadata": {},
   "outputs": [],
   "source": [
    "types_path = '/datahdd/vmanuel/entity_typing_all_datasets/data/ontology/types.txt'"
   ]
  },
  {
   "cell_type": "code",
   "execution_count": 143,
   "id": "wooden-requirement",
   "metadata": {},
   "outputs": [],
   "source": [
    "with open(types_path, 'r') as inp:\n",
    "    types = [l.replace('\\n', '') for l in inp.readlines()]\n",
    "\n",
    "ULTRAFINE = []\n",
    "\n",
    "for t in types:\n",
    "    if t not in COARSE and t not in FINE:\n",
    "        ULTRAFINE.append(t)"
   ]
  },
  {
   "cell_type": "code",
   "execution_count": 144,
   "id": "compound-accident",
   "metadata": {},
   "outputs": [
    {
     "data": {
      "text/plain": [
       "9"
      ]
     },
     "execution_count": 144,
     "metadata": {},
     "output_type": "execute_result"
    }
   ],
   "source": [
    "len(COARSE)"
   ]
  },
  {
   "cell_type": "code",
   "execution_count": 145,
   "id": "essential-veteran",
   "metadata": {},
   "outputs": [
    {
     "data": {
      "text/plain": [
       "119"
      ]
     },
     "execution_count": 145,
     "metadata": {},
     "output_type": "execute_result"
    }
   ],
   "source": [
    "len(FINE)"
   ]
  },
  {
   "cell_type": "code",
   "execution_count": 146,
   "id": "divided-senegal",
   "metadata": {},
   "outputs": [
    {
     "data": {
      "text/plain": [
       "10203"
      ]
     },
     "execution_count": 146,
     "metadata": {},
     "output_type": "execute_result"
    }
   ],
   "source": [
    "len(ULTRAFINE)"
   ]
  },
  {
   "cell_type": "code",
   "execution_count": 147,
   "id": "fewer-lottery",
   "metadata": {},
   "outputs": [
    {
     "name": "stdout",
     "output_type": "stream",
     "text": [
      "../official_results/predictions/adapter_2_trained_on_choi_tested_on_choi_test.txt\n",
      "../official_results/predictions/adapter_16_trained_on_choi_tested_on_choi_test.txt\n",
      "../official_results/predictions/bert_ft_2_trained_on_choi_tested_on_choi_test.txt\n",
      "../official_results/predictions/bert_ft_0_trained_on_choi_tested_on_choi_test.txt\n",
      "\n",
      "\n",
      "                                             model |  precision  |   recall    |  f1  \n",
      "                                            -----------------------------------------\n",
      "                                                   | mean | std  | mean | std  | mean \n",
      "          ---------------------------------------------------------------------------\n",
      "          adapter_2_trained_on_choi_tested_on_choi | 0.63 | 0.13 | 0.27 | 0.2  | 0.38 \n",
      "         adapter_16_trained_on_choi_tested_on_choi | 0.64 | 0.13 | 0.24 | 0.2  | 0.35 \n",
      "          bert_ft_2_trained_on_choi_tested_on_choi | 0.62 | 0.13 | 0.27 | 0.21 | 0.38 \n",
      "          bert_ft_0_trained_on_choi_tested_on_choi | 0.35 | 0.22 | 0.14 | 0.15 | 0.2  \n"
     ]
    }
   ],
   "source": [
    "suffix = 'trained_on_choi_tested_on_choi_test.txt'\n",
    "\n",
    "compute_average_f1_for_types(COARSE, suffix)"
   ]
  },
  {
   "cell_type": "code",
   "execution_count": 148,
   "id": "committed-budget",
   "metadata": {},
   "outputs": [
    {
     "name": "stdout",
     "output_type": "stream",
     "text": [
      "../official_results/predictions/adapter_2_trained_on_choi_tested_on_choi_test.txt\n",
      "../official_results/predictions/adapter_16_trained_on_choi_tested_on_choi_test.txt\n",
      "../official_results/predictions/bert_ft_2_trained_on_choi_tested_on_choi_test.txt\n",
      "../official_results/predictions/bert_ft_0_trained_on_choi_tested_on_choi_test.txt\n",
      "\n",
      "\n",
      "                                             model |  precision  |   recall    |  f1  \n",
      "                                            -----------------------------------------\n",
      "                                                   | mean | std  | mean | std  | mean \n",
      "          ---------------------------------------------------------------------------\n",
      "          adapter_2_trained_on_choi_tested_on_choi | 0.33 | 0.35 | 0.21 | 0.27 | 0.26 \n",
      "         adapter_16_trained_on_choi_tested_on_choi | 0.36 | 0.36 | 0.23 | 0.28 | 0.28 \n",
      "          bert_ft_2_trained_on_choi_tested_on_choi | 0.32 | 0.34 | 0.21 | 0.27 | 0.25 \n",
      "          bert_ft_0_trained_on_choi_tested_on_choi | 0.24 | 0.29 | 0.13 | 0.2  | 0.17 \n"
     ]
    }
   ],
   "source": [
    "suffix = 'trained_on_choi_tested_on_choi_test.txt'\n",
    "\n",
    "compute_average_f1_for_types(FINE, suffix)"
   ]
  },
  {
   "cell_type": "code",
   "execution_count": 149,
   "id": "infinite-reynolds",
   "metadata": {},
   "outputs": [
    {
     "name": "stdout",
     "output_type": "stream",
     "text": [
      "../official_results/predictions/adapter_2_trained_on_choi_tested_on_choi_test.txt\n",
      "../official_results/predictions/adapter_16_trained_on_choi_tested_on_choi_test.txt\n",
      "../official_results/predictions/bert_ft_2_trained_on_choi_tested_on_choi_test.txt\n",
      "../official_results/predictions/bert_ft_0_trained_on_choi_tested_on_choi_test.txt\n",
      "\n",
      "\n",
      "                                             model |  precision  |   recall    |  f1  \n",
      "                                            -----------------------------------------\n",
      "                                                   | mean | std  | mean | std  | mean \n",
      "          ---------------------------------------------------------------------------\n",
      "          adapter_2_trained_on_choi_tested_on_choi | 0.16 | 0.33 | 0.09 | 0.24 | 0.12 \n",
      "         adapter_16_trained_on_choi_tested_on_choi | 0.17 | 0.34 | 0.1  | 0.25 | 0.13 \n",
      "          bert_ft_2_trained_on_choi_tested_on_choi | 0.16 | 0.32 | 0.1  | 0.24 | 0.12 \n",
      "          bert_ft_0_trained_on_choi_tested_on_choi | 0.05 | 0.17 | 0.03 | 0.13 | 0.04 \n"
     ]
    }
   ],
   "source": [
    "suffix = 'trained_on_choi_tested_on_choi_test.txt'\n",
    "\n",
    "compute_average_f1_for_types(ULTRAFINE, suffix)"
   ]
  },
  {
   "cell_type": "code",
   "execution_count": 150,
   "id": "productive-black",
   "metadata": {},
   "outputs": [
    {
     "name": "stdout",
     "output_type": "stream",
     "text": [
      "../official_results/predictions/onoe_choi_preds.txt\n",
      "\n",
      "\n",
      "                                             model |  precision  |   recall    |  f1  \n",
      "                                            -----------------------------------------\n",
      "                                                   | mean | std  | mean | std  | mean \n",
      "          ---------------------------------------------------------------------------\n",
      "                               onoe_choi_preds.txt | 0.57 | 0.36 | 0.03 | 0.05 | 0.06 \n"
     ]
    }
   ],
   "source": [
    "suffix = 'choi_preds.txt'\n",
    "\n",
    "compute_average_f1_for_types(COARSE, suffix, onoe=True)"
   ]
  },
  {
   "cell_type": "code",
   "execution_count": 151,
   "id": "horizontal-visibility",
   "metadata": {},
   "outputs": [
    {
     "name": "stdout",
     "output_type": "stream",
     "text": [
      "../official_results/predictions/onoe_choi_preds.txt\n",
      "\n",
      "\n",
      "                                             model |  precision  |   recall    |  f1  \n",
      "                                            -----------------------------------------\n",
      "                                                   | mean | std  | mean | std  | mean \n",
      "          ---------------------------------------------------------------------------\n",
      "                               onoe_choi_preds.txt | 0.32 | 0.42 | 0.1  | 0.18 | 0.15 \n"
     ]
    }
   ],
   "source": [
    "suffix = 'choi_preds.txt'\n",
    "\n",
    "compute_average_f1_for_types(FINE, suffix, onoe=True)"
   ]
  },
  {
   "cell_type": "code",
   "execution_count": 152,
   "id": "derived-encounter",
   "metadata": {},
   "outputs": [
    {
     "name": "stdout",
     "output_type": "stream",
     "text": [
      "../official_results/predictions/onoe_choi_preds.txt\n",
      "\n",
      "\n",
      "                                             model |  precision  |   recall    |  f1  \n",
      "                                            -----------------------------------------\n",
      "                                                   | mean | std  | mean | std  | mean \n",
      "          ---------------------------------------------------------------------------\n",
      "                               onoe_choi_preds.txt | 0.16 | 0.35 | 0.11 | 0.27 | 0.13 \n"
     ]
    }
   ],
   "source": [
    "suffix = 'choi_preds.txt'\n",
    "\n",
    "compute_average_f1_for_types(ULTRAFINE, suffix, onoe=True)"
   ]
  },
  {
   "cell_type": "code",
   "execution_count": null,
   "id": "affiliated-combine",
   "metadata": {},
   "outputs": [],
   "source": []
  }
 ],
 "metadata": {
  "kernelspec": {
   "display_name": "Python 3",
   "language": "python",
   "name": "python3"
  },
  "language_info": {
   "codemirror_mode": {
    "name": "ipython",
    "version": 3
   },
   "file_extension": ".py",
   "mimetype": "text/x-python",
   "name": "python",
   "nbconvert_exporter": "python",
   "pygments_lexer": "ipython3",
   "version": "3.6.9"
  }
 },
 "nbformat": 4,
 "nbformat_minor": 5
}
