{
 "cells": [
  {
   "cell_type": "code",
   "execution_count": 2,
   "id": "moved-values",
   "metadata": {},
   "outputs": [],
   "source": [
    "import json"
   ]
  },
  {
   "cell_type": "markdown",
   "id": "coastal-earthquake",
   "metadata": {},
   "source": [
    "# Onto"
   ]
  },
  {
   "cell_type": "code",
   "execution_count": 1,
   "id": "signal-formula",
   "metadata": {},
   "outputs": [],
   "source": [
    "dataset_path = '/datahdd/vmanuel/entity_typing_all_datasets/data/entity_typing_original_datasets/ontonotes/g_test_tree.json'"
   ]
  },
  {
   "cell_type": "code",
   "execution_count": 3,
   "id": "verified-backing",
   "metadata": {},
   "outputs": [],
   "source": [
    "with open(dataset_path, 'r') as inp:\n",
    "    lines = [json.loads(t) for t in inp.readlines()]"
   ]
  },
  {
   "cell_type": "code",
   "execution_count": 5,
   "id": "rising-pencil",
   "metadata": {},
   "outputs": [],
   "source": [
    "for i, l in enumerate(lines):\n",
    "    l['line'] = i  "
   ]
  },
  {
   "cell_type": "code",
   "execution_count": 7,
   "id": "changing-cookbook",
   "metadata": {},
   "outputs": [],
   "source": [
    "with open('/datahdd/vmanuel/entity_typing_all_datasets/data/entity_typing_original_datasets/ontonotes/g_test_tree_lines.json', 'w') as out:\n",
    "    for l in lines:\n",
    "        json.dump(l, out)\n",
    "        out.write('\\n')"
   ]
  },
  {
   "cell_type": "markdown",
   "id": "metropolitan-priority",
   "metadata": {},
   "source": [
    "# Choi"
   ]
  },
  {
   "cell_type": "code",
   "execution_count": 8,
   "id": "alien-sauce",
   "metadata": {},
   "outputs": [],
   "source": [
    "dataset_path = '/datahdd/vmanuel/entity_typing_all_datasets/data/entity_typing_original_datasets/choi/test_tree.json'"
   ]
  },
  {
   "cell_type": "code",
   "execution_count": 9,
   "id": "generic-partition",
   "metadata": {},
   "outputs": [],
   "source": [
    "with open(dataset_path, 'r') as inp:\n",
    "    lines = [json.loads(t) for t in inp.readlines()]"
   ]
  },
  {
   "cell_type": "code",
   "execution_count": 11,
   "id": "ecological-region",
   "metadata": {},
   "outputs": [],
   "source": [
    "for i, l in enumerate(lines):\n",
    "    l['line'] = i  "
   ]
  },
  {
   "cell_type": "code",
   "execution_count": 13,
   "id": "african-porter",
   "metadata": {},
   "outputs": [],
   "source": [
    "with open('/datahdd/vmanuel/entity_typing_all_datasets/data/entity_typing_original_datasets/choi/test_tree_lines.json', 'w') as out:\n",
    "    for l in lines:\n",
    "        json.dump(l, out)\n",
    "        out.write('\\n')"
   ]
  },
  {
   "cell_type": "code",
   "execution_count": null,
   "id": "green-picking",
   "metadata": {},
   "outputs": [],
   "source": []
  }
 ],
 "metadata": {
  "kernelspec": {
   "display_name": "Python 3",
   "language": "python",
   "name": "python3"
  },
  "language_info": {
   "codemirror_mode": {
    "name": "ipython",
    "version": 3
   },
   "file_extension": ".py",
   "mimetype": "text/x-python",
   "name": "python",
   "nbconvert_exporter": "python",
   "pygments_lexer": "ipython3",
   "version": "3.6.9"
  }
 },
 "nbformat": 4,
 "nbformat_minor": 5
}
