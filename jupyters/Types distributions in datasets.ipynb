{
 "cells": [
  {
   "cell_type": "code",
   "execution_count": 1,
   "metadata": {},
   "outputs": [],
   "source": [
    "import json\n",
    "from tqdm import tqdm"
   ]
  },
  {
   "cell_type": "code",
   "execution_count": 2,
   "metadata": {},
   "outputs": [],
   "source": [
    "def load_dataset_and_extract_types(path):\n",
    "    with open(path, 'r') as inp:\n",
    "        types = [json.loads(l)['y_str'] for l in tqdm(inp.readlines())]\n",
    "    return types"
   ]
  },
  {
   "cell_type": "code",
   "execution_count": 18,
   "metadata": {},
   "outputs": [],
   "source": [
    "import nltk\n",
    "from collections import defaultdict\n",
    "def count_types(list_of_types):\n",
    "    all_types = [t for l in tqdm(list_of_types) for t in l]\n",
    "    type_counter = defaultdict(int)\n",
    "    for t in tqdm(all_types):\n",
    "        type_counter[t] += 1\n",
    "    c = [(word, round(type_counter[word], 2)) for word in tqdm(set(all_types))]     \n",
    "    return sorted(c, key = lambda x : x[1], reverse = False)\n",
    "\n",
    "def count_types_for_example(list_of_types):\n",
    "    type_counter = defaultdict(int)\n",
    "    for types in tqdm(list_of_types):\n",
    "        for t in types:\n",
    "            type_counter[t] += 1\n",
    "    c = [(word, round(type_counter[word], 2)) for word in tqdm(type_counter.keys())]     \n",
    "    return sorted(c, key = lambda x : x[1], reverse = False)"
   ]
  },
  {
   "cell_type": "markdown",
   "metadata": {},
   "source": [
    "# BBN"
   ]
  },
  {
   "cell_type": "code",
   "execution_count": 19,
   "metadata": {},
   "outputs": [],
   "source": [
    "train = '/datahdd/vmanuel/entity_typing_all_datasets/data/BBN/BBN/train_partitioned.json'\n",
    "dev = '/datahdd/vmanuel/entity_typing_all_datasets/data/BBN/BBN/dev_partitioned.json'\n",
    "test = '/datahdd/vmanuel/entity_typing_all_datasets/data/BBN/BBN/test_lines.json'\n",
    "\n",
    "test_on_onto = '/datahdd/vmanuel/entity_typing_all_datasets/data/entity_typing_original_datasets/mapped_datasets/test_Onto_into_BBN.json'\n",
    "test_on_figer = '/datahdd/vmanuel/entity_typing_all_datasets/data/entity_typing_original_datasets/mapped_datasets/test_figer_into_BBN.json'\n",
    "test_on_choi = '/datahdd/vmanuel/entity_typing_all_datasets/data/entity_typing_original_datasets/mapped_datasets/test_choi_into_BBN.json'"
   ]
  },
  {
   "cell_type": "code",
   "execution_count": 20,
   "metadata": {},
   "outputs": [
    {
     "name": "stderr",
     "output_type": "stream",
     "text": [
      "100%|██████████| 84357/84357 [00:01<00:00, 71131.50it/s]\n",
      "100%|██████████| 1721/1721 [00:00<00:00, 60388.83it/s]\n",
      "100%|██████████| 12349/12349 [00:00<00:00, 105558.75it/s]\n",
      "100%|██████████| 4261/4261 [00:00<00:00, 38874.42it/s]\n",
      "100%|██████████| 522/522 [00:00<00:00, 39792.56it/s]\n",
      "100%|██████████| 1475/1475 [00:00<00:00, 64067.34it/s]\n"
     ]
    }
   ],
   "source": [
    "train_types = load_dataset_and_extract_types(train)\n",
    "dev_types = load_dataset_and_extract_types(dev)\n",
    "test_types = load_dataset_and_extract_types(test)\n",
    "\n",
    "on_onto_types = load_dataset_and_extract_types(test_on_onto)\n",
    "on_figer_types = load_dataset_and_extract_types(test_on_figer)\n",
    "on_choi_types = load_dataset_and_extract_types(test_on_choi)\n"
   ]
  },
  {
   "cell_type": "code",
   "execution_count": 21,
   "metadata": {},
   "outputs": [
    {
     "name": "stderr",
     "output_type": "stream",
     "text": [
      "100%|██████████| 84357/84357 [00:00<00:00, 1224371.59it/s]\n",
      "100%|██████████| 157070/157070 [00:00<00:00, 1601694.40it/s]\n",
      "100%|██████████| 47/47 [00:00<00:00, 370549.41it/s]\n",
      "100%|██████████| 1721/1721 [00:00<00:00, 1340712.70it/s]\n",
      "100%|██████████| 3156/3156 [00:00<00:00, 711525.66it/s]\n",
      "100%|██████████| 42/42 [00:00<00:00, 198379.24it/s]\n",
      "100%|██████████| 12349/12349 [00:00<00:00, 1677096.88it/s]\n",
      "100%|██████████| 20606/20606 [00:00<00:00, 1772660.35it/s]\n",
      "100%|██████████| 39/39 [00:00<00:00, 340078.70it/s]\n",
      "100%|██████████| 4261/4261 [00:00<00:00, 1728426.44it/s]\n",
      "100%|██████████| 6334/6334 [00:00<00:00, 1754621.33it/s]\n",
      "100%|██████████| 25/25 [00:00<00:00, 217546.89it/s]\n",
      "100%|██████████| 522/522 [00:00<00:00, 1195101.90it/s]\n",
      "100%|██████████| 677/677 [00:00<00:00, 1421904.76it/s]\n",
      "100%|██████████| 17/17 [00:00<00:00, 165436.58it/s]\n",
      "100%|██████████| 1475/1475 [00:00<00:00, 1459103.40it/s]\n",
      "100%|██████████| 1925/1925 [00:00<00:00, 1361787.01it/s]\n",
      "100%|██████████| 40/40 [00:00<00:00, 287281.10it/s]\n"
     ]
    }
   ],
   "source": [
    "train_dist = count_types(train_types)\n",
    "dev_dist = count_types(dev_types)\n",
    "test_dist = count_types(test_types)\n",
    "\n",
    "on_onto_dist = count_types(on_onto_types)\n",
    "on_figer_dist = count_types(on_figer_types)\n",
    "on_choi_dist = count_types(on_choi_types)"
   ]
  },
  {
   "cell_type": "code",
   "execution_count": 9,
   "metadata": {},
   "outputs": [
    {
     "name": "stderr",
     "output_type": "stream",
     "text": [
      "100%|██████████| 84357/84357 [00:00<00:00, 1141723.28it/s]\n",
      "100%|██████████| 47/47 [00:00<00:00, 341059.32it/s]\n",
      "100%|██████████| 1721/1721 [00:00<00:00, 1381247.07it/s]\n",
      "100%|██████████| 42/42 [00:00<00:00, 474826.87it/s]\n",
      "100%|██████████| 12349/12349 [00:00<00:00, 1590183.60it/s]\n",
      "100%|██████████| 39/39 [00:00<00:00, 418357.69it/s]\n",
      "100%|██████████| 4261/4261 [00:00<00:00, 1424171.59it/s]\n",
      "100%|██████████| 25/25 [00:00<00:00, 311150.15it/s]\n",
      "100%|██████████| 522/522 [00:00<00:00, 1184754.70it/s]\n",
      "100%|██████████| 17/17 [00:00<00:00, 158100.15it/s]\n",
      "100%|██████████| 1475/1475 [00:00<00:00, 1302990.40it/s]\n",
      "100%|██████████| 40/40 [00:00<00:00, 433519.79it/s]\n"
     ]
    }
   ],
   "source": [
    "train_dist = count_types_for_example(train_types)\n",
    "dev_dist = count_types_for_example(dev_types)\n",
    "test_dist = count_types_for_example(test_types)\n",
    "\n",
    "on_onto_dist = count_types_for_example(on_onto_types)\n",
    "on_figer_dist = count_types_for_example(on_figer_types)\n",
    "on_choi_dist = count_types_for_example(on_choi_types)"
   ]
  },
  {
   "cell_type": "code",
   "execution_count": 25,
   "metadata": {},
   "outputs": [
    {
     "data": {
      "text/plain": [
       "[('/FACILITY/ATTRACTION', 1),\n",
       " ('/ORGANIZATION/HOTEL', 1),\n",
       " ('/ORGANIZATION/RELIGIOUS', 1),\n",
       " ('/FACILITY/BRIDGE', 1),\n",
       " ('/FACILITY/AIRPORT', 1),\n",
       " ('/ORGANIZATION/POLITICAL', 2),\n",
       " ('/CONTACT_INFO/url', 2),\n",
       " ('/GPE/STATE_PROVINCE', 2),\n",
       " ('/LOCATION/RIVER', 2),\n",
       " ('/PRODUCT/WEAPON', 2),\n",
       " ('/PLANT', 2),\n",
       " ('/LOCATION/CONTINENT', 3),\n",
       " ('/ORGANIZATION/HOSPITAL', 3),\n",
       " ('/DISEASE', 3),\n",
       " ('/SUBSTANCE/DRUG', 4),\n",
       " ('/FACILITY', 4),\n",
       " ('/LOCATION/LAKE_SEA_OCEAN', 4),\n",
       " ('/EVENT/HURRICANE', 5),\n",
       " ('/WORK_OF_ART/SONG', 6),\n",
       " ('/LANGUAGE', 6),\n",
       " ('/PRODUCT/VEHICLE', 6),\n",
       " ('/WORK_OF_ART/PLAY', 6),\n",
       " ('/SUBSTANCE/FOOD', 7),\n",
       " ('/WORK_OF_ART/BOOK', 10),\n",
       " ('/EVENT/WAR', 10),\n",
       " ('/SUBSTANCE', 11),\n",
       " ('/ANIMAL', 12),\n",
       " ('/LAW', 13),\n",
       " ('/PRODUCT', 14),\n",
       " ('/GAME', 19),\n",
       " ('/FACILITY/BUILDING', 19),\n",
       " ('/ORGANIZATION/CORPORATION', 39),\n",
       " ('/GPE/CITY', 63),\n",
       " ('/ORGANIZATION/GOVERNMENT', 98),\n",
       " ('/LOCATION/REGION', 101),\n",
       " ('/GPE/COUNTRY', 102),\n",
       " ('/LOCATION', 154),\n",
       " ('/EVENT', 186),\n",
       " ('/ORGANIZATION', 241),\n",
       " ('/PERSON', 759)]"
      ]
     },
     "execution_count": 25,
     "metadata": {},
     "output_type": "execute_result"
    }
   ],
   "source": [
    "on_choi_dist"
   ]
  },
  {
   "cell_type": "code",
   "execution_count": 11,
   "metadata": {},
   "outputs": [
    {
     "data": {
      "text/plain": [
       "[('/ORGANIZATION', 5563),\n",
       " ('/ORGANIZATION/CORPORATION', 4335),\n",
       " ('/PERSON', 2865),\n",
       " ('/GPE', 2238),\n",
       " ('/GPE/CITY', 1173),\n",
       " ('/ORGANIZATION/GOVERNMENT', 781),\n",
       " ('/GPE/COUNTRY', 697),\n",
       " ('/SUBSTANCE', 647),\n",
       " ('/GPE/STATE_PROVINCE', 325),\n",
       " ('/LOCATION', 244),\n",
       " ('/WORK_OF_ART', 193),\n",
       " ('/PRODUCT', 193),\n",
       " ('/SUBSTANCE/FOOD', 170),\n",
       " ('/SUBSTANCE/CHEMICAL', 160),\n",
       " ('/LOCATION/REGION', 133),\n",
       " ('/PRODUCT/VEHICLE', 106),\n",
       " ('/ANIMAL', 92),\n",
       " ('/EVENT', 80),\n",
       " ('/ORGANIZATION/POLITICAL', 73),\n",
       " ('/LAW', 73),\n",
       " ('/LOCATION/CONTINENT', 64),\n",
       " ('/GAME', 61),\n",
       " ('/SUBSTANCE/DRUG', 58),\n",
       " ('/ORGANIZATION/EDUCATIONAL', 55),\n",
       " ('/DISEASE', 45),\n",
       " ('/WORK_OF_ART/BOOK', 34),\n",
       " ('/PLANT', 24),\n",
       " ('/WORK_OF_ART/SONG', 18),\n",
       " ('/CONTACT_INFO', 18),\n",
       " ('/LOCATION/RIVER', 15),\n",
       " ('/LANGUAGE', 13),\n",
       " ('/LOCATION/LAKE_SEA_OCEAN', 11),\n",
       " ('/EVENT/WAR', 11),\n",
       " ('/ORGANIZATION/HOTEL', 10),\n",
       " ('/WORK_OF_ART/PLAY', 9),\n",
       " ('/EVENT/HURRICANE', 8),\n",
       " ('/ORGANIZATION/RELIGIOUS', 6),\n",
       " ('/PRODUCT/WEAPON', 3),\n",
       " ('/ORGANIZATION/HOSPITAL', 2)]"
      ]
     },
     "execution_count": 11,
     "metadata": {},
     "output_type": "execute_result"
    }
   ],
   "source": [
    "test_dist"
   ]
  },
  {
   "cell_type": "markdown",
   "metadata": {},
   "source": [
    "# ONTO"
   ]
  },
  {
   "cell_type": "code",
   "execution_count": 26,
   "metadata": {},
   "outputs": [],
   "source": [
    "train = '/datahdd/vmanuel/entity_typing_all_datasets/data/entity_typing_original_datasets/ontonotes/g_train_tree.json'\n",
    "dev = '/datahdd/vmanuel/entity_typing_all_datasets/data/entity_typing_original_datasets/ontonotes/g_dev_tree.json'\n",
    "test = '/datahdd/vmanuel/entity_typing_all_datasets/data/entity_typing_original_datasets/ontonotes/g_test_tree.json'\n",
    "\n",
    "test_on_bbn = '/datahdd/vmanuel/entity_typing_all_datasets/data/entity_typing_original_datasets/mapped_datasets/test_BBN_into_Ontonotes.json'\n",
    "test_on_figer = '/datahdd/vmanuel/entity_typing_all_datasets/data/entity_typing_original_datasets/mapped_datasets/test_figer_into_Ontonotes.json'\n",
    "test_on_choi = '/datahdd/vmanuel/entity_typing_all_datasets/data/entity_typing_original_datasets/mapped_datasets/test_choi_into_onto.json'"
   ]
  },
  {
   "cell_type": "code",
   "execution_count": 27,
   "metadata": {},
   "outputs": [
    {
     "name": "stderr",
     "output_type": "stream",
     "text": [
      "100%|██████████| 251039/251039 [00:05<00:00, 45799.07it/s]\n",
      "100%|██████████| 2202/2202 [00:00<00:00, 48393.79it/s]\n",
      "100%|██████████| 8963/8963 [00:00<00:00, 42953.45it/s]\n",
      "100%|██████████| 11483/11483 [00:00<00:00, 60078.88it/s]\n",
      "100%|██████████| 528/528 [00:00<00:00, 65918.34it/s]\n",
      "100%|██████████| 1532/1532 [00:00<00:00, 53368.50it/s]\n"
     ]
    }
   ],
   "source": [
    "train_types = load_dataset_and_extract_types(train)\n",
    "dev_types = load_dataset_and_extract_types(dev)\n",
    "test_types = load_dataset_and_extract_types(test)\n",
    "\n",
    "on_bbn_types = load_dataset_and_extract_types(test_on_bbn)\n",
    "on_figer_types = load_dataset_and_extract_types(test_on_figer)\n",
    "on_choi_types = load_dataset_and_extract_types(test_on_choi)\n"
   ]
  },
  {
   "cell_type": "code",
   "execution_count": 28,
   "metadata": {},
   "outputs": [
    {
     "name": "stderr",
     "output_type": "stream",
     "text": [
      "100%|██████████| 251039/251039 [00:00<00:00, 1541836.29it/s]\n",
      "100%|██████████| 701163/701163 [00:00<00:00, 1724097.15it/s]\n",
      "100%|██████████| 89/89 [00:00<00:00, 286487.38it/s]\n",
      "100%|██████████| 2202/2202 [00:00<00:00, 1834695.55it/s]\n",
      "100%|██████████| 3282/3282 [00:00<00:00, 1923390.49it/s]\n",
      "100%|██████████| 45/45 [00:00<00:00, 363667.98it/s]\n",
      "100%|██████████| 8963/8963 [00:00<00:00, 1544326.78it/s]\n",
      "100%|██████████| 13393/13393 [00:00<00:00, 1606862.71it/s]\n",
      "100%|██████████| 67/67 [00:00<00:00, 305123.09it/s]\n",
      "100%|██████████| 11483/11483 [00:00<00:00, 1958490.27it/s]\n",
      "100%|██████████| 16854/16854 [00:00<00:00, 1783814.87it/s]\n",
      "100%|██████████| 29/29 [00:00<00:00, 142096.75it/s]\n",
      "100%|██████████| 528/528 [00:00<00:00, 1490304.52it/s]\n",
      "100%|██████████| 760/760 [00:00<00:00, 1655073.23it/s]\n",
      "100%|██████████| 35/35 [00:00<00:00, 410057.65it/s]\n",
      "100%|██████████| 1532/1532 [00:00<00:00, 1786398.03it/s]\n",
      "100%|██████████| 2401/2401 [00:00<00:00, 1684315.76it/s]\n",
      "100%|██████████| 69/69 [00:00<00:00, 273025.45it/s]\n"
     ]
    }
   ],
   "source": [
    "train_dist = count_types(train_types)\n",
    "dev_dist = count_types(dev_types)\n",
    "test_dist = count_types(test_types)\n",
    "\n",
    "on_bbn_dist = count_types(on_bbn_types)\n",
    "on_figer_dist = count_types(on_figer_types)\n",
    "on_choi_dist = count_types(on_choi_types)"
   ]
  },
  {
   "cell_type": "code",
   "execution_count": 6,
   "metadata": {},
   "outputs": [
    {
     "name": "stderr",
     "output_type": "stream",
     "text": [
      "100%|██████████| 251039/251039 [00:00<00:00, 852426.88it/s]\n",
      "100%|██████████| 89/89 [00:00<00:00, 268363.09it/s]\n",
      "100%|██████████| 2202/2202 [00:00<00:00, 528034.84it/s]\n",
      "100%|██████████| 45/45 [00:00<00:00, 196199.25it/s]\n",
      "100%|██████████| 8963/8963 [00:00<00:00, 1173661.35it/s]\n",
      "100%|██████████| 67/67 [00:00<00:00, 225899.01it/s]\n",
      "100%|██████████| 11483/11483 [00:00<00:00, 1274394.54it/s]\n",
      "100%|██████████| 29/29 [00:00<00:00, 269700.26it/s]\n",
      "100%|██████████| 528/528 [00:00<00:00, 1070368.54it/s]\n",
      "100%|██████████| 35/35 [00:00<00:00, 187007.18it/s]\n",
      "100%|██████████| 1532/1532 [00:00<00:00, 1197702.47it/s]\n",
      "100%|██████████| 69/69 [00:00<00:00, 443875.73it/s]\n"
     ]
    }
   ],
   "source": [
    "train_dist = count_types_for_example(train_types)\n",
    "dev_dist = count_types_for_example(dev_types)\n",
    "test_dist = count_types_for_example(test_types)\n",
    "\n",
    "on_bbn_dist = count_types_for_example(on_bbn_types)\n",
    "on_figer_dist = count_types_for_example(on_figer_types)\n",
    "on_choi_dist = count_types_for_example(on_choi_types)"
   ]
  },
  {
   "cell_type": "code",
   "execution_count": 32,
   "metadata": {
    "scrolled": false
   },
   "outputs": [
    {
     "data": {
      "text/plain": [
       "[('/organization/education', 1),\n",
       " ('/other/event/accident', 1),\n",
       " ('/location/structure/restaurant', 1),\n",
       " ('/other/internet', 1),\n",
       " ('/location/transit/bridge', 1),\n",
       " ('/location/structure/airport', 1),\n",
       " ('/other/health', 1),\n",
       " ('/location/structure/hotel', 1),\n",
       " ('/location/transit/road', 1),\n",
       " ('/organization/political_party', 2),\n",
       " ('/other/product/weapon', 2),\n",
       " ('/other/scientific', 2),\n",
       " ('/location/celestial', 2),\n",
       " ('/other/health/malady', 3),\n",
       " ('/other/religion', 3),\n",
       " ('/location/park', 3),\n",
       " ('/location/structure/hospital', 3),\n",
       " ('/other/product/software', 3),\n",
       " ('/location/transit/railway', 3),\n",
       " ('/location/geography/mountain', 3),\n",
       " ('/location/geography/body_of_water', 4),\n",
       " ('/location/structure/theater', 4),\n",
       " ('/other/health/treatment', 4),\n",
       " ('/other/event/protest', 4),\n",
       " ('/person/artist/author', 4),\n",
       " ('/other/body_part', 4),\n",
       " ('/person/title', 5),\n",
       " ('/location/geography/island', 5),\n",
       " ('/other/product/car', 5),\n",
       " ('/location/geograpy/island', 5),\n",
       " ('/person/religious_leader', 5),\n",
       " ('/other/language', 6),\n",
       " ('/other/living_thing', 6),\n",
       " ('/person/doctor', 6),\n",
       " ('/organization/sports_league', 6),\n",
       " ('/other/award', 6),\n",
       " ('/other/food', 7),\n",
       " ('/other/product/computer', 8),\n",
       " ('/other/art', 8),\n",
       " ('/organization/company/news', 8),\n",
       " ('/other/art/broadcast', 9),\n",
       " ('/organization/company/broadcast', 9),\n",
       " ('/other/currency', 10),\n",
       " ('/other/art/film', 10),\n",
       " ('/person/artist/music', 11),\n",
       " ('/other/art/music', 11),\n",
       " ('/organization/music', 11),\n",
       " ('/other/living_thing/animal', 12),\n",
       " ('/other/product', 14),\n",
       " ('/other/event/violent_conflict', 14),\n",
       " ('/person/coach', 16),\n",
       " ('/organization/military', 17),\n",
       " ('/person/military', 17),\n",
       " ('/other/art/writing', 18),\n",
       " ('/person/artist', 21),\n",
       " ('/location/structure', 22),\n",
       " ('/person/artist/director', 22),\n",
       " ('/person/artist/actor', 31),\n",
       " ('/location/city', 63),\n",
       " ('/person/athlete', 73),\n",
       " ('/organization/company', 84),\n",
       " ('/location/structure/government', 98),\n",
       " ('/organization/government', 98),\n",
       " ('/location/country', 102),\n",
       " ('/person/political_figure', 120),\n",
       " ('/location', 154),\n",
       " ('/other/event', 186),\n",
       " ('/organization', 241),\n",
       " ('/person', 759)]"
      ]
     },
     "execution_count": 32,
     "metadata": {},
     "output_type": "execute_result"
    }
   ],
   "source": [
    "on_choi_dist"
   ]
  },
  {
   "cell_type": "markdown",
   "metadata": {},
   "source": [
    "# FIGER"
   ]
  },
  {
   "cell_type": "code",
   "execution_count": 33,
   "metadata": {},
   "outputs": [],
   "source": [
    "train = '/datahdd/vmanuel/entity_typing_all_datasets/data/FIGER/train_partitioned.json'\n",
    "dev = '/datahdd/vmanuel/entity_typing_all_datasets/data/FIGER/dev_partitioned.json'\n",
    "test = '/datahdd/vmanuel/entity_typing_all_datasets/data/FIGER/test_lines.json'\n",
    "\n",
    "test_on_bbn = '/datahdd/vmanuel/entity_typing_all_datasets/data/entity_typing_original_datasets/mapped_datasets/test_BBN_into_FIGER.json'\n",
    "test_on_onto = '/datahdd/vmanuel/entity_typing_all_datasets/data/entity_typing_original_datasets/mapped_datasets/test_Onto_into_figer.json'\n",
    "test_on_choi = '/datahdd/vmanuel/entity_typing_all_datasets/data/entity_typing_original_datasets/mapped_datasets/test_choi_into_figer.json'"
   ]
  },
  {
   "cell_type": "code",
   "execution_count": 34,
   "metadata": {},
   "outputs": [
    {
     "name": "stderr",
     "output_type": "stream",
     "text": [
      "100%|██████████| 2684906/2684906 [00:47<00:00, 56362.76it/s]\n",
      "100%|██████████| 5380/5380 [00:00<00:00, 58831.36it/s]\n",
      "100%|██████████| 563/563 [00:00<00:00, 59897.35it/s]\n",
      "100%|██████████| 11811/11811 [00:00<00:00, 62109.99it/s]\n",
      "100%|██████████| 4475/4475 [00:00<00:00, 40103.91it/s]\n",
      "100%|██████████| 1618/1618 [00:00<00:00, 50256.11it/s]\n"
     ]
    }
   ],
   "source": [
    "train_types = load_dataset_and_extract_types(train)\n",
    "dev_types = load_dataset_and_extract_types(dev)\n",
    "test_types = load_dataset_and_extract_types(test)\n",
    "\n",
    "on_bbn_types = load_dataset_and_extract_types(test_on_bbn)\n",
    "on_onto_types = load_dataset_and_extract_types(test_on_onto)\n",
    "on_choi_types = load_dataset_and_extract_types(test_on_choi)\n"
   ]
  },
  {
   "cell_type": "code",
   "execution_count": 35,
   "metadata": {},
   "outputs": [
    {
     "name": "stderr",
     "output_type": "stream",
     "text": [
      "100%|██████████| 2684906/2684906 [00:01<00:00, 2212664.99it/s]\n",
      "100%|██████████| 6403837/6403837 [00:03<00:00, 2072134.48it/s]\n",
      "100%|██████████| 128/128 [00:00<00:00, 764773.38it/s]\n",
      "100%|██████████| 5380/5380 [00:00<00:00, 2418580.44it/s]\n",
      "100%|██████████| 12906/12906 [00:00<00:00, 1699528.66it/s]\n",
      "100%|██████████| 120/120 [00:00<00:00, 774333.05it/s]\n",
      "100%|██████████| 563/563 [00:00<00:00, 1517604.85it/s]\n",
      "100%|██████████| 840/840 [00:00<00:00, 1587749.15it/s]\n",
      "100%|██████████| 50/50 [00:00<00:00, 243007.18it/s]\n",
      "100%|██████████| 11811/11811 [00:00<00:00, 1915362.07it/s]\n",
      "100%|██████████| 17206/17206 [00:00<00:00, 1545005.24it/s]\n",
      "100%|██████████| 31/31 [00:00<00:00, 156.03it/s]\n",
      "100%|██████████| 4475/4475 [00:00<00:00, 2635796.99it/s]\n",
      "100%|██████████| 7368/7368 [00:00<00:00, 2368638.91it/s]\n",
      "100%|██████████| 56/56 [00:00<00:00, 476432.10it/s]\n",
      "100%|██████████| 1618/1618 [00:00<00:00, 1571649.81it/s]\n",
      "100%|██████████| 2597/2597 [00:00<00:00, 1496031.79it/s]\n",
      "100%|██████████| 90/90 [00:00<00:00, 365782.33it/s]\n"
     ]
    }
   ],
   "source": [
    "train_dist = count_types(train_types)\n",
    "dev_dist = count_types(dev_types)\n",
    "test_dist = count_types(test_types)\n",
    "\n",
    "on_bbn_dist = count_types(on_bbn_types)\n",
    "on_onto_dist = count_types(on_onto_types)\n",
    "on_choi_dist = count_types(on_choi_types)"
   ]
  },
  {
   "cell_type": "code",
   "execution_count": 14,
   "metadata": {},
   "outputs": [
    {
     "name": "stderr",
     "output_type": "stream",
     "text": [
      "100%|██████████| 2684906/2684906 [00:01<00:00, 1349727.29it/s]\n",
      "100%|██████████| 128/128 [00:00<00:00, 284661.14it/s]\n",
      "100%|██████████| 5380/5380 [00:00<00:00, 1080561.01it/s]\n",
      "100%|██████████| 120/120 [00:00<00:00, 244447.05it/s]\n",
      "100%|██████████| 563/563 [00:00<00:00, 708914.19it/s]\n",
      "100%|██████████| 50/50 [00:00<00:00, 151418.92it/s]\n",
      "100%|██████████| 11811/11811 [00:00<00:00, 1073968.06it/s]\n",
      "100%|██████████| 31/31 [00:00<00:00, 105796.11it/s]\n",
      "100%|██████████| 4475/4475 [00:00<00:00, 922017.51it/s]\n",
      "100%|██████████| 56/56 [00:00<00:00, 282648.65it/s]\n",
      "100%|██████████| 1618/1618 [00:00<00:00, 1097942.71it/s]\n",
      "100%|██████████| 90/90 [00:00<00:00, 409422.30it/s]\n"
     ]
    }
   ],
   "source": [
    "train_dist = count_types_for_example(train_types)\n",
    "dev_dist = count_types_for_example(dev_types)\n",
    "test_dist = count_types_for_example(test_types)\n",
    "\n",
    "on_bbn_dist = count_types_for_example(on_bbn_types)\n",
    "on_onto_dist = count_types_for_example(on_onto_types)\n",
    "on_choi_dist = count_types_for_example(on_choi_types)"
   ]
  },
  {
   "cell_type": "code",
   "execution_count": 39,
   "metadata": {},
   "outputs": [
    {
     "data": {
      "text/plain": [
       "[('/education', 1),\n",
       " ('/building/airport', 1),\n",
       " ('/internet', 1),\n",
       " ('/transportation/road', 1),\n",
       " ('/location/bridge', 1),\n",
       " ('/god', 1),\n",
       " ('/building/restaurant', 1),\n",
       " ('/building/hotel', 1),\n",
       " ('/biology', 1),\n",
       " ('/government/political_party', 2),\n",
       " ('/product/engine_device', 2),\n",
       " ('/product/weapon', 2),\n",
       " ('/product/mobile_phone', 2),\n",
       " ('/location/province', 2),\n",
       " ('/astral_body', 2),\n",
       " ('/park', 3),\n",
       " ('/religion/religion', 3),\n",
       " ('/geography/mountain', 3),\n",
       " ('/medicine/medical_treatment', 3),\n",
       " ('/building/hospital', 3),\n",
       " ('/religion', 3),\n",
       " ('/rail/railway', 3),\n",
       " ('/software', 3),\n",
       " ('/person/engineer', 3),\n",
       " ('/disease', 3),\n",
       " ('/event/election', 4),\n",
       " ('/location/body_of_water', 4),\n",
       " ('/building/theater', 4),\n",
       " ('/transportation', 4),\n",
       " ('/body_part', 4),\n",
       " ('/news_agency', 4),\n",
       " ('/medicine/drug', 4),\n",
       " ('/event/protest', 4),\n",
       " ('/person/author', 4),\n",
       " ('/internet/website', 4),\n",
       " ('/finance', 4),\n",
       " ('/train', 5),\n",
       " ('/organization/airline', 5),\n",
       " ('/person/religious_leader', 5),\n",
       " ('/geography/island', 5),\n",
       " ('/medicine', 5),\n",
       " ('/title', 5),\n",
       " ('/product/car', 5),\n",
       " ('/product/ship', 5),\n",
       " ('/organization/sports_league', 6),\n",
       " ('/product/instrument', 6),\n",
       " ('/person/doctor', 6),\n",
       " ('/livingthing', 6),\n",
       " ('/living_thing', 6),\n",
       " ('/award', 6),\n",
       " ('/language', 6),\n",
       " ('/play', 6),\n",
       " ('/food', 7),\n",
       " ('/computer', 8),\n",
       " ('/product/computer', 8),\n",
       " ('/location/county', 9),\n",
       " ('/broadcast', 9),\n",
       " ('/broadcast_program', 9),\n",
       " ('/art/film', 10),\n",
       " ('/finance/currency', 10),\n",
       " ('/event/military_conflict', 10),\n",
       " ('/music', 11),\n",
       " ('/person/terrorist', 11),\n",
       " ('/livingthing/animal', 12),\n",
       " ('/law', 13),\n",
       " ('/newspaper', 14),\n",
       " ('/product', 14),\n",
       " ('/event/attack', 14),\n",
       " ('/person/coach', 16),\n",
       " ('/person/soldier', 17),\n",
       " ('/military', 17),\n",
       " ('/written_work', 18),\n",
       " ('/game', 19),\n",
       " ('/building', 19),\n",
       " ('/person/artist', 21),\n",
       " ('/person/director', 22),\n",
       " ('/person/musician', 28),\n",
       " ('/person/actor', 31),\n",
       " ('/time', 59),\n",
       " ('/location/city', 63),\n",
       " ('/person/athlete', 73),\n",
       " ('/organization/company', 84),\n",
       " ('/government', 98),\n",
       " ('/government/government', 98),\n",
       " ('/location/country', 102),\n",
       " ('/person/politician', 120),\n",
       " ('/location', 154),\n",
       " ('/event', 186),\n",
       " ('/organization', 241),\n",
       " ('/person', 759)]"
      ]
     },
     "execution_count": 39,
     "metadata": {},
     "output_type": "execute_result"
    }
   ],
   "source": [
    "on_choi_dist"
   ]
  },
  {
   "cell_type": "code",
   "execution_count": null,
   "metadata": {},
   "outputs": [],
   "source": []
  },
  {
   "cell_type": "markdown",
   "metadata": {},
   "source": [
    "# Choi"
   ]
  },
  {
   "cell_type": "code",
   "execution_count": 40,
   "metadata": {},
   "outputs": [],
   "source": [
    "train = '/datahdd/vmanuel/entity_typing_all_datasets/data/entity_typing_original_datasets/choi/train.json'\n",
    "dev = '/datahdd/vmanuel/entity_typing_all_datasets/data/entity_typing_original_datasets/choi/dev.json'\n",
    "test = '/datahdd/vmanuel/entity_typing_all_datasets/data/entity_typing_original_datasets/choi/test_tree.json'\n",
    "\n",
    "test_on_bbn = '/datahdd/vmanuel/entity_typing_all_datasets/data/entity_typing_original_datasets/mapped_datasets/test_BBN_into_choi.json'\n",
    "test_on_onto = '/datahdd/vmanuel/entity_typing_all_datasets/data/entity_typing_original_datasets/mapped_datasets/test_Onto_into_choi.json'\n",
    "test_on_figer = '/datahdd/vmanuel/entity_typing_all_datasets/data/entity_typing_original_datasets/mapped_datasets/test_figer_into_choi.json'"
   ]
  },
  {
   "cell_type": "code",
   "execution_count": 41,
   "metadata": {},
   "outputs": [
    {
     "name": "stderr",
     "output_type": "stream",
     "text": [
      "100%|██████████| 3549962/3549962 [01:22<00:00, 43105.00it/s]\n",
      "100%|██████████| 126792/126792 [00:01<00:00, 99037.01it/s] \n",
      "100%|██████████| 1998/1998 [00:00<00:00, 58505.56it/s]\n",
      "100%|██████████| 12156/12156 [00:00<00:00, 59840.36it/s]\n",
      "100%|██████████| 4480/4480 [00:00<00:00, 42662.01it/s]\n",
      "100%|██████████| 556/556 [00:00<00:00, 65633.76it/s]\n"
     ]
    }
   ],
   "source": [
    "train_types = load_dataset_and_extract_types(train)\n",
    "dev_types = load_dataset_and_extract_types(dev)\n",
    "test_types = load_dataset_and_extract_types(test)\n",
    "\n",
    "on_bbn_types = load_dataset_and_extract_types(test_on_bbn)\n",
    "on_onto_types = load_dataset_and_extract_types(test_on_onto)\n",
    "on_figer_types = load_dataset_and_extract_types(test_on_figer)"
   ]
  },
  {
   "cell_type": "code",
   "execution_count": 42,
   "metadata": {},
   "outputs": [
    {
     "name": "stderr",
     "output_type": "stream",
     "text": [
      "100%|██████████| 3549962/3549962 [00:01<00:00, 2610881.08it/s]\n",
      "100%|██████████| 4571898/4571898 [00:02<00:00, 1921180.81it/s]\n",
      "100%|██████████| 8617/8617 [00:00<00:00, 38515.53it/s]\n",
      "100%|██████████| 126792/126792 [00:00<00:00, 2192862.30it/s]\n",
      "100%|██████████| 175904/175904 [00:00<00:00, 1684605.44it/s]\n",
      "100%|██████████| 5761/5761 [00:00<00:00, 580529.64it/s]\n",
      "100%|██████████| 1998/1998 [00:00<00:00, 1338051.95it/s]\n",
      "100%|██████████| 10733/10733 [00:00<00:00, 1545823.25it/s]\n",
      "100%|██████████| 1682/1682 [00:00<00:00, 580643.57it/s]\n",
      "100%|██████████| 12156/12156 [00:00<00:00, 1916693.34it/s]\n",
      "100%|██████████| 18102/18102 [00:00<00:00, 1695404.31it/s]\n",
      "100%|██████████| 35/35 [00:00<00:00, 378352.16it/s]\n",
      "100%|██████████| 4480/4480 [00:00<00:00, 1950434.08it/s]\n",
      "100%|██████████| 7477/7477 [00:00<00:00, 1817280.58it/s]\n",
      "100%|██████████| 56/56 [00:00<00:00, 464191.75it/s]\n",
      "100%|██████████| 556/556 [00:00<00:00, 1217136.23it/s]\n",
      "100%|██████████| 754/754 [00:00<00:00, 1226728.17it/s]\n",
      "100%|██████████| 40/40 [00:00<00:00, 69298.70it/s]\n"
     ]
    }
   ],
   "source": [
    "train_dist = count_types(train_types)\n",
    "dev_dist = count_types(dev_types)\n",
    "test_dist = count_types(test_types)\n",
    "\n",
    "on_bbn_dist = count_types(on_bbn_types)\n",
    "on_onto_dist = count_types(on_onto_types)\n",
    "on_figer_dist = count_types(on_figer_types)"
   ]
  },
  {
   "cell_type": "code",
   "execution_count": 38,
   "metadata": {},
   "outputs": [
    {
     "name": "stderr",
     "output_type": "stream",
     "text": [
      "100%|██████████| 3549962/3549962 [00:02<00:00, 1588431.81it/s]\n",
      "100%|██████████| 8617/8617 [00:00<00:00, 598947.97it/s]\n",
      "100%|██████████| 126792/126792 [00:00<00:00, 1458036.39it/s]\n",
      "100%|██████████| 5761/5761 [00:00<00:00, 663100.59it/s]\n",
      "100%|██████████| 1998/1998 [00:00<00:00, 629712.91it/s]\n",
      "100%|██████████| 1682/1682 [00:00<00:00, 764501.44it/s]\n",
      "100%|██████████| 12156/12156 [00:00<00:00, 1468616.51it/s]\n",
      "100%|██████████| 35/35 [00:00<00:00, 285049.79it/s]\n",
      "100%|██████████| 4480/4480 [00:00<00:00, 1299749.74it/s]\n",
      "100%|██████████| 56/56 [00:00<00:00, 347971.89it/s]\n",
      "100%|██████████| 556/556 [00:00<00:00, 1138132.27it/s]\n",
      "100%|██████████| 40/40 [00:00<00:00, 308404.71it/s]\n"
     ]
    }
   ],
   "source": [
    "train_dist = count_types_for_example(train_types)\n",
    "dev_dist = count_types_for_example(dev_types)\n",
    "test_dist = count_types_for_example(test_types)\n",
    "\n",
    "on_bbn_dist = count_types_for_example(on_bbn_types)\n",
    "on_onto_dist = count_types_for_example(on_onto_types)\n",
    "on_figer_dist = count_types_for_example(on_figer_types)"
   ]
  },
  {
   "cell_type": "code",
   "execution_count": 45,
   "metadata": {},
   "outputs": [
    {
     "data": {
      "text/plain": [
       "[('organization', 0.31),\n",
       " ('person', 0.25),\n",
       " ('company', 0.23),\n",
       " ('location', 0.23),\n",
       " ('legal', 0.08),\n",
       " ('government', 0.06),\n",
       " ('country', 0.06),\n",
       " ('city', 0.06),\n",
       " ('product', 0.06),\n",
       " ('currency', 0.04),\n",
       " ('politician', 0.04),\n",
       " ('structure', 0.03),\n",
       " ('art', 0.03),\n",
       " ('writing', 0.02),\n",
       " ('event', 0.02),\n",
       " ('artist', 0.02),\n",
       " ('title', 0.01),\n",
       " ('health', 0.01),\n",
       " ('drug', 0.01),\n",
       " ('geography', 0.01),\n",
       " ('news', 0.01),\n",
       " ('car', 0.01),\n",
       " ('author', 0.01),\n",
       " ('living_thing', 0.01),\n",
       " ('food', 0.01),\n",
       " ('broadcast', 0.01),\n",
       " ('conflict', 0.0),\n",
       " ('heritage', 0.0),\n",
       " ('weapon', 0.0),\n",
       " ('stock_exchange', 0.0),\n",
       " ('computer', 0.0),\n",
       " ('athlete', 0.0),\n",
       " ('animal', 0.0),\n",
       " ('body_of_water', 0.0),\n",
       " ('education', 0.0),\n",
       " ('body_part', 0.0),\n",
       " ('science', 0.0),\n",
       " ('software', 0.0),\n",
       " ('military', 0.0),\n",
       " ('actor', 0.0),\n",
       " ('protest', 0.0),\n",
       " ('political_party', 0.0),\n",
       " ('transit', 0.0),\n",
       " ('railway', 0.0),\n",
       " ('road', 0.0),\n",
       " ('park', 0.0),\n",
       " ('music', 0.0),\n",
       " ('doctor', 0.0),\n",
       " ('bridge', 0.0),\n",
       " ('mountain', 0.0),\n",
       " ('airport', 0.0),\n",
       " ('celestial_body', 0.0),\n",
       " ('film', 0.0),\n",
       " ('stage', 0.0),\n",
       " ('hotel', 0.0),\n",
       " ('holiday', 0.0)]"
      ]
     },
     "execution_count": 45,
     "metadata": {},
     "output_type": "execute_result"
    }
   ],
   "source": [
    "on_onto_dist"
   ]
  },
  {
   "cell_type": "code",
   "execution_count": null,
   "metadata": {},
   "outputs": [],
   "source": []
  }
 ],
 "metadata": {
  "kernelspec": {
   "display_name": "Python 3",
   "language": "python",
   "name": "python3"
  },
  "language_info": {
   "codemirror_mode": {
    "name": "ipython",
    "version": 3
   },
   "file_extension": ".py",
   "mimetype": "text/x-python",
   "name": "python",
   "nbconvert_exporter": "python",
   "pygments_lexer": "ipython3",
   "version": "3.6.9"
  }
 },
 "nbformat": 4,
 "nbformat_minor": 2
}
