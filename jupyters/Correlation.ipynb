{
 "cells": [
  {
   "cell_type": "code",
   "execution_count": 1,
   "metadata": {},
   "outputs": [],
   "source": [
    "import json\n",
    "from tqdm import tqdm\n",
    "import os\n",
    "import numpy as np\n",
    "import re"
   ]
  },
  {
   "cell_type": "code",
   "execution_count": 2,
   "metadata": {},
   "outputs": [],
   "source": [
    "def load_dataset_and_extract_types(path):\n",
    "    with open(path, 'r') as inp:\n",
    "        types = [json.loads(l)['y_str'] for l in tqdm(inp.readlines())]\n",
    "    return types"
   ]
  },
  {
   "cell_type": "code",
   "execution_count": 3,
   "metadata": {},
   "outputs": [],
   "source": [
    "import nltk\n",
    "from collections import defaultdict\n",
    "def count_types(list_of_types):\n",
    "    all_types = [t for l in tqdm(list_of_types) for t in l]\n",
    "    type_counter = defaultdict(int)\n",
    "    for t in tqdm(all_types):\n",
    "        type_counter[t] += 1\n",
    "    c = [(word, round(type_counter[word] / len(all_types), 2)) for word in tqdm(set(all_types))]     \n",
    "    return sorted(c, key = lambda x : x[1], reverse = True)\n",
    "\n",
    "def count_types_for_example(list_of_types):\n",
    "    type_counter = defaultdict(int)\n",
    "    for types in tqdm(list_of_types):\n",
    "        for t in types:\n",
    "            type_counter[t] += 1\n",
    "    c = [(word, round(type_counter[word], 2)) for word in tqdm(type_counter.keys())]     \n",
    "    return sorted(c, key = lambda x : x[1], reverse = True)"
   ]
  },
  {
   "cell_type": "code",
   "execution_count": 6,
   "metadata": {},
   "outputs": [],
   "source": [
    "base_results_path = '../official_results/predictions/'"
   ]
  },
  {
   "cell_type": "code",
   "execution_count": 7,
   "metadata": {},
   "outputs": [],
   "source": [
    "def trimmed_stats(x, sampled = True):\n",
    "    x_sorted = np.sort(x)[1:-1]\n",
    "    return x_sorted.mean(), x_sorted.std(ddof = 1 if sampled else 0)\n",
    "\n",
    "def compute_corrs(distribution, suffix):\n",
    "    regex = r'_[0-9]+'\n",
    "\n",
    "    files = []\n",
    "    for file in os.listdir(base_results_path):\n",
    "        if file.endswith(suffix):\n",
    "            files.append(base_results_path + file)\n",
    "\n",
    "    corrs = {}    \n",
    "    for f in files:\n",
    "    # f = files[0]\n",
    "        print(f)\n",
    "        test_types = [] \n",
    "        f1s = defaultdict(list)\n",
    "        update_i = {}\n",
    "        with open(f, 'r') as inp:\n",
    "            f_lines = inp.readlines()\n",
    "            delimiter = f_lines[0]\n",
    "            model_i = 0\n",
    "            for l in f_lines[1:]:\n",
    "                if l != delimiter:\n",
    "                    elems = l.split('\\t')\n",
    "                    typ = re.sub(regex, '', elems[0])\n",
    "                    if typ in update_i and update_i[typ] != model_i:\n",
    "                        f1 = float(elems[3])\n",
    "                        f1s[typ].append(f1)\n",
    "                        update_i[typ] = model_i\n",
    "                    elif typ not in update_i:\n",
    "                        update_i[typ] = 0\n",
    "                    if typ not in test_types:\n",
    "                        test_types.append(typ)\n",
    "                else:\n",
    "                    model_i += 1\n",
    "            f1s = {k:trimmed_stats(v)[0] for k, v in f1s.items()}\n",
    "            corrs[f] = np.corrcoef([f1s[t] for t in test_types if t in distribution], [distribution[t] for t in test_types if t in distribution])[0][1]\n",
    "    return corrs\n",
    "\n",
    "def compute_onoe_corr(distribution, suffix):\n",
    "    files = []\n",
    "    for file in os.listdir(base_results_path):\n",
    "        if file.endswith(suffix):\n",
    "            files.append(base_results_path + file)\n",
    "    corrs = {}    \n",
    "    for f in files:\n",
    "    # f = files[0]\n",
    "        print(f)\n",
    "        test_types = [] \n",
    "        f1s = {}\n",
    "        with open(f, 'r') as inp:\n",
    "            f_lines = inp.readlines()\n",
    "            for l in f_lines[1:]:\n",
    "                elems = l.split('\\t')\n",
    "                typ = elems[0].strip()\n",
    "                if typ not in test_types:\n",
    "                    f1 = float(elems[1])\n",
    "                    f1s[typ] = f1\n",
    "                    test_types.append(typ)\n",
    "            print(f1s)\n",
    "            corrs[f] = np.corrcoef([f1s[t] for t in test_types if t in distribution], [distribution[t] for t in test_types if t in distribution])[0][1]\n",
    "    return corrs"
   ]
  },
  {
   "cell_type": "markdown",
   "metadata": {},
   "source": [
    "# BBN"
   ]
  },
  {
   "cell_type": "code",
   "execution_count": 29,
   "metadata": {},
   "outputs": [],
   "source": [
    "train = '/datahdd/vmanuel/entity_typing_all_datasets/data/BBN/BBN/train_partitioned.json'\n",
    "dev = '/datahdd/vmanuel/entity_typing_all_datasets/data/BBN/BBN/dev_partitioned.json'\n",
    "test = '/datahdd/vmanuel/entity_typing_all_datasets/data/BBN/BBN/test_lines.json'\n",
    "\n",
    "test_on_onto = '/datahdd/vmanuel/entity_typing_all_datasets/data/entity_typing_original_datasets/mapped_datasets/test_Onto_into_BBN.json'\n",
    "test_on_figer = '/datahdd/vmanuel/entity_typing_all_datasets/data/entity_typing_original_datasets/mapped_datasets/test_figer_into_BBN.json'\n",
    "test_on_choi = '/datahdd/vmanuel/entity_typing_all_datasets/data/entity_typing_original_datasets/mapped_datasets/test_choi_into_BBN.json'"
   ]
  },
  {
   "cell_type": "code",
   "execution_count": 30,
   "metadata": {},
   "outputs": [
    {
     "name": "stderr",
     "output_type": "stream",
     "text": [
      "100%|██████████| 84357/84357 [00:01<00:00, 74193.49it/s]\n",
      "100%|██████████| 1721/1721 [00:00<00:00, 85612.25it/s]\n",
      "100%|██████████| 12349/12349 [00:00<00:00, 111666.89it/s]\n",
      "100%|██████████| 4261/4261 [00:00<00:00, 43702.74it/s]\n",
      "100%|██████████| 522/522 [00:00<00:00, 64785.52it/s]\n",
      "100%|██████████| 1475/1475 [00:00<00:00, 52884.14it/s]\n"
     ]
    }
   ],
   "source": [
    "train_types = load_dataset_and_extract_types(train)\n",
    "dev_types = load_dataset_and_extract_types(dev)\n",
    "test_types = load_dataset_and_extract_types(test)\n",
    "\n",
    "on_onto_types = load_dataset_and_extract_types(test_on_onto)\n",
    "on_figer_types = load_dataset_and_extract_types(test_on_figer)\n",
    "on_choi_types = load_dataset_and_extract_types(test_on_choi)\n"
   ]
  },
  {
   "cell_type": "code",
   "execution_count": 8,
   "metadata": {},
   "outputs": [],
   "source": [
    "# train_dist = count_types(train_types)\n",
    "# dev_dist = count_types(dev_types)\n",
    "# test_dist = count_types(test_types)\n",
    "\n",
    "# on_onto_dist = count_types(on_onto_types)\n",
    "# on_figer_dist = count_types(on_figer_types)\n",
    "# on_choi_dist = count_types(on_choi_types)"
   ]
  },
  {
   "cell_type": "code",
   "execution_count": 31,
   "metadata": {},
   "outputs": [
    {
     "name": "stderr",
     "output_type": "stream",
     "text": [
      "100%|██████████| 84357/84357 [00:00<00:00, 1037403.47it/s]\n",
      "100%|██████████| 47/47 [00:00<00:00, 138144.56it/s]\n",
      "100%|██████████| 1721/1721 [00:00<00:00, 692345.79it/s]\n",
      "100%|██████████| 42/42 [00:00<00:00, 95016.60it/s]\n",
      "100%|██████████| 12349/12349 [00:00<00:00, 714341.32it/s]\n",
      "100%|██████████| 39/39 [00:00<00:00, 87521.59it/s]\n",
      "100%|██████████| 4261/4261 [00:00<00:00, 780127.00it/s]\n",
      "100%|██████████| 25/25 [00:00<00:00, 50099.19it/s]\n",
      "100%|██████████| 522/522 [00:00<00:00, 668527.23it/s]\n",
      "100%|██████████| 17/17 [00:00<00:00, 70111.28it/s]\n",
      "100%|██████████| 1475/1475 [00:00<00:00, 770627.60it/s]\n",
      "100%|██████████| 40/40 [00:00<00:00, 126144.48it/s]\n"
     ]
    }
   ],
   "source": [
    "train_dist = count_types_for_example(train_types)\n",
    "dev_dist = count_types_for_example(dev_types)\n",
    "test_dist = count_types_for_example(test_types)\n",
    "\n",
    "on_onto_dist = count_types_for_example(on_onto_types)\n",
    "on_figer_dist = count_types_for_example(on_figer_types)\n",
    "on_choi_dist = count_types_for_example(on_choi_types)"
   ]
  },
  {
   "cell_type": "markdown",
   "metadata": {},
   "source": [
    "# Correlations with BBN from scratch models"
   ]
  },
  {
   "cell_type": "code",
   "execution_count": 33,
   "metadata": {},
   "outputs": [],
   "source": [
    "suffix = 'trained_on_bbn_tested_on_bbn_test.txt'"
   ]
  },
  {
   "cell_type": "code",
   "execution_count": 34,
   "metadata": {
    "scrolled": true
   },
   "outputs": [
    {
     "name": "stdout",
     "output_type": "stream",
     "text": [
      "../official_results/predictions/adapter_2_trained_on_bbn_tested_on_bbn_test.txt\n",
      "../official_results/predictions/adapter_16_trained_on_bbn_tested_on_bbn_test.txt\n",
      "../official_results/predictions/bert_ft_2_trained_on_bbn_tested_on_bbn_test.txt\n",
      "../official_results/predictions/bert_ft_0_trained_on_bbn_tested_on_bbn_test.txt\n"
     ]
    },
    {
     "data": {
      "text/plain": [
       "{'../official_results/predictions/adapter_2_trained_on_bbn_tested_on_bbn_test.txt': 0.386649024237096,\n",
       " '../official_results/predictions/adapter_16_trained_on_bbn_tested_on_bbn_test.txt': 0.3634725851542615,\n",
       " '../official_results/predictions/bert_ft_2_trained_on_bbn_tested_on_bbn_test.txt': 0.381467154495951,\n",
       " '../official_results/predictions/bert_ft_0_trained_on_bbn_tested_on_bbn_test.txt': 0.6545634506419999}"
      ]
     },
     "execution_count": 34,
     "metadata": {},
     "output_type": "execute_result"
    }
   ],
   "source": [
    "compute_corrs(dict(train_dist), suffix)"
   ]
  },
  {
   "cell_type": "code",
   "execution_count": 35,
   "metadata": {},
   "outputs": [
    {
     "name": "stdout",
     "output_type": "stream",
     "text": [
      "../results/avgs_stds/onoe_BBN_preds.txt\n",
      "{'/PERSON': 0.72, '/ORGANIZATION': 0.87, '/ORGANIZATION/CORPORATION': 0.79, '/ORGANIZATION/GOVERNMENT': 0.72, '/GPE': 0.89, '/GPE/CITY': 0.82, '/LOCATION': 0.21, '/LOCATION/REGION': 0.38, '/SUBSTANCE': 0.9, '/SUBSTANCE/FOOD': 0.79, '/EVENT': 0.59, '/GAME': 0.06, '/GPE/STATE_PROVINCE': 0.79, '/GPE/COUNTRY': 0.92, '/WORK_OF_ART': 0.42, '/WORK_OF_ART/BOOK': 0.06, '/LOCATION/LAKE_SEA_OCEAN': 0.0, '/WORK_OF_ART/SONG': 0.0, '/ANIMAL': 0.65, '/LANGUAGE': 0.56, '/ORGANIZATION/EDUCATIONAL': 0.42, '/PRODUCT': 0.18, '/ORGANIZATION/HOTEL': 0.36, '/ORGANIZATION/POLITICAL': 0.75, '/DISEASE': 0.87, '/LOCATION/RIVER': 0.37, '/PRODUCT/VEHICLE': 0.3, '/LOCATION/CONTINENT': 0.97, '/LAW': 0.36, '/SUBSTANCE/CHEMICAL': 0.44, '/ORGANIZATION/RELIGIOUS': 0.29, '/EVENT/HURRICANE': 0.94, '/EVENT/WAR': 0.51, '/PLANT': 0.22, '/SUBSTANCE/DRUG': 0.39, '/ORGANIZATION/HOSPITAL': 0.0, '/WORK_OF_ART/PLAY': 0.0, '/CONTACT_INFO': 0.0, '/PRODUCT/WEAPON': 0.0}\n"
     ]
    },
    {
     "data": {
      "text/plain": [
       "{'../results/avgs_stds/onoe_BBN_preds.txt': 0.37372718303130786}"
      ]
     },
     "execution_count": 35,
     "metadata": {},
     "output_type": "execute_result"
    }
   ],
   "source": [
    "suffix = 'BBN_preds.txt'\n",
    "compute_onoe_corr(dict(train_dist), suffix)"
   ]
  },
  {
   "cell_type": "markdown",
   "metadata": {},
   "source": [
    "# Onto"
   ]
  },
  {
   "cell_type": "code",
   "execution_count": 36,
   "metadata": {},
   "outputs": [
    {
     "name": "stderr",
     "output_type": "stream",
     "text": [
      "100%|██████████| 251039/251039 [00:03<00:00, 63603.42it/s]\n",
      "100%|██████████| 2202/2202 [00:00<00:00, 47730.78it/s]\n",
      "100%|██████████| 8963/8963 [00:00<00:00, 44291.38it/s]\n",
      "100%|██████████| 11483/11483 [00:00<00:00, 59309.53it/s]\n",
      "100%|██████████| 528/528 [00:00<00:00, 59907.28it/s]\n",
      "100%|██████████| 1532/1532 [00:00<00:00, 53553.98it/s]\n",
      "100%|██████████| 251039/251039 [00:00<00:00, 995378.13it/s] \n",
      "100%|██████████| 89/89 [00:00<00:00, 241613.63it/s]\n",
      "100%|██████████| 2202/2202 [00:00<00:00, 747479.56it/s]\n",
      "100%|██████████| 45/45 [00:00<00:00, 85520.47it/s]\n",
      "100%|██████████| 8963/8963 [00:00<00:00, 1078353.13it/s]\n",
      "100%|██████████| 67/67 [00:00<00:00, 227729.63it/s]\n",
      "100%|██████████| 11483/11483 [00:00<00:00, 1018895.55it/s]\n",
      "100%|██████████| 29/29 [00:00<00:00, 114211.09it/s]\n",
      "100%|██████████| 528/528 [00:00<00:00, 627718.97it/s]\n",
      "100%|██████████| 35/35 [00:00<00:00, 55690.68it/s]\n",
      "100%|██████████| 1532/1532 [00:00<00:00, 752244.64it/s]\n",
      "100%|██████████| 69/69 [00:00<00:00, 87328.60it/s]\n"
     ]
    }
   ],
   "source": [
    "train = '/datahdd/vmanuel/entity_typing_all_datasets/data/entity_typing_original_datasets/ontonotes/g_train_tree.json'\n",
    "dev = '/datahdd/vmanuel/entity_typing_all_datasets/data/entity_typing_original_datasets/ontonotes/g_dev_tree.json'\n",
    "test = '/datahdd/vmanuel/entity_typing_all_datasets/data/entity_typing_original_datasets/ontonotes/g_test_tree.json'\n",
    "\n",
    "test_on_bbn = '/datahdd/vmanuel/entity_typing_all_datasets/data/entity_typing_original_datasets/mapped_datasets/test_BBN_into_Ontonotes.json'\n",
    "test_on_figer = '/datahdd/vmanuel/entity_typing_all_datasets/data/entity_typing_original_datasets/mapped_datasets/test_figer_into_Ontonotes.json'\n",
    "test_on_choi = '/datahdd/vmanuel/entity_typing_all_datasets/data/entity_typing_original_datasets/mapped_datasets/test_choi_into_onto.json'\n",
    "\n",
    "train_types = load_dataset_and_extract_types(train)\n",
    "dev_types = load_dataset_and_extract_types(dev)\n",
    "test_types = load_dataset_and_extract_types(test)\n",
    "\n",
    "on_bbn_types = load_dataset_and_extract_types(test_on_bbn)\n",
    "on_figer_types = load_dataset_and_extract_types(test_on_figer)\n",
    "on_choi_types = load_dataset_and_extract_types(test_on_choi)\n",
    "\n",
    "train_dist = count_types_for_example(train_types)\n",
    "dev_dist = count_types_for_example(dev_types)\n",
    "test_dist = count_types_for_example(test_types)\n",
    "\n",
    "on_bbn_dist = count_types_for_example(on_bbn_types)\n",
    "on_figer_dist = count_types_for_example(on_figer_types)\n",
    "on_choi_dist = count_types_for_example(on_choi_types)"
   ]
  },
  {
   "cell_type": "markdown",
   "metadata": {},
   "source": [
    "# Correlations with ONTO from scratch models"
   ]
  },
  {
   "cell_type": "code",
   "execution_count": 37,
   "metadata": {},
   "outputs": [],
   "source": [
    "suffix = 'trained_on_onto_tested_on_onto_test.txt'"
   ]
  },
  {
   "cell_type": "code",
   "execution_count": 38,
   "metadata": {
    "scrolled": false
   },
   "outputs": [
    {
     "name": "stdout",
     "output_type": "stream",
     "text": [
      "../official_results/predictions/adapter_2_trained_on_onto_tested_on_onto_test.txt\n",
      "../official_results/predictions/bert_ft_0_trained_on_onto_tested_on_onto_test.txt\n",
      "../official_results/predictions/adapter_16_trained_on_onto_tested_on_onto_test.txt\n",
      "../official_results/predictions/bert_ft_2_trained_on_onto_tested_on_onto_test.txt\n"
     ]
    },
    {
     "data": {
      "text/plain": [
       "{'../official_results/predictions/adapter_2_trained_on_onto_tested_on_onto_test.txt': 0.886010273805676,\n",
       " '../official_results/predictions/bert_ft_0_trained_on_onto_tested_on_onto_test.txt': 0.7677132250452502,\n",
       " '../official_results/predictions/adapter_16_trained_on_onto_tested_on_onto_test.txt': 0.8892003310044112,\n",
       " '../official_results/predictions/bert_ft_2_trained_on_onto_tested_on_onto_test.txt': 0.7761324268909864}"
      ]
     },
     "execution_count": 38,
     "metadata": {},
     "output_type": "execute_result"
    }
   ],
   "source": [
    "compute_corrs(dict(train_dist), suffix)"
   ]
  },
  {
   "cell_type": "code",
   "execution_count": 39,
   "metadata": {},
   "outputs": [
    {
     "name": "stdout",
     "output_type": "stream",
     "text": [
      "../results/avgs_stds/onoe_onto_preds.txt\n",
      "{'/organization/company': 0.41, '/organization': 0.57, '/person': 0.55, '/organization/government': 0.39, '/other': 0.83, '/location': 0.69, '/location/structure': 0.12, '/other/legal': 0.04, '/other/currency': 0.55, '/location/country': 0.82, '/location/city': 0.59, '/person/title': 0.18, '/person/political_figure': 0.22, '/other/health': 0.11, '/other/product': 0.26, '/other/health/treatment': 0.19, '/person/legal': 0.0, '/location/geography': 0.11, '/other/art': 0.17, '/other/art/writing': 0.1, '/other/event': 0.1, '/other/event/violent_conflict': 0.23, '/other/heritage': 0.0, '/organization/company/news': 0.52, '/other/product/weapon': 0.0, '/organization/stock_exchange': 0.48, '/other/product/computer': 0.0, '/person/athlete': 0.0, '/other/event/sports_event': 0.0, '/other/product/car': 0.22, '/person/artist': 0.17, '/person/artist/author': 0.13, '/other/living_thing': 0.43, '/other/food': 0.16, '/other/living_thing/animal': 0.55, '/location/geography/body_of_water': 0.4, '/organization/education': 0.22, '/organization/company/broadcast': 0.69, '/other/body_part': 0.38, '/other/scientific': 0.0, '/other/product/software': 0.0, '/location/structure/government': 0.0, '/organization/military': 0.44, '/other/art/broadcast': 0.04, '/person/artist/actor': 0.0, '/other/event/protest': 0.0, '/organization/political_party': 0.0, '/location/transit': 0.0, '/location/transit/railway': 0.0, '/location/structure/sports_facility': 0.0, '/organization/sports_team': 0.57, '/location/transit/road': 0.0, '/location/park': 0.0, '/person/artist/music': 0.0, '/other/art/music': 0.22, '/person/doctor': 0.0, '/organization/transit': 0.0, '/location/transit/bridge': 0.0, '/location/geography/mountain': 0.0, '/location/structure/airport': 1.0, '/location/celestial': 0.0, '/other/sports_and_leisure': 0.0, '/other/art/film': 0.0, '/other/art/stage': 0.0, '/location/structure/hotel': 0.0, '/other/event/holiday': 0.0, '/other/supernatural': 0.0}\n"
     ]
    },
    {
     "data": {
      "text/plain": [
       "{'../results/avgs_stds/onoe_onto_preds.txt': 0.46716190103689564}"
      ]
     },
     "execution_count": 39,
     "metadata": {},
     "output_type": "execute_result"
    }
   ],
   "source": [
    "suffix = 'onto_preds.txt'\n",
    "compute_onoe_corr(dict(train_dist), suffix)"
   ]
  },
  {
   "cell_type": "markdown",
   "metadata": {},
   "source": [
    "# FIGER"
   ]
  },
  {
   "cell_type": "code",
   "execution_count": 17,
   "metadata": {},
   "outputs": [
    {
     "name": "stderr",
     "output_type": "stream",
     "text": [
      "100%|██████████| 2684906/2684906 [00:46<00:00, 57134.63it/s]\n",
      "100%|██████████| 5380/5380 [00:00<00:00, 62982.99it/s]\n",
      "100%|██████████| 563/563 [00:00<00:00, 75579.09it/s]\n",
      "100%|██████████| 11811/11811 [00:00<00:00, 62644.62it/s]\n",
      "100%|██████████| 4475/4475 [00:00<00:00, 40812.60it/s]\n",
      "100%|██████████| 1618/1618 [00:00<00:00, 52469.34it/s]\n",
      "100%|██████████| 2684906/2684906 [00:02<00:00, 1190814.96it/s]\n",
      "100%|██████████| 128/128 [00:00<00:00, 418123.76it/s]\n",
      "100%|██████████| 5380/5380 [00:00<00:00, 561020.23it/s]\n",
      "100%|██████████| 120/120 [00:00<00:00, 149618.45it/s]\n",
      "100%|██████████| 563/563 [00:00<00:00, 780110.06it/s]\n",
      "100%|██████████| 50/50 [00:00<00:00, 67890.97it/s]\n",
      "100%|██████████| 11811/11811 [00:00<00:00, 821309.49it/s]\n",
      "100%|██████████| 31/31 [00:00<00:00, 117561.87it/s]\n",
      "100%|██████████| 4475/4475 [00:00<00:00, 1003019.85it/s]\n",
      "100%|██████████| 56/56 [00:00<00:00, 87609.48it/s]\n",
      "100%|██████████| 1618/1618 [00:00<00:00, 739096.48it/s]\n",
      "100%|██████████| 90/90 [00:00<00:00, 92931.40it/s]\n"
     ]
    }
   ],
   "source": [
    "train = '/datahdd/vmanuel/entity_typing_all_datasets/data/FIGER/train_partitioned.json'\n",
    "dev = '/datahdd/vmanuel/entity_typing_all_datasets/data/FIGER/dev_partitioned.json'\n",
    "test = '/datahdd/vmanuel/entity_typing_all_datasets/data/FIGER/test_lines.json'\n",
    "\n",
    "test_on_bbn = '/datahdd/vmanuel/entity_typing_all_datasets/data/entity_typing_original_datasets/mapped_datasets/test_BBN_into_FIGER.json'\n",
    "test_on_onto = '/datahdd/vmanuel/entity_typing_all_datasets/data/entity_typing_original_datasets/mapped_datasets/test_Onto_into_figer.json'\n",
    "test_on_choi = '/datahdd/vmanuel/entity_typing_all_datasets/data/entity_typing_original_datasets/mapped_datasets/test_choi_into_figer.json'\n",
    "\n",
    "train_types = load_dataset_and_extract_types(train)\n",
    "dev_types = load_dataset_and_extract_types(dev)\n",
    "test_types = load_dataset_and_extract_types(test)\n",
    "\n",
    "on_bbn_types = load_dataset_and_extract_types(test_on_bbn)\n",
    "on_onto_types = load_dataset_and_extract_types(test_on_onto)\n",
    "on_choi_types = load_dataset_and_extract_types(test_on_choi)\n",
    "\n",
    "train_dist = count_types_for_example(train_types)\n",
    "dev_dist = count_types_for_example(dev_types)\n",
    "test_dist = count_types_for_example(test_types)\n",
    "\n",
    "on_bbn_dist = count_types_for_example(on_bbn_types)\n",
    "on_onto_dist = count_types_for_example(on_onto_types)\n",
    "on_choi_dist = count_types_for_example(on_choi_types)"
   ]
  },
  {
   "cell_type": "markdown",
   "metadata": {},
   "source": [
    "# Correlations with FIGER from scratch models"
   ]
  },
  {
   "cell_type": "code",
   "execution_count": 18,
   "metadata": {},
   "outputs": [],
   "source": [
    "suffix = 'trained_on_figer_tested_on_figer_test.txt'"
   ]
  },
  {
   "cell_type": "code",
   "execution_count": 19,
   "metadata": {
    "scrolled": true
   },
   "outputs": [
    {
     "name": "stdout",
     "output_type": "stream",
     "text": [
      "../official_results/predictions/bert_ft_0_trained_on_figer_tested_on_figer_test.txt\n",
      "../official_results/predictions/adapter_2_trained_on_figer_tested_on_figer_test.txt\n",
      "../official_results/predictions/bert_ft_2_trained_on_figer_tested_on_figer_test.txt\n",
      "../official_results/predictions/adapter_16_trained_on_figer_tested_on_figer_test.txt\n"
     ]
    },
    {
     "data": {
      "text/plain": [
       "{'../official_results/predictions/bert_ft_0_trained_on_figer_tested_on_figer_test.txt': 0.488391971402729,\n",
       " '../official_results/predictions/adapter_2_trained_on_figer_tested_on_figer_test.txt': 0.17373599678207563,\n",
       " '../official_results/predictions/bert_ft_2_trained_on_figer_tested_on_figer_test.txt': 0.1836042070729137,\n",
       " '../official_results/predictions/adapter_16_trained_on_figer_tested_on_figer_test.txt': 0.1411657716000408}"
      ]
     },
     "execution_count": 19,
     "metadata": {},
     "output_type": "execute_result"
    }
   ],
   "source": [
    "compute_corrs(dict(dev_dist), suffix)"
   ]
  },
  {
   "cell_type": "code",
   "execution_count": 20,
   "metadata": {},
   "outputs": [
    {
     "name": "stdout",
     "output_type": "stream",
     "text": [
      "../results/avgs_stds/onoe_figer_preds.txt\n",
      "{'/organization/educational_institution': 0.82, '/education': 0.29, '/organization': 0.9, '/education/department': 0.0, '/art': 0.25, '/written_work': 0.31, '/title': 0.8, '/person': 0.92, '/person/author': 0.0, '/event': 0.21, '/location': 0.85, '/location/city': 0.83, '/location/province': 0.82, '/time': 0.63, '/transportation': 0.5, '/transportation/road': 0.57, '/government_agency': 0.67, '/location/country': 1.0, '/government': 0.25, '/government/government': 0.22, '/person/politician': 0.67, '/organization/sports_league': 0.8, '/news_agency': 0.8, '/organization/company': 0.59, '/location/county': 1.0, '/law': 1.0, '/organization/sports_team': 0.85, '/building': 0.88, '/building/sports_facility': 0.89, '/person/coach': 1.0, '/person/athlete': 0.73, '/education/educational_degree': 0.67, '/person/artist': 0.17, '/people': 0.5, '/people/ethnicity': 0.44, '/building/hospital': 1.0, '/building/hotel': 0.0, '/person/doctor': 0.0, '/military': 0.5}\n"
     ]
    },
    {
     "data": {
      "text/plain": [
       "{'../results/avgs_stds/onoe_figer_preds.txt': 0.2145794898680103}"
      ]
     },
     "execution_count": 20,
     "metadata": {},
     "output_type": "execute_result"
    }
   ],
   "source": [
    "suffix = 'figer_preds.txt'\n",
    "compute_onoe_corr(dict(dev_dist), suffix)"
   ]
  },
  {
   "cell_type": "markdown",
   "metadata": {},
   "source": [
    "# Choi"
   ]
  },
  {
   "cell_type": "code",
   "execution_count": 8,
   "metadata": {},
   "outputs": [
    {
     "name": "stderr",
     "output_type": "stream",
     "text": [
      "100%|██████████| 3549962/3549962 [01:21<00:00, 43607.73it/s]\n",
      "100%|██████████| 126792/126792 [00:01<00:00, 102156.43it/s]\n",
      "100%|██████████| 1998/1998 [00:00<00:00, 60398.41it/s]\n",
      "100%|██████████| 12156/12156 [00:00<00:00, 58259.68it/s]\n",
      "100%|██████████| 4480/4480 [00:00<00:00, 43511.80it/s]\n",
      "100%|██████████| 556/556 [00:00<00:00, 57205.34it/s]\n",
      "100%|██████████| 3549962/3549962 [00:02<00:00, 1449189.27it/s]\n",
      "100%|██████████| 8617/8617 [00:00<00:00, 765289.30it/s]\n",
      "100%|██████████| 126792/126792 [00:00<00:00, 1330804.69it/s]\n",
      "100%|██████████| 5761/5761 [00:00<00:00, 442690.68it/s]\n",
      "100%|██████████| 1998/1998 [00:00<00:00, 501539.25it/s]\n",
      "100%|██████████| 1682/1682 [00:00<00:00, 785264.84it/s]\n",
      "100%|██████████| 12156/12156 [00:00<00:00, 1219497.22it/s]\n",
      "100%|██████████| 35/35 [00:00<00:00, 120525.98it/s]\n",
      "100%|██████████| 4480/4480 [00:00<00:00, 1016800.97it/s]\n",
      "100%|██████████| 56/56 [00:00<00:00, 221377.03it/s]\n",
      "100%|██████████| 556/556 [00:00<00:00, 637167.49it/s]\n",
      "100%|██████████| 40/40 [00:00<00:00, 137518.16it/s]\n"
     ]
    }
   ],
   "source": [
    "train = '/datahdd/vmanuel/entity_typing_all_datasets/data/entity_typing_original_datasets/choi/train.json'\n",
    "dev = '/datahdd/vmanuel/entity_typing_all_datasets/data/entity_typing_original_datasets/choi/dev.json'\n",
    "test = '/datahdd/vmanuel/entity_typing_all_datasets/data/entity_typing_original_datasets/choi/test_tree.json'\n",
    "\n",
    "test_on_bbn = '/datahdd/vmanuel/entity_typing_all_datasets/data/entity_typing_original_datasets/mapped_datasets/test_BBN_into_choi.json'\n",
    "test_on_onto = '/datahdd/vmanuel/entity_typing_all_datasets/data/entity_typing_original_datasets/mapped_datasets/test_Onto_into_choi.json'\n",
    "test_on_figer = '/datahdd/vmanuel/entity_typing_all_datasets/data/entity_typing_original_datasets/mapped_datasets/test_figer_into_choi.json'\n",
    "\n",
    "train_types = load_dataset_and_extract_types(train)\n",
    "dev_types = load_dataset_and_extract_types(dev)\n",
    "test_types = load_dataset_and_extract_types(test)\n",
    "\n",
    "on_bbn_types = load_dataset_and_extract_types(test_on_bbn)\n",
    "on_onto_types = load_dataset_and_extract_types(test_on_onto)\n",
    "on_figer_types = load_dataset_and_extract_types(test_on_figer)\n",
    "\n",
    "train_dist = count_types_for_example(train_types)\n",
    "dev_dist = count_types_for_example(dev_types)\n",
    "test_dist = count_types_for_example(test_types)\n",
    "\n",
    "on_bbn_dist = count_types_for_example(on_bbn_types)\n",
    "on_onto_dist = count_types_for_example(on_onto_types)\n",
    "on_figer_dist = count_types_for_example(on_figer_types)"
   ]
  },
  {
   "cell_type": "markdown",
   "metadata": {},
   "source": [
    "# Correlations with choi from scratch models"
   ]
  },
  {
   "cell_type": "code",
   "execution_count": 23,
   "metadata": {},
   "outputs": [],
   "source": [
    "suffix = 'trained_on_choi_tested_on_choi_test.txt'"
   ]
  },
  {
   "cell_type": "code",
   "execution_count": 25,
   "metadata": {
    "scrolled": true
   },
   "outputs": [
    {
     "name": "stdout",
     "output_type": "stream",
     "text": [
      "../official_results/predictions/adapter_2_trained_on_choi_tested_on_choi_test.txt\n",
      "../official_results/predictions/adapter_16_trained_on_choi_tested_on_choi_test.txt\n",
      "../official_results/predictions/bert_ft_2_trained_on_choi_tested_on_choi_test.txt\n",
      "../official_results/predictions/bert_ft_0_trained_on_choi_tested_on_choi_test.txt\n"
     ]
    },
    {
     "data": {
      "text/plain": [
       "{'../official_results/predictions/adapter_2_trained_on_choi_tested_on_choi_test.txt': 0.17512590745707912,\n",
       " '../official_results/predictions/adapter_16_trained_on_choi_tested_on_choi_test.txt': 0.16174095795535645,\n",
       " '../official_results/predictions/bert_ft_2_trained_on_choi_tested_on_choi_test.txt': 0.16777639790511673,\n",
       " '../official_results/predictions/bert_ft_0_trained_on_choi_tested_on_choi_test.txt': 0.21952809429155928}"
      ]
     },
     "execution_count": 25,
     "metadata": {},
     "output_type": "execute_result"
    }
   ],
   "source": [
    "compute_corrs(dict(dev_dist), suffix)"
   ]
  },
  {
   "cell_type": "code",
   "execution_count": 26,
   "metadata": {},
   "outputs": [],
   "source": [
    "suffix = 'choi_preds.txt'"
   ]
  },
  {
   "cell_type": "code",
   "execution_count": 28,
   "metadata": {},
   "outputs": [
    {
     "name": "stdout",
     "output_type": "stream",
     "text": [
      "../results/avgs_stds/onoe_choi_preds.txt\n",
      "{'date': 0.0, 'day': 0.42, 'weekday': 0.0, 'event': 0.03, 'ceremony': 0.0, 'conference': 0.2, 'gathering': 0.0, 'meeting': 0.0, 'confluence': 0.0, 'person': 0.21, 'politician': 0.05, 'official': 0.14, 'policeman': 0.0, 'spokesman': 0.0, 'spokesperson': 0.0, 'statesman': 0.0, 'serviceman': 0.0, 'organization': 0.01, 'place': 0.03, 'government': 0.16, 'administration': 0.03, 'assembly': 0.0, 'committee': 0.0, 'legislature': 0.0, 'adult': 0.0, 'leader': 0.01, 'male': 0.0, 'man': 0.0, 'object': 0.0, 'document': 0.0, 'finding': 0.0, 'report': 0.2, 'military': 0.0, 'child': 0.0, 'relation': 0.0, 'son': 0.5, 'worker': 0.0, 'juvenile': 0.0, 'young': 0.0, 'organism': 0.0, 'concept': 0.0, 'reason': 0.0, 'athlete': 0.0, 'driver': 0.0, 'player': 0.03, 'professional': 0.03, 'contestant': 0.0, 'racer': 0.0, 'location': 0.0, 'city': 0.31, 'area': 0.03, 'municipality': 0.0, 'region': 0.0, 'country': 0.24, 'state': 0.02, 'performance': 0.0, 'show': 0.33, 'group': 0.03, 'team': 0.22, 'defender': 0.0, 'device': 0.0, 'guard': 0.0, 'protection': 0.0, 'shade': 0.0, 'shield': 1.0, 'candidate': 0.11, 'campaigner': 0.0, 'bottle': 0.0, 'material': 0.0, 'substance': 0.0, 'conflict': 0.0, 'battle': 0.4, 'dispute': 0.0, 'fight': 0.0, 'struggle': 0.25, 'war': 0.43, 'competitiveness': 0.0, 'group_action': 0.0, 'news': 0.18, 'advocate': 0.0, 'judge': 0.0, 'teacher': 0.29, 'city_state': 0.0, 'animal': 0.0, 'cattle': 0.0, 'mammal': 0.0, 'religion': 0.5, 'belief': 0.0, 'church': 0.0, 'church_service': 0.0, 'religious': 0.0, 'sect': 0.0, 'social_group': 0.0, 'analyst': 0.11, 'commentator': 0.29, 'expert': 0.07, 'observer': 0.0, 'reporter': 0.15, 'communicator': 0.0, 'clothing': 0.0, 'jersey': 0.0, 'uniform': 0.0, 'play': 0.0, 'theater': 0.0, 'activity': 0.0, 'destruction': 0.0, 'incident': 0.33, 'demolition': 0.0, 'happening': 0.0, 'occurrence': 0.0, 'attack': 0.47, 'killing': 0.0, 'operation': 0.0, 'party': 0.2, 'treatment': 0.0, 'injection': 0.0, 'runner': 0.0, 'swimmer': 0.0, 'winner': 0.0, 'achiever': 0.0, 'liquid': 0.0, 'oil': 1.0, 'petroleum': 0.0, 'food': 0.0, 'aid': 0.0, 'care': 0.0, 'weapon': 0.0, 'bomb': 1.0, 'explosive': 0.0, 'idea': 0.0, 'result': 0.29, 'citizen': 0.14, 'professor': 0.0, 'scholar': 0.0, 'educator': 0.0, 'academician': 0.0, 'articulator': 0.0, 'company': 0.26, 'institution': 0.03, 'business': 0.03, 'corporation': 0.0, 'firm': 0.06, 'participant': 0.0, 'currency': 0.0, 'money': 0.27, 'medium_of_exchange': 0.0, 'monetary_unit': 0.0, 'director': 0.15, 'film_maker': 0.0, 'maker': 0.0, 'agency': 0.0, 'administrator': 0.0, 'businessman': 0.0, 'entrepreneur': 0.0, 'investor': 0.43, 'businessperson': 0.0, 'capitalist': 0.0, 'friend': 0.13, 'traveler': 0.0, 'businesswoman': 0.0, 'political_system': 0.0, 'politics': 0.0, 'community': 0.29, 'place_name': 0.0, 'town': 0.06, 'township': 0.0, 'village': 0.44, 'name': 0.29, 'ministry': 0.5, 'time': 0.18, 'moment': 0.0, 'period': 0.09, 'point': 0.0, 'range': 0.67, 'present': 0.0, 'term': 0.0, 'nation': 0.02, 'placement': 0.0, 'position': 0.08, 'localization': 0.0, 'officer': 0.0, 'lawman': 0.0, 'explanation': 0.0, 'formula': 0.8, 'hypothesis': 0.0, 'proposal': 0.0, 'research': 0.33, 'science': 0.0, 'theory': 0.0, 'living_thing': 0.29, 'species': 0.5, 'spider': 0.0, 'insect': 0.0, 'action': 0.09, 'procession': 0.67, 'authority': 0.05, 'speaker': 0.0, 'body': 0.0, 'leadership': 0.0, 'management': 0.0, 'airline': 0.33, 'airliner': 0.0, 'measure': 0.0, 'size': 0.0, 'space': 0.0, 'association': 0.17, 'club': 0.5, 'campaign': 0.57, 'undertaking': 0.0, 'home': 0.0, 'land': 0.0, 'workplace': 0.0, 'degree': 0.0, 'regulation': 0.0, 'rule': 0.0, 'standard': 1.0, 'boss': 0.0, 'supervisor': 0.0, 'enforcement': 0.0, 'law_enforcement': 0.0, 'daughter': 0.0, 'female': 0.0, 'victim': 0.0, 'woman': 0.0, 'water': 0.33, 'current': 0.0, 'falls': 0.0, 'fluid': 0.0, 'lake': 0.0, 'river': 0.0, 'spill': 0.0, 'stream': 0.0, 'thing': 0.2, 'body_of_water': 0.0, 'columnist': 0.0, 'journalist': 0.0, 'writer': 0.0, 'broadcast': 0.2, 'district': 0.0, 'site': 0.25, 'abuse': 0.0, 'behavior': 0.5, 'difficulty': 0.0, 'problem': 0.25, 'trouble': 0.0, 'use': 0.0, 'wrongdoing': 0.0, 'misconduct': 0.0, 'game': 0.64, 'contest': 0.0, 'exhibition': 1.0, 'match': 0.33, 'tournament': 0.0, 'diplomat': 0.0, 'recipient': 0.0, 'officeholder': 0.0, 'criminal': 0.0, 'subject': 0.0, 'topic': 0.0, 'protest': 0.0, 'anger': 0.67, 'attention': 0.4, 'consequence': 0.0, 'hostility': 0.0, 'issue': 0.33, 'offense': 0.0, 'exception': 0.0, 'hate': 0.0, 'resentment': 0.0, 'circumstance': 0.0, 'objection': 0.0, 'grievance': 0.0, 'girl': 0.0, 'individual': 0.0, 'mother': 0.0, 'parent': 0.0, 'engineer': 0.0, 'master': 0.0, 'military_service': 0.0, 'hill': 0.0, 'slope': 0.67, 'slide': 0.0, 'obstruction': 0.0, 'act': 0.0, 'control': 0.33, 'fund': 0.33, 'insurance_company': 0.0, 'mutual_fund': 0.0, 'benefit': 0.0, 'relief': 0.0, 'band': 0.57, 'amnesty': 1.0, 'exemption': 0.0, 'pardon': 0.0, 'dirt': 0.0, 'ground': 0.0, 'sand': 0.0, 'soil': 0.0, 'aim': 0.0, 'communication': 0.0, 'composition': 0.0, 'hand': 0.67, 'part': 0.18, 'agreement': 0.33, 'discussion': 0.18, 'negotiation': 0.4, 'consultation': 0.0, 'celebrity': 0.0, 'film_star': 0.0, 'model': 0.33, 'performer': 0.0, 'star': 0.0, 'website': 0.0, 'web_page': 0.0, 'governor': 0.2, 'continent': 0.0, 'landmass': 0.0, 'article': 0.12, 'book': 0.0, 'message': 0.0, 'narrative': 0.0, 'newspaper': 0.13, 'piece': 0.0, 'publication': 0.0, 'script': 0.0, 'statement': 0.0, 'nonfiction': 0.0, 'pool': 1.0, 'swimming_pool': 0.0, 'drug': 0.4, 'medicine': 0.0, 'medication': 0.0, 'pill': 0.0, 'lecture': 0.0, 'speech': 0.0, 'singer': 0.0, 'entertainer': 0.0, 'condition': 0.0, 'congressman': 0.0, 'legislator': 0.0, 'representative': 0.08, 'senator': 0.0, 'art': 0.0, 'painting': 0.0, 'magazine': 0.33, 'press': 0.18, 'newsletter': 0.0, 'building': 0.0, 'structure': 0.0, 'construction': 0.0, 'debris': 0.0, 'landmark': 0.0, 'tower': 0.0, 'maneuver': 0.0, 'score': 0.0, 'tactic': 0.0, 'story': 0.67, 'superior': 0.0, 'respondent': 0.0, 'album': 0.22, 'county': 0.4, 'park': 0.0, 'boxer': 0.0, 'combatant': 0.0, 'sportsman': 0.0, 'body_part': 0.0, 'eye': 0.67, 'organ': 0.0, 'sense_organ': 0.0, 'affair': 0.0, 'charge': 0.0, 'crime': 0.0, 'episode': 0.0, 'occasion': 0.0, 'transgression': 0.0, 'author': 0.0, 'editor': 0.0, 'novelist': 0.0, 'publisher': 0.0, 'defendant': 0.0, 'passenger': 0.0, 'cyclone': 0.0, 'hurricane': 0.0, 'storm': 0.0, 'typhoon': 0.0, 'weather': 0.0, 'wind': 0.0, 'enterprise': 0.05, 'post': 0.0, 'strategy': 0.0, 'sport': 0.0, 'competition': 0.0, 'race': 0.67, 'racing': 0.0, 'manufacturer': 0.0, 'flower': 0.0, 'herb': 0.0, 'smell': 0.0, 'artist': 0.17, 'actress': 0.18, 'information': 0.0, 'letter': 1.0, 'mail': 0.0, 'paper': 0.0, 'chain_mail': 0.0, 'organizer': 0.0, 'planner': 0.0, 'canal': 1.0, 'intellectual': 0.0, 'evaluator': 0.0, 'adjudicator': 0.0, 'theorist': 0.0, 'soccer_player': 0.0, 'prisoner': 0.0, 'convict': 0.0, 'felon': 0.0, 'soldier': 0.11, 'football_player': 0.0, 'president': 0.26, 'actor': 0.06, 'motto': 0.0, 'squad': 0.0, 'equipment': 0.33, 'machine': 0.0, 'machinery': 0.0, 'data': 0.38, 'record': 0.12, 'policy': 0.4, 'spot': 0.75, 'film': 0.17, 'movie': 0.0, 'musical': 0.0, 'opera': 0.5, 'specialist': 0.0, 'capital': 0.25, 'financing': 0.0, 'income': 0.0, 'resource': 0.33, 'support': 0.0, 'cash': 0.4, 'humanity': 0.0, 'exercise': 0.0, 'channel': 0.0, 'network': 0.0, 'writing': 0.0, 'answer': 0.0, 'comment': 0.5, 'reaction': 0.0, 'reception': 0.0, 'response': 0.67, 'summary': 0.0, 'word': 0.0, 'remark': 0.0, 'reply': 0.0, 'evaluation': 0.0, 'judgment': 0.0, 'flood': 0.0, 'rain': 1.0, 'precipitation': 0.0, 'builder': 0.0, 'contractor': 0.0, 'car': 0.29, 'motor_vehicle': 0.0, 'vehicle': 0.0, 'king': 0.0, 'lord': 0.0, 'napoleon': 0.0, 'news_agency': 0.0, 'public': 0.0, 'reader': 0.0, 'reviewer': 0.0, 'subscriber': 0.0, 'proofreader': 0.0, 'political_party': 0.0, 'faction': 0.0, 'army': 0.0, 'insurgent': 0.33, 'militant': 0.5, 'radical': 0.0, 'rebel': 0.0, 'terrorist': 0.0, 'dissenter': 0.0, 'case': 0.0, 'court': 0.4, 'employee': 0.0, 'industry': 0.0, 'studio': 0.0, 'guest': 0.0, 'tourist': 0.0, 'visitor': 0.8, 'appointment': 0.0, 'choice': 0.0, 'decision': 0.44, 'move': 0.8, 'year': 0.22, 'series': 0.29, 'colleague': 0.0, 'economist': 0.0, 'software': 0.0, 'code': 0.0, 'component': 0.0, 'hardware': 0.0, 'program': 0.12, 'basketball_player': 0.0, 'teammate': 0.67, 'musician': 0.14, 'bassist': 0.0, 'composer': 0.0, 'songwriter': 0.0, 'banker': 0.0, 'financier': 0.0, 'domain': 0.0, 'estate': 0.0, 'relative': 0.0, 'examination': 0.0, 'inquiry': 0.0, 'investigation': 0.67, 'probe': 0.67, 'procedure': 0.0, 'process': 0.0, 'question': 0.0, 'search': 0.0, 'study': 0.0, 'work': 0.0, 'collection': 0.0, 'survey': 0.0, 'technical_analysis': 0.0, 'view': 0.5, 'public_opinion': 0.0, 'foreign_policy': 0.0, 'visit': 0.8, 'blow': 1.0, 'damage': 0.0, 'distress': 0.0, 'injury': 0.0, 'loss': 0.57, 'shock': 0.0, 'suffering': 0.0, 'wrong': 0.0, 'agent': 0.17, 'dealer': 1.0, 'merchant': 0.0, 'seller': 0.0, 'trader': 0.0, 'stockbroker': 0.0, 'member': 0.4, 'box': 0.0, 'executive': 0.0, 'clientele': 0.0, 'ambassador': 0.0, 'examiner': 0.0, 'democracy': 0.0, 'territory': 0.14, 'perceiver': 0.0, 'healing': 0.0, 'remedy': 0.0, 'therapy': 1.0, 'commission': 0.0, 'market': 0.0, 'marketplace': 0.0, 'bureaucracy': 0.0, 'cost': 0.0, 'price': 0.57, 'federal_government': 0.0, 'plan': 0.0, 'assault': 0.0, 'danger': 0.0, 'disaster': 0.0, 'strike': 0.0, 'threat': 0.67, 'calamity': 0.0, 'menace': 0.0, 'corporate_executive': 0.0, 'head': 0.0, 'occupation': 0.0, 'chemical': 0.0, 'residence': 0.0, 'dwelling': 0.0, 'detective': 0.0, 'investigator': 0.0, 'producer': 0.0, 'psychologist': 0.0, 'couple': 0.0, 'pair': 0.0, 'queen': 0.0, 'ruler': 0.22, 'royalty': 0.0, 'conversation': 0.0, 'advancement': 0.0, 'change': 0.0, 'creation': 0.0, 'development': 0.0, 'improvement': 0.0, 'invention': 0.0, 'movement': 0.0, 'progress': 0.0, 'step': 1.0, 'transformation': 0.0, 'ascent': 0.0, 'captive': 0.0, 'detainee': 0.0, 'hockey': 1.0, 'conductor': 0.0, 'tennis_player': 0.0, 'class': 0.0, 'course': 0.36, 'civilian': 0.0, 'death': 0.67, 'provider': 0.0, 'supplier': 0.0, 'hospital': 0.0, 'lawyer': 0.0, 'character': 0.0, 'lawsuit': 0.0, 'breed': 0.0, 'cow': 0.0, 'stock': 0.0, 'value': 0.0, 'adviser': 0.0, 'restraint': 1.0, 'trio': 0.0, 'casualty': 0.0, 'three': 0.0, 'confederation': 0.0, 'federation': 0.0, 'spokeswoman': 0.0, 'diarist': 0.0, 'college': 0.44, 'university': 0.6, 'social_control': 0.0, 'scientist': 0.17, 'economy': 0.67, 'power': 0.0, 'relationship': 0.0, 'creator': 0.0, 'fame': 0.0, 'inspiration': 0.0, 'jazz': 0.0, 'division': 0.5, 'disagreement': 0.0, 'trainer': 0.0, 'chief_executive_officer': 0.0, 'reformer': 0.0, 'anchor': 0.0, 'host': 0.67, 'presenter': 0.0, 'golfer': 0.0, 'disorder': 0.0, 'comedian': 0.0, 'comic_book': 0.0, 'law': 0.0, 'bill': 0.4, 'legislation': 0.0, 'treaty': 0.33, 'cricketer': 0.0, 'title': 0.33, 'distinction': 0.0, 'accomplishment': 0.0, 'population': 0.0, 'duty': 0.0, 'function': 0.0, 'mission': 0.0, 'foreigner': 0.0, 'owner': 0.0, 'job': 0.0, 'responsibility': 0.67, 'enemy': 0.0, 'foe': 0.0, 'guerrilla': 0.0, 'custodian': 0.0, 'adolescent': 0.0, 'janitor': 0.0, 'history': 0.57, 'past': 0.0, 'situation': 0.0, 'memory': 0.0, 'engineering': 0.0, 'profession': 0.0, 'technology': 0.0, 'animation': 0.0, 'artwork': 0.0, 'cartoon': 1.0, 'comic': 0.0, 'drawing': 0.0, 'product': 0.0, 'item': 0.0, 'attorney': 0.67, 'public_servant': 0.0, 'shooting': 0.0, 'violence': 0.0, 'rock_star': 0.0, 'island': 0.5, 'coast': 1.0, 'seashore': 0.0, 'lady': 0.0, 'thrower': 0.0, 'applicant': 0.0, 'critic': 0.0, 'humanitarian': 0.0, 'opposition': 0.0, 'adversary': 0.0, 'mentor': 0.0, 'executive_branch': 0.0, 'unit': 0.18, 'immigrant': 0.0, 'journey': 0.0, 'concern': 0.5, 'worry': 0.0, 'dancer': 0.0, 'metropolitan': 0.0, 'stead': 0.0, 'banner': 0.0, 'flag': 1.0, 'symbol': 0.0, 'wife': 0.0, 'police': 0.38, 'isle': 0.67, 'confusion': 0.0, 'category': 0.0, 'genre': 0.67, 'kind': 0.0, 'style': 0.0, 'type': 0.0, 'coach': 0.11, 'approach': 0.0, 'assessment': 0.0, 'evidence': 0.0, 'text_file': 0.0, 'booklet': 0.0, 'neighborhood': 0.0, 'section': 0.0, 'vicinity': 0.0, 'lecturer': 0.0, 'student': 0.0, 'pregnancy': 1.0, 'container': 0.0, 'foreign_country': 0.0, 'reform': 0.0, 'session': 0.0, 'discharge': 0.0, 'matter': 0.0, 'waste': 0.0, 'garbage': 0.0, 'trash': 0.0, 'rubbish': 0.0, 'presidency': 0.0, 'minister': 0.21, 'playing_field': 0.0, 'stadium': 0.5, 'tragedy': 0.67, 'misfortune': 0.0, 'advice': 0.0, 'rating': 0.67, 'recommendation': 0.0, 'boy': 0.29, 'board': 0.0, 'music': 0.29, 'song': 0.44, 'bridge': 1.0, 'classical_music': 0.0, 'singing': 0.0, 'symphony': 0.0, 'symphony_orchestra': 0.0, 'agenda': 0.0, 'attempt': 0.0, 'effort': 0.57, 'gather': 0.0, 'assistant': 0.0, 'refugee': 0.0, 'lawgiver': 0.0, 'missionary': 1.0, 'clergyman': 0.0, 'election': 0.0, 'solution': 0.0, 'vote': 0.57, 'today': 0.22, 'fiction': 0.0, 'novel': 0.0, 'duration': 0.0, 'passage': 0.0, 'attraction': 0.0, 'concentration': 0.0, 'focus': 0.0, 'interest': 0.4, 'wonder': 0.0, 'foot': 1.0, 'limb': 0.0, 'room': 0.0, 'ship': 0.4, 'boat': 0.0, 'vessel': 0.5, 'union': 0.57, 'road': 0.0, 'circuit': 1.0, 'path': 0.0, 'computer': 0.0, 'internet': 0.0, 'manual': 0.0, 'platform': 0.4, 'web_site': 0.0, 'handbook': 0.0, 'delay': 0.0, 'dimension': 0.0, 'hour': 0.0, 'length': 0.0, 'minute': 0.0, 'football': 0.0, 'decline': 0.0, 'decrease': 0.0, 'fall': 0.4, 'afternoon': 0.0, 'noon': 0.5, 'phone': 0.0, 'service': 0.5, 'telephone': 0.67, 'merchandise': 0.0, 'native': 0.0, 'baseball': 0.0, 'training': 1.0, 'husband': 0.0, 'magistrate': 0.0, 'spouse': 0.0, 'interviewee': 0.0, 'emotion': 0.0, 'feeling': 0.0, 'spirit': 0.0, 'outrage': 0.0, 'warrior': 0.0, 'operator': 0.0, 'countryside': 0.0, 'life_style': 0.0, 'commodity': 0.0, 'fighter': 0.0, 'opinion': 0.0, 'engine': 0.5, 'helicopter': 0.4, 'motor': 0.0, 'height': 0.0, 'level': 0.67, 'extremity': 0.0, 'furniture': 0.0, 'table': 0.0, 'desk': 1.0, 'religious_leader': 0.0, 'priest': 0.0, 'spiritual_leader': 0.0, 'apology': 0.0, 'plea': 0.0, 'regret': 0.0, 'facility': 0.0, 'earthquake': 1.0, 'catastrophe': 0.0, 'education': 0.0, 'amount': 0.0, 'sum': 0.0, 'force': 0.18, 'analysis': 0.0, 'file': 0.0, 'real_property': 0.0, 'era': 0.0, 'dollar': 0.0, 'castle': 0.0, 'fortress': 0.0, 'palace': 0.0, 'accident': 0.0, 'mishap': 0.0, 'attacker': 1.0, 'wrongdoer': 0.0, 'hacker': 0.0, 'festival': 0.67, 'electronics': 0.0, 'regulator': 0.0, 'field': 0.0, 'month': 0.67, 'whole': 0.0, 'doctor': 0.0, 'gang': 0.0, 'pack': 0.0, 'clique': 0.0, 'literature': 0.0, 'risk': 0.0, 'scheme': 0.0, 'poem': 0.0, 'text': 0.0, 'verse': 1.0, 'craft': 0.0, 'satellite': 0.0, 'caretaker': 0.0, 'father': 0.5, 'implement': 0.0, 'motivation': 0.0, 'journal': 0.0, 'acquaintance': 0.0, 'award': 0.0, 'certificate': 0.0, 'grant': 0.0, 'prize': 0.0, 'qualification': 0.0, 'talk_show': 0.0, 'announcement': 0.0, 'instrument': 0.0, 'horn': 0.0, 'musical_instrument': 0.0, 'presentation': 0.0, 'convention': 0.67, 'summit': 0.0, 'stockholder': 0.0, 'habit': 0.0, 'spread': 1.0, 'guidance': 0.0, 'mountain': 0.5, 'medal': 0.67, 'trophy': 0.0, 'constitution': 0.0, 'bishop': 0.0, 'cardinal': 0.0, 'film_industry': 0.0, 'crisis': 0.57, 'hurdle': 0.0, 'hazard': 0.0, 'painter': 0.0, 'biologist': 0.0, 'police_department': 0.0, 'swat': 0.0, 'terrorism': 0.0, 'terror': 0.0, 'contract': 0.0, 'commitment': 0.0, 'desktop': 0.0, 'commander': 0.0, 'branch': 0.0, 'post_office': 0.0, 'prosecutor': 0.67, 'documentation': 0.0, 'confirmation': 0.0, 'community_college': 0.0, 'junior_college': 0.0, 'school': 0.2, 'clip': 0.0, 'recording': 0.0, 'video': 0.8, 'video_recording': 0.0, 'ballot': 1.0, 'calendar_month': 0.0, 'season': 0.0, 'championship': 0.0, 'league': 0.4, 'cabinet_minister': 0.0, 'chancellor': 0.0, 'civilization': 0.0, 'culture': 0.4, 'boyfriend': 0.0, 'lover': 0.0, 'partner': 0.0, 'second_person': 0.0, 'collaborator': 0.0, 'mediator': 0.0, 'negotiator': 0.0, 'commander_in_chief': 0.0, 'decree': 0.0, 'statistic': 0.0, 'experience': 0.0, 'system': 0.0, 'travel': 0.0, 'tourism': 1.0, 'two': 0.0, 'track': 0.0, 'racetrack': 0.0, 'society': 0.4, 'week': 0.33, 'deadline': 0.0, 'workweek': 0.0, 'affiliation': 0.0, 'interaction': 0.0, 'capture': 0.0, 'kidnapping': 0.0, 'abduction': 0.0, 'associate': 0.0, 'geographical_area': 0.0, 'suspect': 0.0, 'accused': 0.0, 'cinema': 1.0, 'entertainment': 0.0, 'witness': 0.0, 'local': 0.0, 'newscaster': 0.0, 'follower': 0.0, 'finance': 0.0, 'chance': 0.0, 'investment': 0.0, 'opportunity': 0.67, 'possibility': 0.0, 'suggestion': 0.0, 'offer': 0.0, 'voter': 0.0, 'tool': 0.33, 'railway': 0.4, 'train': 0.33, 'line': 0.0, 'public_transport': 0.0, 'arena': 0.0, 'champion': 0.4, 'clubhouse': 0.0, 'employment': 0.0, 'test': 0.4, 'effect': 0.5, 'proof': 0.0, 'success': 0.0, 'language': 0.57, 'terminology': 0.0, 'planet': 0.0, 'sphere': 0.0, 'celestial_body': 0.0, 'rank': 0.0, 'status': 0.0, 'index': 0.0, 'adjustment': 0.0, 'registration': 1.0, 'billionaire': 0.0, 'shareholder': 0.0, 'head_of_state': 0.0, 'province': 0.0, 'review': 0.0, 'computer_game': 0.0, 'video_game': 0.0, 'fan': 0.0, 'stamp': 0.0, 'custom': 0.0, 'ritual': 0.0, 'tradition': 1.0, 'bus': 0.5, 'station': 0.29, 'television_station': 0.0, 'ownership': 0.0, 'possession': 0.0, 'share': 0.67, 'stake': 0.0, 'establishment': 0.0, 'foundation': 0.4, 'lab': 0.0, 'retirement': 0.0, 'profit': 1.0, 'gross': 0.0, 'net_income': 0.0, 'trip': 0.0, 'democrat': 0.0, 'spectator': 0.0, 'transport_ship': 0.0, 'farmer': 0.67, 'interview': 0.8, 'talk': 0.0, 'press_conference': 0.0, 'dominance': 0.0, 'leverage': 0.0, 'bid': 0.0, 'milestone': 0.0, 'confrontation': 0.0, 'resistance': 0.0, 'scene': 0.0, 'connection': 0.0, 'dependence': 1.0, 'link': 0.0, 'need': 0.0, 'rival': 0.0, 'founder': 0.0, 'tennis': 0.0, 'referee': 0.0, 'skin': 1.0, 'cover': 0.0, 'troop': 0.0, 'crowd': 0.0, 'organisation': 0.0, 'promotion': 1.0, 'bombing': 0.0, 'explosion': 0.0, 'suicide_bombing': 0.0, 'aggression': 0.0, 'order': 0.0, 'peace': 0.67, 'sailor': 0.0, 'imprisonment': 0.0, 'punishment': 0.0, 'concert': 0.0, 'office': 0.0, 'working_group': 0.0, 'appraisal': 0.0, 'sculpture': 0.0, 'migrant': 0.0, 'citizenry': 0.0, 'broadcasting': 0.0, 'display': 0.0, 'footage': 0.0, 'medium': 0.0, 'transportation': 0.0, 'adversity': 0.0, 'physicist': 0.0, 'campus': 1.0, 'ancient': 0.0, 'parade': 0.0, 'way': 0.0, 'batter': 0.0, 'ballplayer': 0.0, 'dilemma': 0.0, 'ally': 0.0, 'supporter': 0.0, 'populace': 0.0, 'fact': 0.57, 'figure': 0.5, 'number': 0.0, 'statistics': 0.5, 'gift': 0.0, 'payment': 0.67, 'compensation': 0.0, 'earth': 0.0, 'environment': 0.0, 'habitat': 1.0, 'memorial': 0.0, 'monument': 0.5, 'career': 0.0, 'radio': 0.0, 'reliever': 0.0, 'rescuer': 0.0, 'fireman': 0.0, 'chemical_element': 0.0, 'ingredient': 0.0, 'prime_minister': 0.0, 'diesel': 0.0, 'economics': 0.0, 'poverty_line': 1.0, 'killer': 0.0, 'murderer': 0.0, 'evening': 0.0, 'plant': 0.0, 'harvest': 0.0, 'produce': 0.0, 'picture': 0.67, 'representation': 0.0, 'disease': 0.67, 'cancer': 0.0, 'illness': 0.0, 'tumor': 0.0, 'ill_health': 0.0, 'sickness': 0.0, 'beverage': 0.0, 'drink': 0.4, 'pop': 0.0, 'soft_drink': 0.0, 'athletics': 0.0, 'marathon': 0.0, 'bank': 0.0, 'interval': 0.0, 'meter': 0.0, 'arrangement': 0.0, 'secondary_school': 0.0, 'journalism': 0.0, 'routine': 0.0, 'lobbyist': 0.67, 'watchdog': 0.0, 'lobby': 0.0, 'ledger': 0.0, 'desert': 0.67, 'demonstration': 0.0, 'escort': 0.0, 'valet': 0.0, 'perpetrator': 0.0, 'client': 0.0, 'consumer': 0.0, 'shift': 0.0, 'switch': 0.0, 'numeral': 0.0, 'address': 0.0, 'speech_act': 0.0, 'questioning': 0.0, 'sentiment': 0.0, 'touch': 0.0, 'polity': 0.0, 'reference': 0.0, 'source': 0.0, 'mark': 0.0, 'target': 0.67, 'world_record': 0.0, 'streak': 0.0, 'sculptor': 1.0, 'conclusion': 0.0, 'anniversary': 0.0, 'celebration': 0.0, 'shrine': 0.0, 'temple': 0.0, 'type_species': 0.0, 'delegate': 0.0, 'battery': 0.0, 'auditorium': 0.0, 'complex': 0.0, 'advertiser': 0.0, 'generation': 0.0, 'patient': 0.0, 'seat': 0.0, 'citizenship': 0.0, 'pass': 0.0, 'permission': 0.0, 'residency': 0.0, 'passport': 1.0, 'base': 0.33, 'photograph': 0.0, 'accuser': 0.0, 'department': 0.0, 'ball': 0.8, 'ball_game': 0.0, 'basketball': 1.0, 'contact_sport': 0.0, 'fun': 0.0, 'dismissal': 0.67, 'leave': 0.0, 'termination': 0.0, 'bargain': 0.0, 'deal': 0.0, 'murder': 0.0, 'homicide': 0.0, 'phrase': 0.0, 'finalist': 0.0, 'guitarist': 0.0, 'correspondent': 0.0, 'edition': 0.0, 'revision': 0.0, 'version': 0.5, 'hip': 1.0, 'joint': 0.0, 'approval': 1.0, 'consent': 0.0, 'nod': 0.0, 'argument': 0.0, 'debate': 0.4, 'disturbance': 0.0, 'bird': 0.0, 'endangered_species': 0.0, 'god': 0.0, 'angel': 0.0, 'deity': 0.0, 'requirement': 0.0, 'passing': 0.0, 'railway_station': 0.67, 'terminal': 0.0, 'pick': 0.0, 'selection': 1.0, 'plot': 0.0, 'inspection': 0.0, 'recount': 0.0, 'rate': 0.0, 'pace': 1.0, 'vegetable': 0.0, 'emperor': 0.67, 'error': 0.0, 'violation': 0.0, 'carnival': 0.0, 'mixture': 0.0, 'solid': 0.0, 'raw_material': 0.0, 'stuff': 0.0, 'evacuation': 0.0, 'liberation': 0.0, 'release': 0.5, 'hero': 0.8, 'standing_army': 0.0, 'baby': 0.67, 'goal': 0.67, 'objective': 1.0, 'purpose': 0.0, 'intention': 0.0, 'defense_mechanism': 0.0, 'monk': 0.0, 'learner': 0.0, 'cooking': 0.0, 'dish': 0.0, 'cabinet': 0.67, 'rapper': 0.0, 'project': 1.0, 'restoration': 0.0, 'vegetation': 0.0, 'shot': 0.8, 'gunfire': 0.0, 'projectile': 0.0, 'atmosphere': 0.0, 'dictator': 0.0, 'general': 0.0, 'authoritarian': 0.0, 'social_scientist': 0.0, 'user': 0.0, 'grain': 1.0, 'heir': 0.0, 'successor': 0.0, 'conviction': 0.0, 'sentence': 0.0, 'captivity': 0.0, 'influence': 0.8, 'national': 0.0, 'legend': 0.0, 'sign': 0.0, 'sign_language': 0.0, 'camp': 1.0, 'alliance': 0.0, 'coalition': 0.0, 'gentleman': 0.0, 'chief': 0.5, 'poison': 0.0, 'culture_medium': 0.0, 'executive_officer': 0.0, 'borough': 1.0, 'explorer': 0.0, 'factory': 1.0, 'first': 0.0, 'family': 0.55, 'adoption': 0.0, 'beginning': 0.0, 'birth': 1.0, 'birthday': 0.0, 'delivery': 0.0, 'conservation': 0.0, 'preservation': 0.0, 'mass': 0.0, 'television_program': 0.0, 'screenplay': 0.0, 'commerce': 0.0, 'exchange': 0.0, 'trade': 0.33, 'mayor': 0.0, 'alcohol': 0.0, 'liquor': 0.0, 'bottom': 0.0, 'fabric': 0.0, 'black': 0.0, 'short': 1.0, 'trail': 0.0, 'coverage': 0.0, 'deterioration': 0.0, 'devastation': 0.0, 'doctrine': 0.0, 'philosophy': 0.0, 'prostitution': 0.0, 'philosopher': 0.0, 'expansion': 0.0, 'growth': 0.0, 'increase': 0.0, 'raise': 0.0, 'rise': 0.0, 'lift': 0.0, 'intellectual_property': 0.0, 'country_club': 0.0, 'golf_club': 0.0, 'golf_course': 1.0, 'republic': 0.0, 'captain': 0.0, 'headquarters': 0.0, 'designer': 0.0, 'inventor': 0.0, 'manager': 0.0, 'barrier': 0.0, 'key': 0.67, 'shore': 0.0, 'debt': 0.0, 'pilot': 0.0, 'aviator': 0.0, 'application': 0.0, 'chip': 0.0, 'monitor': 0.0, 'processor': 1.0, 'television': 0.0, 'goalkeeper': 0.0, 'secret_police': 0.0, 'defense': 0.0, 'fire': 0.0, 'weaponry': 0.0, 'smuggling': 0.0, 'felony': 0.0, 'freedom': 0.0, 'soundtrack': 0.67, 'prisoner_of_war': 0.0, 'probability': 0.0, 'jury': 0.0, 'resident': 0.67, 'inhabitant': 0.0, 'globe': 0.0, 'world': 0.0, 'threshold': 0.0, 'interior_designer': 0.0, 'activeness': 0.0, 'impression': 0.0, 'personality': 0.0, 'cyclist': 0.0, 'tornado': 0.0, 'locomotive': 0.0, 'blade': 0.0, 'nature': 0.0, 'harmony': 0.0, 'integrity': 0.0, 'kingdom': 0.0, 'doubt': 0.0, 'fleet': 0.0, 'sibling': 0.0, 'china': 0.0, 'membership': 0.0, 'conglomerate': 0.0, 'commissioner': 0.0, 'fire_chief': 0.0, 'embassy': 0.0, 'fertilizer': 0.0, 'colony': 0.0, 'entrance': 0.0, 'ticket': 1.0, 'admission': 0.0, 'drama': 0.0, 'bone': 1.0, 'volunteer': 0.0, 'royal': 0.0, 'airport': 0.67, 'flight': 0.0, 'air_terminal': 0.0, 'bureaucrat': 0.0, 'interest_rate': 0.0, 'sample': 0.0, 'nationality': 0.0, 'council': 0.0, 'raceway': 0.0, 'estimate': 0.0, 'perception': 0.0, 'theme': 0.0, 'labor_force': 0.0, 'demonstrator': 0.0, 'house': 0.0, 'commissioned_officer': 0.0, 'judge_advocate': 0.0, 'headman': 0.0, 'execution': 0.0, 'content': 0.0, 'convoy': 0.0, 'tank': 0.0, 'counselor': 0.0, 'mosque': 1.0, 'synagogue': 0.0, 'poet': 0.0, 'surface': 0.0, 'industrialist': 0.0, 'identity': 0.0, 'biology': 0.0, 'discipline': 0.0, 'skill': 0.0, 'wine': 0.67, 'icon': 0.0, 'goods': 1.0, 'direction': 0.0, 'free_agent': 0.0, 'apparel': 0.0, 'dress': 0.0, 'garment': 0.0, 'shirt': 0.0, 'conquest': 1.0, 'invasion': 0.0, 'takeover': 0.0, 'ability': 0.0, 'mobility': 0.0, 'quality': 0.0, 'speed': 0.5, 'talent': 0.0, 'team_sport': 0.0, 'savings_bank': 0.0, 'principle': 0.0, 'rider': 0.67, 'cold': 0.0, 'illustration': 0.0, 'tiger': 0.0, 'acquisition': 0.0, 'transaction': 0.0, 'gunman': 0.0, 'set': 1.0, 'pressing': 0.0, 'atrocity': 0.0, 'output': 0.0, 'graduate': 0.0, 'awareness': 0.0, 'brain': 0.0, 'consciousness': 0.0, 'mind': 1.0, 'thinking': 0.0, 'conscience': 0.0, 'broadcaster': 0.0, 'militia': 0.0, 'dialect': 0.0, 'tour': 1.0, 'catch': 0.0, 'saying': 0.0, 'affirmation': 0.0, 'hotel': 0.0, 'casino': 1.0, 'resort': 0.0, 'manner': 1.0, 'method': 0.0, 'hostage': 0.0, 'budget': 0.0, 'restriction': 0.0, 'kid': 0.0, 'staff': 0.0, 'usage': 0.0, 'serve': 0.0, 'airplane': 0.0, 'aircraft': 0.67, 'jet': 0.0, 'trial': 0.67, 'proportion': 0.0, 'volume': 0.0, 'evolution': 0.0, 'natural_process': 0.0, 'kick': 0.0, 'honor': 0.67, 'recognition': 0.0, 'contribution': 0.0, 'monkey': 0.0, 'sanctuary': 0.0, 'revival': 1.0, 'appearance': 0.0, 'debut': 1.0, 'informant': 0.0, 'informer': 0.0, 'landslide': 1.0, 'bug': 0.0, 'classification': 0.0, 'truth': 0.0, 'call': 0.0, 'merit': 0.0, 'prestige': 0.0, 'hearing': 0.0, 'testimony': 0.0, 'congress': 0.0, 'romantic': 0.0, 'civil_law': 0.0, 'climate': 0.0, 'global_warming': 0.0, 'restaurant': 0.0, 'price_index': 0.0, 'detail': 1.0, 'workman': 0.0, 'datum': 0.0, 'motion': 0.0, 'institute': 0.0, 'determination': 0.0, 'resolution': 0.0, 'gear': 0.0, 'replacement': 0.0, 'cuisine': 0.0, 'definition': 0.0, 'mix': 0.0, 'retreat': 0.0, 'cooperation': 0.0, 'diplomacy': 0.0, 'confession': 1.0, 'revelation': 0.0, 'renovation': 0.0, 'cleaning': 0.0, 'cleanup': 1.0, 'role': 0.0, 'contact': 1.0, 'segment': 0.0, 'exhibit': 0.0, 'try': 0.0, 'cast': 0.0, 'casting': 0.0, 'poll': 0.0, 'character_actor': 0.0, 'franchise': 0.0, 'partnership': 0.0, 'compound': 0.0, 'architecture': 0.0, 'mansion': 0.0, 'life_story': 0.0, 'artifact': 0.0, 'decoration': 0.0, 'disaster_area': 0.0, 'enrollee': 0.0, 'multitude': 0.0, 'covering': 0.0, 'blanket': 1.0, 'collaboration': 0.0, 'jam': 1.0, 'street': 0.0, 'encounter': 0.0, 'disclosure': 1.0, 'media': 0.0, 'recipe': 0.0, 'salad': 0.67, 'passenger_ship': 0.0, 'infant': 1.0, 'discount': 0.0, 'credit_union': 0.0, 'employer': 0.0, 'marketing': 0.0, 'basis': 0.0, 'floor': 0.0, 'neighbor': 0.0, 'viewer': 0.0, 'fugitive': 0.0, 'settlement': 0.0, 'grid': 1.0, 'supply': 0.0, 'conjunction': 0.0, 'export': 0.0, 'command': 0.0, 'practice': 0.0, 'report_card': 0.0, 'paperwork': 0.0, 'fee': 0.0, 'loan': 0.0, 'tuition': 1.0, 'purchase': 0.0, 'shopping': 1.0, 'announcer': 0.0, 'kin': 0.0, 'civil_servant': 0.0, 'end': 0.0, 'ending': 0.0, 'separation': 0.0, 'dissolution': 1.0, 'upheaval': 0.0, 'fear': 1.0, 'outlook': 0.0, 'thought': 0.0, 'panic': 0.0, 'economic_growth': 0.0, 'fish': 0.0, 'impact': 0.0, 'affect': 0.0, 'failure': 0.0, 'bankruptcy': 0.0, 'quarter': 0.0, 'clerk': 0.0, 'justice': 0.0, 'blocking': 0.0, 'popular_music': 0.0, 'count': 0.0, 'soccer': 0.0, 'brotherhood': 0.0, 'youth': 0.0, 'strategist': 0.0, 'weekly': 0.0, 'health': 0.0, 'consideration': 1.0, 'deliberation': 0.0, 'list': 0.0, 'ranking': 0.0, 'standing': 0.0, 'physics': 0.0}\n"
     ]
    },
    {
     "data": {
      "text/plain": [
       "{'../results/avgs_stds/onoe_choi_preds.txt': 0.039780592064976646}"
      ]
     },
     "execution_count": 28,
     "metadata": {},
     "output_type": "execute_result"
    }
   ],
   "source": [
    "compute_onoe_corr(dict(dev_dist), suffix)"
   ]
  },
  {
   "cell_type": "code",
   "execution_count": null,
   "metadata": {},
   "outputs": [],
   "source": []
  }
 ],
 "metadata": {
  "kernelspec": {
   "display_name": "Python 3",
   "language": "python",
   "name": "python3"
  },
  "language_info": {
   "codemirror_mode": {
    "name": "ipython",
    "version": 3
   },
   "file_extension": ".py",
   "mimetype": "text/x-python",
   "name": "python",
   "nbconvert_exporter": "python",
   "pygments_lexer": "ipython3",
   "version": "3.6.9"
  }
 },
 "nbformat": 4,
 "nbformat_minor": 2
}
