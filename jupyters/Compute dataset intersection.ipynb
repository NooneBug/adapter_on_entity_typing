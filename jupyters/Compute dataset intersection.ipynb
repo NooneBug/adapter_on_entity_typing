{
 "cells": [
  {
   "cell_type": "code",
   "execution_count": 1,
   "id": "grateful-prison",
   "metadata": {},
   "outputs": [],
   "source": [
    "import json"
   ]
  },
  {
   "cell_type": "code",
   "execution_count": 3,
   "id": "urban-contact",
   "metadata": {},
   "outputs": [],
   "source": [
    "mapping_base_path = '/datahdd/vmanuel/entity_typing_all_datasets/data/entity_typing_original_datasets/mapped_datasets/'"
   ]
  },
  {
   "cell_type": "code",
   "execution_count": 5,
   "id": "rising-gender",
   "metadata": {},
   "outputs": [],
   "source": [
    "def load_dataset(path):\n",
    "    with open(path, 'r') as inp:\n",
    "        return [json.loads(l) for l in inp.readlines()]"
   ]
  },
  {
   "cell_type": "code",
   "execution_count": 35,
   "id": "earlier-access",
   "metadata": {},
   "outputs": [],
   "source": [
    "def check_intersections(list_of_datasets):\n",
    "    intersections = {i:0 for i in range(len(list_of_datasets))}\n",
    "    lines = {i: set([l['line'] for l in list_of_datasets[i]]) for i in range(len(list_of_datasets))}\n",
    "    out_str = '{:<2}\\t{:<5}\\t{:<2}\\t{:<5}\\t{:<5}\\t{:^5}\\t{:^5}\\n'.format('d1', '#e', 'd2', '#e', '#int', '%1', '%2')\n",
    "    for d, l in lines.items():\n",
    "        for d2, l2 in lines.items():\n",
    "            if d < d2:\n",
    "                len_inter = len(l.intersection(l2))\n",
    "                out_str += '{:<2}\\t{:<5}\\t{:<2}\\t{:<5}\\t{:<5}\\t{:<5.3f}\\t{:<5.3f}\\n'.format(d, len(l), \n",
    "                                                                                            d2, len(l2), \n",
    "                                                                                            len_inter,\n",
    "                                                                                            len_inter/len(l), len_inter/len(l2))\n",
    "    print(out_str)\n",
    "    \n",
    "    triple_interseciton = lines[0].intersection(lines[1].intersection(lines[2]))\n",
    "    print('triple intersection: {}\\t{:5.3f}\\t{:5.3f}\\t{:5.3f}'.format(len(triple_interseciton),\n",
    "                                                                  len(triple_interseciton)/len(lines[0]),\n",
    "                                                                  len(triple_interseciton)/len(lines[1]),\n",
    "                                                                  len(triple_interseciton)/len(lines[2])))"
   ]
  },
  {
   "cell_type": "markdown",
   "id": "unable-brand",
   "metadata": {},
   "source": [
    "# BBN"
   ]
  },
  {
   "cell_type": "code",
   "execution_count": 4,
   "id": "frank-venice",
   "metadata": {},
   "outputs": [],
   "source": [
    "original_path = '/datahdd/vmanuel/entity_typing_all_datasets/data/BBN/BBN/train_partitioned.json'\n",
    "on_onto_path = mapping_base_path + 'dev_BBN_into_Ontonotes.json'\n",
    "on_figer_path = mapping_base_path + 'dev_BBN_into_FIGER.json'\n",
    "on_choi_path = mapping_base_path + 'dev_BBN_into_choi.json'"
   ]
  },
  {
   "cell_type": "code",
   "execution_count": 6,
   "id": "supreme-carter",
   "metadata": {},
   "outputs": [],
   "source": [
    "original_bbn = load_dataset(original_path)\n",
    "bbn_on_onto = load_dataset(on_onto_path)\n",
    "bbn_on_figer = load_dataset(on_figer_path)\n",
    "bbn_on_choi = load_dataset(on_choi_path)"
   ]
  },
  {
   "cell_type": "code",
   "execution_count": 36,
   "id": "southwest-torture",
   "metadata": {},
   "outputs": [
    {
     "name": "stdout",
     "output_type": "stream",
     "text": [
      "d1\t#e   \td2\t#e   \t#int \t %1  \t %2  \n",
      "0 \t1645 \t1 \t1651 \t1645 \t1.000\t0.996\n",
      "0 \t1645 \t2 \t1699 \t1624 \t0.987\t0.956\n",
      "1 \t1651 \t2 \t1699 \t1630 \t0.987\t0.959\n",
      "\n",
      "triple intersection: 1624\t0.987\t0.984\t0.956\n"
     ]
    }
   ],
   "source": [
    "check_intersections([bbn_on_onto, bbn_on_figer, bbn_on_choi])"
   ]
  },
  {
   "cell_type": "markdown",
   "id": "necessary-commodity",
   "metadata": {},
   "source": [
    "# Onto"
   ]
  },
  {
   "cell_type": "code",
   "execution_count": 37,
   "id": "continent-celebration",
   "metadata": {},
   "outputs": [],
   "source": [
    "# original_path = '/datahdd/vmanuel/entity_typing_all_datasets/data/entity_typing_original_datasets/ontonotes/g_test_tree_lines.json'\n",
    "on_bbn_path = mapping_base_path + 'test_Ontonotes_into_BBN.json'\n",
    "on_figer_path = mapping_base_path + 'test_Ontonotes_into_FIGER.json'\n",
    "on_choi_path = mapping_base_path + 'test_Onto_into_choi.json'"
   ]
  },
  {
   "cell_type": "code",
   "execution_count": 38,
   "id": "entitled-isaac",
   "metadata": {},
   "outputs": [],
   "source": [
    "# original_bbn = load_dataset(original_path)\n",
    "onto_on_bbn = load_dataset(on_bbn_path)\n",
    "onto_on_figer = load_dataset(on_figer_path)\n",
    "onto_on_choi = load_dataset(on_choi_path)"
   ]
  },
  {
   "cell_type": "code",
   "execution_count": 39,
   "id": "norman-february",
   "metadata": {},
   "outputs": [
    {
     "name": "stdout",
     "output_type": "stream",
     "text": [
      "d1\t#e   \td2\t#e   \t#int \t %1  \t %2  \n",
      "0 \t4261 \t1 \t4475 \t4261 \t1.000\t0.952\n",
      "0 \t4261 \t2 \t4486 \t4261 \t1.000\t0.950\n",
      "1 \t4475 \t2 \t4486 \t4475 \t1.000\t0.998\n",
      "\n",
      "triple intersection: 4261\t1.000\t0.952\t0.950\n"
     ]
    }
   ],
   "source": [
    "check_intersections([onto_on_bbn, onto_on_figer, onto_on_choi])"
   ]
  },
  {
   "cell_type": "markdown",
   "id": "transparent-steam",
   "metadata": {},
   "source": [
    "# FIGER"
   ]
  },
  {
   "cell_type": "code",
   "execution_count": 41,
   "id": "vulnerable-shooting",
   "metadata": {},
   "outputs": [],
   "source": [
    "on_bbn_path = mapping_base_path + 'test_figer_into_BBN.json'\n",
    "on_onto_path = mapping_base_path + 'test_figer_into_Onto.json'\n",
    "on_choi_path = mapping_base_path + 'test_figer_into_choi.json'"
   ]
  },
  {
   "cell_type": "code",
   "execution_count": 42,
   "id": "random-north",
   "metadata": {},
   "outputs": [],
   "source": [
    "figer_on_bbn = load_dataset(on_bbn_path)\n",
    "figer_on_onto = load_dataset(on_onto_path)\n",
    "figer_on_choi = load_dataset(on_choi_path)"
   ]
  },
  {
   "cell_type": "code",
   "execution_count": 44,
   "id": "colored-execution",
   "metadata": {},
   "outputs": [
    {
     "name": "stdout",
     "output_type": "stream",
     "text": [
      "d1\t#e   \td2\t#e   \t#int \t %1  \t %2  \n",
      "0 \t522  \t1 \t528  \t522  \t1.000\t0.989\n",
      "0 \t522  \t2 \t556  \t522  \t1.000\t0.939\n",
      "1 \t528  \t2 \t556  \t528  \t1.000\t0.950\n",
      "\n",
      "triple intersection: 522\t1.000\t0.989\t0.939\n"
     ]
    }
   ],
   "source": [
    "check_intersections([figer_on_bbn, figer_on_onto, figer_on_choi])"
   ]
  },
  {
   "cell_type": "markdown",
   "id": "moral-delivery",
   "metadata": {},
   "source": [
    "# Choi"
   ]
  },
  {
   "cell_type": "code",
   "execution_count": 45,
   "id": "veterinary-fifth",
   "metadata": {},
   "outputs": [],
   "source": [
    "on_bbn_path = mapping_base_path + 'test_choi_into_BBN.json'\n",
    "on_onto_path = mapping_base_path + 'test_choi_into_Onto.json'\n",
    "on_figer_path = mapping_base_path + 'test_choi_into_figer.json'"
   ]
  },
  {
   "cell_type": "code",
   "execution_count": 46,
   "id": "funny-angle",
   "metadata": {},
   "outputs": [],
   "source": [
    "choi_on_bbn = load_dataset(on_bbn_path)\n",
    "choi_on_onto = load_dataset(on_onto_path)\n",
    "choi_on_figer = load_dataset(on_figer_path)"
   ]
  },
  {
   "cell_type": "code",
   "execution_count": 47,
   "id": "racial-proceeding",
   "metadata": {},
   "outputs": [
    {
     "name": "stdout",
     "output_type": "stream",
     "text": [
      "d1\t#e   \td2\t#e   \t#int \t %1  \t %2  \n",
      "0 \t1475 \t1 \t1537 \t1438 \t0.975\t0.936\n",
      "0 \t1475 \t2 \t1618 \t1460 \t0.990\t0.902\n",
      "1 \t1537 \t2 \t1618 \t1517 \t0.987\t0.938\n",
      "\n",
      "triple intersection: 1438\t0.975\t0.936\t0.889\n"
     ]
    }
   ],
   "source": [
    "check_intersections([choi_on_bbn, choi_on_onto, choi_on_figer])"
   ]
  },
  {
   "cell_type": "code",
   "execution_count": null,
   "id": "daily-failing",
   "metadata": {},
   "outputs": [],
   "source": []
  }
 ],
 "metadata": {
  "kernelspec": {
   "display_name": "Python 3",
   "language": "python",
   "name": "python3"
  },
  "language_info": {
   "codemirror_mode": {
    "name": "ipython",
    "version": 3
   },
   "file_extension": ".py",
   "mimetype": "text/x-python",
   "name": "python",
   "nbconvert_exporter": "python",
   "pygments_lexer": "ipython3",
   "version": "3.6.9"
  }
 },
 "nbformat": 4,
 "nbformat_minor": 5
}
