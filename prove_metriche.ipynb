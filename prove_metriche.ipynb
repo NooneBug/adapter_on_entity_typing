{
 "metadata": {
  "language_info": {
   "codemirror_mode": {
    "name": "ipython",
    "version": 3
   },
   "file_extension": ".py",
   "mimetype": "text/x-python",
   "name": "python",
   "nbconvert_exporter": "python",
   "pygments_lexer": "ipython3",
   "version": "3.6.9"
  },
  "orig_nbformat": 4,
  "kernelspec": {
   "name": "python3",
   "display_name": "Python 3.6.9 64-bit ('venv': venv)"
  },
  "interpreter": {
   "hash": "2c6596a9ac4f669cc3b106cd8282ce84bd724dcb89e241cc61f795ceaa4c1774"
  }
 },
 "nbformat": 4,
 "nbformat_minor": 2,
 "cells": [
  {
   "cell_type": "code",
   "execution_count": 18,
   "metadata": {},
   "outputs": [],
   "source": [
    "import torch\n",
    "import numpy as np"
   ]
  },
  {
   "cell_type": "code",
   "execution_count": 73,
   "metadata": {},
   "outputs": [],
   "source": [
    "groundtruth = [['A'], ['A', 'B'], ['A', 'B', 'C']]\n",
    "predictions = [['A'], ['B', 'C'], ['A', 'C']]"
   ]
  },
  {
   "cell_type": "code",
   "execution_count": 74,
   "metadata": {},
   "outputs": [],
   "source": [
    "from collections import defaultdict\n",
    "\n",
    "correct_counter = defaultdict(int)\n",
    "prediction_counter = defaultdict(int)\n",
    "groundtruth_counter = defaultdict(int)"
   ]
  },
  {
   "cell_type": "code",
   "execution_count": 75,
   "metadata": {},
   "outputs": [],
   "source": [
    "for pred_labels, true_labels in zip(predictions, groundtruth):\n",
    "    for p in pred_labels:\n",
    "        if p in true_labels:\n",
    "            correct_counter[p] += 1\n",
    "        prediction_counter[p] += 1\n",
    "    for t in true_labels:\n",
    "        groundtruth_counter[t] += 1"
   ]
  },
  {
   "cell_type": "code",
   "execution_count": 76,
   "metadata": {},
   "outputs": [
    {
     "output_type": "execute_result",
     "data": {
      "text/plain": [
       "defaultdict(int, {'A': 2, 'B': 1, 'C': 1})"
      ]
     },
     "metadata": {},
     "execution_count": 76
    }
   ],
   "source": [
    "correct_counter"
   ]
  },
  {
   "cell_type": "code",
   "execution_count": 77,
   "metadata": {},
   "outputs": [
    {
     "output_type": "execute_result",
     "data": {
      "text/plain": [
       "defaultdict(int, {'A': 2, 'B': 1, 'C': 2})"
      ]
     },
     "metadata": {},
     "execution_count": 77
    }
   ],
   "source": [
    "prediction_counter"
   ]
  },
  {
   "cell_type": "code",
   "execution_count": 78,
   "metadata": {},
   "outputs": [
    {
     "output_type": "execute_result",
     "data": {
      "text/plain": [
       "defaultdict(int, {'A': 3, 'B': 2, 'C': 1})"
      ]
     },
     "metadata": {},
     "execution_count": 78
    }
   ],
   "source": [
    "groundtruth_counter"
   ]
  },
  {
   "cell_type": "code",
   "execution_count": 79,
   "metadata": {},
   "outputs": [
    {
     "output_type": "execute_result",
     "data": {
      "text/plain": [
       "0.8"
      ]
     },
     "metadata": {},
     "execution_count": 79
    }
   ],
   "source": [
    "micro_precision = sum(correct_counter.values()) / sum(prediction_counter.values())\n",
    "micro_precision"
   ]
  },
  {
   "cell_type": "code",
   "execution_count": 80,
   "metadata": {},
   "outputs": [
    {
     "output_type": "execute_result",
     "data": {
      "text/plain": [
       "0.6666666666666666"
      ]
     },
     "metadata": {},
     "execution_count": 80
    }
   ],
   "source": [
    "micro_recall = sum(correct_counter.values()) / sum(groundtruth_counter.values())\n",
    "micro_recall"
   ]
  },
  {
   "cell_type": "code",
   "execution_count": 81,
   "metadata": {},
   "outputs": [
    {
     "output_type": "execute_result",
     "data": {
      "text/plain": [
       "{'A': 1.0, 'B': 1.0, 'C': 0.5}"
      ]
     },
     "metadata": {},
     "execution_count": 81
    }
   ],
   "source": [
    "macro_types_precision = {t: correct_counter[t]/prediction_counter[t] for t in ['A', 'B', 'C']}\n",
    "macro_types_precision"
   ]
  },
  {
   "cell_type": "code",
   "execution_count": 82,
   "metadata": {},
   "outputs": [
    {
     "output_type": "execute_result",
     "data": {
      "text/plain": [
       "0.8333333333333334"
      ]
     },
     "metadata": {},
     "execution_count": 82
    }
   ],
   "source": [
    "macro_types_precision = np.mean(list(macro_types_precision.values()))\n",
    "macro_types_precision"
   ]
  },
  {
   "cell_type": "code",
   "execution_count": 83,
   "metadata": {},
   "outputs": [
    {
     "output_type": "execute_result",
     "data": {
      "text/plain": [
       "{'A': 0.6666666666666666, 'B': 0.5, 'C': 1.0}"
      ]
     },
     "metadata": {},
     "execution_count": 83
    }
   ],
   "source": [
    "macro_types_recall = {t: correct_counter[t]/groundtruth_counter[t] for t in ['A', 'B', 'C']}\n",
    "macro_types_recall"
   ]
  },
  {
   "cell_type": "code",
   "execution_count": 84,
   "metadata": {},
   "outputs": [
    {
     "output_type": "execute_result",
     "data": {
      "text/plain": [
       "0.7222222222222222"
      ]
     },
     "metadata": {},
     "execution_count": 84
    }
   ],
   "source": [
    "macro_types_recall = np.mean(list(macro_types_recall.values()))\n",
    "macro_types_recall"
   ]
  },
  {
   "cell_type": "code",
   "execution_count": 85,
   "metadata": {},
   "outputs": [
    {
     "output_type": "execute_result",
     "data": {
      "text/plain": [
       "[1.0, 0.5, 1.0]"
      ]
     },
     "metadata": {},
     "execution_count": 85
    }
   ],
   "source": [
    "macro_examples_precision = [len(set(p).intersection(set(t)))/len(p) for p, t in zip(predictions, groundtruth)]\n",
    "macro_examples_precision"
   ]
  },
  {
   "cell_type": "code",
   "execution_count": 86,
   "metadata": {},
   "outputs": [
    {
     "output_type": "execute_result",
     "data": {
      "text/plain": [
       "0.8333333333333334"
      ]
     },
     "metadata": {},
     "execution_count": 86
    }
   ],
   "source": [
    "macro_examples_precision = np.mean(macro_examples_precision)\n",
    "macro_examples_precision"
   ]
  },
  {
   "cell_type": "code",
   "execution_count": 87,
   "metadata": {},
   "outputs": [
    {
     "output_type": "execute_result",
     "data": {
      "text/plain": [
       "[1.0, 0.5, 0.6666666666666666]"
      ]
     },
     "metadata": {},
     "execution_count": 87
    }
   ],
   "source": [
    "macro_examples_recall = [len(set(p).intersection(set(t)))/len(t) for p, t in zip(predictions, groundtruth)]\n",
    "macro_examples_recall"
   ]
  },
  {
   "cell_type": "code",
   "execution_count": 88,
   "metadata": {},
   "outputs": [
    {
     "output_type": "execute_result",
     "data": {
      "text/plain": [
       "0.7222222222222222"
      ]
     },
     "metadata": {},
     "execution_count": 88
    }
   ],
   "source": [
    "macro_examples_recall = np.mean(macro_examples_recall)\n",
    "macro_examples_recall"
   ]
  },
  {
   "cell_type": "code",
   "execution_count": 30,
   "metadata": {},
   "outputs": [],
   "source": [
    "groundtruth = [['A'], ['A', 'B'], ['A', 'B', 'C']]\n",
    "predictions = [['A'], ['B', 'C'], ['A', 'C']]\n",
    "\n",
    "one_h_groundtruth = torch.tensor([[1, 0, 0], [1, 1, 0], [1, 1, 1]])\n",
    "one_h_predictions = torch.tensor([[1, 0, 0], [0, 1, 1], [1, 0, 1]])"
   ]
  },
  {
   "cell_type": "code",
   "execution_count": 31,
   "metadata": {},
   "outputs": [],
   "source": [
    "one_h_sum = one_h_groundtruth + one_h_predictions\n",
    "one_h_dif = one_h_groundtruth - one_h_predictions"
   ]
  },
  {
   "cell_type": "code",
   "execution_count": 32,
   "metadata": {},
   "outputs": [
    {
     "output_type": "execute_result",
     "data": {
      "text/plain": [
       "tensor([[2, 0, 0],\n",
       "        [1, 2, 1],\n",
       "        [2, 1, 2]])"
      ]
     },
     "metadata": {},
     "execution_count": 32
    }
   ],
   "source": [
    "one_h_sum"
   ]
  },
  {
   "cell_type": "code",
   "execution_count": 33,
   "metadata": {},
   "outputs": [
    {
     "output_type": "execute_result",
     "data": {
      "text/plain": [
       "tensor([[ 0,  0,  0],\n",
       "        [ 1,  0, -1],\n",
       "        [ 0,  1,  0]])"
      ]
     },
     "metadata": {},
     "execution_count": 33
    }
   ],
   "source": [
    "one_h_dif"
   ]
  },
  {
   "cell_type": "code",
   "execution_count": 37,
   "metadata": {},
   "outputs": [
    {
     "output_type": "execute_result",
     "data": {
      "text/plain": [
       "tensor(5)"
      ]
     },
     "metadata": {},
     "execution_count": 37
    }
   ],
   "source": [
    "correct + torch.sum(one_h_dif == -1)"
   ]
  },
  {
   "cell_type": "code",
   "execution_count": 40,
   "metadata": {},
   "outputs": [
    {
     "output_type": "execute_result",
     "data": {
      "text/plain": [
       "tensor(0.8000)"
      ]
     },
     "metadata": {},
     "execution_count": 40
    }
   ],
   "source": [
    "correct = torch.sum(one_h_sum == 2)\n",
    "predicted = correct + torch.sum(one_h_dif == -1)\n",
    "groundtruth = correct + torch.sum(one_h_dif == 1)\n",
    "micro_precision_tensor = correct/predicted\n",
    "micro_precision_tensor"
   ]
  },
  {
   "cell_type": "code",
   "execution_count": 41,
   "metadata": {},
   "outputs": [
    {
     "output_type": "execute_result",
     "data": {
      "text/plain": [
       "tensor(0.6667)"
      ]
     },
     "metadata": {},
     "execution_count": 41
    }
   ],
   "source": [
    "micro_recall_tensor = correct/groundtruth\n",
    "micro_recall_tensor"
   ]
  },
  {
   "cell_type": "code",
   "execution_count": 55,
   "metadata": {},
   "outputs": [
    {
     "output_type": "execute_result",
     "data": {
      "text/plain": [
       "tensor([3, 2, 1])"
      ]
     },
     "metadata": {},
     "execution_count": 55
    }
   ],
   "source": [
    "torch.sum(one_h_sum == 2, dim=0) + torch.sum(one_h_dif == 1, dim=0)"
   ]
  },
  {
   "cell_type": "code",
   "execution_count": 56,
   "metadata": {},
   "outputs": [],
   "source": [
    "predicted_types = torch.sum(one_h_sum == 2, dim=0) + torch.sum(one_h_dif == -1, dim=0)\n",
    "correct_types = torch.sum(one_h_sum == 2, dim = 0)\n",
    "groundtruth_types = torch.sum(one_h_sum == 2, dim=0) + torch.sum(one_h_dif == 1, dim=0)"
   ]
  },
  {
   "cell_type": "code",
   "execution_count": 57,
   "metadata": {},
   "outputs": [
    {
     "output_type": "execute_result",
     "data": {
      "text/plain": [
       "tensor([2, 1, 2])"
      ]
     },
     "metadata": {},
     "execution_count": 57
    }
   ],
   "source": [
    "predicted_types"
   ]
  },
  {
   "cell_type": "code",
   "execution_count": 58,
   "metadata": {},
   "outputs": [
    {
     "output_type": "execute_result",
     "data": {
      "text/plain": [
       "tensor([2, 1, 1])"
      ]
     },
     "metadata": {},
     "execution_count": 58
    }
   ],
   "source": [
    "correct_types"
   ]
  },
  {
   "cell_type": "code",
   "execution_count": 59,
   "metadata": {},
   "outputs": [
    {
     "output_type": "execute_result",
     "data": {
      "text/plain": [
       "tensor([3, 2, 1])"
      ]
     },
     "metadata": {},
     "execution_count": 59
    }
   ],
   "source": [
    "groundtruth_types"
   ]
  },
  {
   "cell_type": "code",
   "execution_count": 62,
   "metadata": {},
   "outputs": [
    {
     "output_type": "execute_result",
     "data": {
      "text/plain": [
       "tensor(0.8333)"
      ]
     },
     "metadata": {},
     "execution_count": 62
    }
   ],
   "source": [
    "macro_types_precision_tensor = torch.mean(correct_types/predicted_types)\n",
    "macro_types_precision_tensor"
   ]
  },
  {
   "cell_type": "code",
   "execution_count": 63,
   "metadata": {},
   "outputs": [
    {
     "output_type": "execute_result",
     "data": {
      "text/plain": [
       "tensor(0.7222)"
      ]
     },
     "metadata": {},
     "execution_count": 63
    }
   ],
   "source": [
    "macro_types_recall_tensor = torch.mean(correct_types/groundtruth_types)\n",
    "macro_types_recall_tensor"
   ]
  },
  {
   "cell_type": "code",
   "execution_count": 64,
   "metadata": {},
   "outputs": [],
   "source": [
    "predicted_examples = torch.sum(one_h_sum == 2, dim=1) + torch.sum(one_h_dif == -1, dim=1)\n",
    "correct_examples = torch.sum(one_h_sum == 2, dim = 1)\n",
    "groundtruth_examples = torch.sum(one_h_sum == 2, dim=1) + torch.sum(one_h_dif == 1, dim=1)"
   ]
  },
  {
   "cell_type": "code",
   "execution_count": 65,
   "metadata": {},
   "outputs": [
    {
     "output_type": "execute_result",
     "data": {
      "text/plain": [
       "tensor([1, 2, 2])"
      ]
     },
     "metadata": {},
     "execution_count": 65
    }
   ],
   "source": [
    "predicted_examples"
   ]
  },
  {
   "cell_type": "code",
   "execution_count": 66,
   "metadata": {},
   "outputs": [
    {
     "output_type": "execute_result",
     "data": {
      "text/plain": [
       "tensor([1, 1, 2])"
      ]
     },
     "metadata": {},
     "execution_count": 66
    }
   ],
   "source": [
    "correct_examples"
   ]
  },
  {
   "cell_type": "code",
   "execution_count": 67,
   "metadata": {},
   "outputs": [
    {
     "output_type": "execute_result",
     "data": {
      "text/plain": [
       "tensor([1, 2, 3])"
      ]
     },
     "metadata": {},
     "execution_count": 67
    }
   ],
   "source": [
    "groundtruth_examples"
   ]
  },
  {
   "cell_type": "code",
   "execution_count": 69,
   "metadata": {},
   "outputs": [
    {
     "output_type": "execute_result",
     "data": {
      "text/plain": [
       "tensor(0.8333)"
      ]
     },
     "metadata": {},
     "execution_count": 69
    }
   ],
   "source": [
    "macro_examples_precision_tensor = torch.mean(correct_examples/predicted_examples)\n",
    "macro_examples_precision_tensor"
   ]
  },
  {
   "cell_type": "code",
   "execution_count": 70,
   "metadata": {},
   "outputs": [
    {
     "output_type": "execute_result",
     "data": {
      "text/plain": [
       "tensor(0.7222)"
      ]
     },
     "metadata": {},
     "execution_count": 70
    }
   ],
   "source": [
    "macro_examples_recall_tensor = torch.mean(correct_examples/groundtruth_examples)\n",
    "macro_examples_recall_tensor"
   ]
  },
  {
   "cell_type": "code",
   "execution_count": 103,
   "metadata": {},
   "outputs": [
    {
     "output_type": "execute_result",
     "data": {
      "text/plain": [
       "tensor(1)"
      ]
     },
     "metadata": {},
     "execution_count": 103
    }
   ],
   "source": [
    "torch.sum(torch.sum(torch.tensor([[0, 1], [0, 1], [0, 1]]), dim = 0) > 0)"
   ]
  },
  {
   "cell_type": "code",
   "execution_count": 101,
   "metadata": {},
   "outputs": [
    {
     "output_type": "execute_result",
     "data": {
      "text/plain": [
       "tensor(2)"
      ]
     },
     "metadata": {},
     "execution_count": 101
    }
   ],
   "source": [
    "torch.sum(torch.sum(torch.tensor([[1, 1], [0, 1], [0, 1]]), dim = 0) > 0)"
   ]
  },
  {
   "cell_type": "code",
   "execution_count": null,
   "metadata": {},
   "outputs": [],
   "source": []
  }
 ]
}